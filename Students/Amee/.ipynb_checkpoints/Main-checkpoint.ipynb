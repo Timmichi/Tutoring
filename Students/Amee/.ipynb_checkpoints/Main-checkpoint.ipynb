{
 "cells": [
  {
   "cell_type": "code",
   "execution_count": 70,
   "metadata": {
    "scrolled": true
   },
   "outputs": [],
   "source": []
  },
  {
   "cell_type": "code",
   "execution_count": 71,
   "metadata": {},
   "outputs": [],
   "source": [
    "def clean_series(index_file):\n",
    "    raw_data = read_series(index_file)\n",
    "    s = \".\"\n",
    "    d = \"DATE\"\n",
    "    remove_list = []\n",
    "    for index, data in enumerate(raw_data.copy()):    \n",
    "        if data[1] == s or data[0] == d:  \n",
    "            remove_list.append(index) # removes \"DATE\" row and removes \".\" \n",
    "            continue\n",
    "        date = data[0]\n",
    "        price = float(data[1])\n",
    "        raw_data[index] = (date, price)\n",
    "    remove_list.sort(reverse=True)\n",
    "    for i in remove_list:\n",
    "        raw_data.pop(i)\n",
    "    return raw_data"
   ]
  },
  {
   "cell_type": "code",
   "execution_count": 82,
   "metadata": {},
   "outputs": [
    {
     "ename": "SyntaxError",
     "evalue": "invalid syntax (<ipython-input-82-989118ad2f02>, line 19)",
     "output_type": "error",
     "traceback": [
      "\u001b[1;36m  File \u001b[1;32m\"<ipython-input-82-989118ad2f02>\"\u001b[1;36m, line \u001b[1;32m19\u001b[0m\n\u001b[1;33m    ax.plot(,)\u001b[0m\n\u001b[1;37m            ^\u001b[0m\n\u001b[1;31mSyntaxError\u001b[0m\u001b[1;31m:\u001b[0m invalid syntax\n"
     ]
    }
   ],
   "source": [
    "import matplotlib.pyplot as plt\n",
    "import matplotlib.dates as mdates\n",
    "\n",
    "def plot_prices(index_file):\n",
    "    \"\"\"\n",
    "    Input: String index_file corresponding to a csv file\n",
    "    containing financial time series data\n",
    "    \n",
    "    Output: matplotlib figure consisting of a line plot \n",
    "    of prices from cleaned series\n",
    "    y-axis should have appropriate label\n",
    "    \"\"\"\n",
    "    data_set = clean_series(index_file)\n",
    "    x_data = [data[0] for data in data_set]\n",
    "    y_data = [data[1] for data in data_set]\n",
    "    print(x_data, y_data)\n",
    "    \n",
    "    fig, ax = plt.subplots(2)\n",
    "    print(ax)\n",
    "    ax.plot(,)\n",
    "    \n",
    "    ax.set(xlabel=\"Date\", ylabel=\"Price\")\n",
    "    ax.set_title(\"Amee Plot in matplotlib\")\n",
    "    plt.show()\n",
    "    return fig\n",
    "\n",
    "FILE_NAME = \"DJIA_34.csv\"\n",
    "plot_prices(FILE_NAME)"
   ]
  },
  {
   "cell_type": "code",
   "execution_count": null,
   "metadata": {},
   "outputs": [],
   "source": []
  }
 ],
 "metadata": {
  "kernelspec": {
   "display_name": "Python 3",
   "language": "python",
   "name": "python3"
  },
  "language_info": {
   "codemirror_mode": {
    "name": "ipython",
    "version": 3
   },
   "file_extension": ".py",
   "mimetype": "text/x-python",
   "name": "python",
   "nbconvert_exporter": "python",
   "pygments_lexer": "ipython3",
   "version": "3.9.6"
  }
 },
 "nbformat": 4,
 "nbformat_minor": 4
}
