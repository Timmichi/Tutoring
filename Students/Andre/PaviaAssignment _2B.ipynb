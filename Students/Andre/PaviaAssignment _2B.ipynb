{
 "cells": [
  {
   "cell_type": "markdown",
   "metadata": {},
   "source": [
    "# DSS 615 - Fall 2021 Assignments\n",
    "## Assignment-2B\n",
    "### Intro to Data Science: Measures of Central Tendency and Dispersion\n",
    "Modified: 8/21/2021\n",
    "\n",
    "Submit entire notebook as one file. Note there are several exercises in this assignment. **Remember to add your last name to the file name.** \n"
   ]
  },
  {
   "cell_type": "markdown",
   "metadata": {},
   "source": [
    "Student: John Michl"
   ]
  },
  {
   "cell_type": "markdown",
   "metadata": {},
   "source": [
    "# 1 - Reuse Data Set\n",
    "Use the same data set you used in Assignment 1B. That data are pasted below but assigned to a new variable called `cases`."
   ]
  },
  {
   "cell_type": "markdown",
   "metadata": {},
   "source": [
    "* **State:**  PA\n",
    "* **Period:**  July 1 - July 31, 2020\n",
    "* **Source:**  https://covidtracking.com/data/download"
   ]
  },
  {
   "cell_type": "code",
   "execution_count": 1,
   "metadata": {},
   "outputs": [],
   "source": [
    "# Create variable 'cases' - same data as previous week but new variable name (pos list from before)\n",
    "# Do not change brackets!\n",
    "\n",
    "cases = [636, 832, 667, 634, 479, 450, 995, 849, 719, 1009, 813, 577, 476, 929, 994, 781, 1032, 763, 786, 711, 1027, 631, 962, 1213, 1054, 800, 839, 1120, 834, 860, 970]\n",
    "\n",
    "# Remember to RUN this and all other cells with shift-Enter"
   ]
  },
  {
   "cell_type": "code",
   "execution_count": 2,
   "metadata": {},
   "outputs": [
    {
     "data": {
      "text/plain": [
       "[636,\n",
       " 832,\n",
       " 667,\n",
       " 634,\n",
       " 479,\n",
       " 450,\n",
       " 995,\n",
       " 849,\n",
       " 719,\n",
       " 1009,\n",
       " 813,\n",
       " 577,\n",
       " 476,\n",
       " 929,\n",
       " 994,\n",
       " 781,\n",
       " 1032,\n",
       " 763,\n",
       " 786,\n",
       " 711,\n",
       " 1027,\n",
       " 631,\n",
       " 962,\n",
       " 1213,\n",
       " 1054,\n",
       " 800,\n",
       " 839,\n",
       " 1120,\n",
       " 834,\n",
       " 860,\n",
       " 970]"
      ]
     },
     "execution_count": 2,
     "metadata": {},
     "output_type": "execute_result"
    }
   ],
   "source": [
    "# show current value of cases by running this cell"
   ]
  },
  {
   "cell_type": "markdown",
   "metadata": {},
   "source": [
    "## Measures of Central Tendency\n",
    "Calculate the measures of central tendency demonstrated in section 3.17. "
   ]
  },
  {
   "cell_type": "markdown",
   "metadata": {},
   "source": [
    "### Mean Cases\n",
    "* Calculate the mean value of cases using the `sum()` and `len()` functions. \n",
    "* Start by calculating the total cases then divided the result by the days in the period or elements in the list"
   ]
  },
  {
   "cell_type": "code",
   "execution_count": 3,
   "metadata": {},
   "outputs": [
    {
     "name": "stdout",
     "output_type": "stream",
     "text": [
      "25442\n",
      "31\n",
      "820.7096774193549\n"
     ]
    }
   ],
   "source": [
    "# mean - by long calculation\n",
    "total = sum(cases)\n",
    "print(sum(cases))\n",
    "elements = len(cases)\n",
    "print(len(cases))\n",
    "mean = total/elements\n",
    "print(mean)"
   ]
  },
  {
   "cell_type": "markdown",
   "metadata": {},
   "source": [
    "## Mean, Median, Mode using the Statistics Module\n",
    "For each, create variables with a meaningful names (e.g. caseMean) and assign the value to it. "
   ]
  },
  {
   "cell_type": "code",
   "execution_count": 4,
   "metadata": {},
   "outputs": [],
   "source": [
    "# Remember to import the statistics module\n",
    "import statistics\n"
   ]
  },
  {
   "cell_type": "code",
   "execution_count": 5,
   "metadata": {},
   "outputs": [
    {
     "data": {
      "text/plain": [
       "820.7096774193549"
      ]
     },
     "execution_count": 5,
     "metadata": {},
     "output_type": "execute_result"
    }
   ],
   "source": [
    "# Use the appropriate functions from the statitics module\n",
    "# mean\n",
    "statistics.mean(cases)\n",
    "\n"
   ]
  },
  {
   "cell_type": "code",
   "execution_count": 6,
   "metadata": {},
   "outputs": [
    {
     "data": {
      "text/plain": [
       "832"
      ]
     },
     "execution_count": 6,
     "metadata": {},
     "output_type": "execute_result"
    }
   ],
   "source": [
    "# median\n",
    "statistics.median(cases)\n"
   ]
  },
  {
   "cell_type": "code",
   "execution_count": 7,
   "metadata": {},
   "outputs": [
    {
     "data": {
      "text/plain": [
       "636"
      ]
     },
     "execution_count": 7,
     "metadata": {},
     "output_type": "execute_result"
    }
   ],
   "source": [
    "# mode  -- If you get an error, describe the condition that most likely lead to that error.\n",
    "# It has something to do with your data set.\n",
    "statistics.mode(cases)\n",
    "\n"
   ]
  },
  {
   "cell_type": "markdown",
   "metadata": {},
   "source": [
    "Why might you get an error with mode on this exercise? *(Put your answer in the Markdown cell.)\n",
    "\n",
    "**DOUBLE-CLICK HERE TO ADD YOUR ANSWER**\n",
    "The reason there might be an error is because there is no number that is repeated in the data set. the default result is the first number."
   ]
  },
  {
   "cell_type": "code",
   "execution_count": 8,
   "metadata": {},
   "outputs": [
    {
     "name": "stdout",
     "output_type": "stream",
     "text": [
      "820.7096774193549\n",
      "820.7096774193549\n",
      "Result is true\n"
     ]
    }
   ],
   "source": [
    "# Validate the two approachs to the mean calculations by \n",
    "# printing out each mean and then use the is equal comparison operator \n",
    "# to compare the two. ( == ). Write an IF statement that displays\n",
    "# a different statement if the result is True or False\n",
    "\n",
    "# mean\n",
    "print(mean)\n",
    "print(statistics.mean(cases))\n",
    "if mean == statistics.mean(cases):\n",
    "    print('Result is true')\n",
    "    \n"
   ]
  },
  {
   "cell_type": "markdown",
   "metadata": {},
   "source": [
    "### Median Cases\n",
    "* How could you calculate the median cases without using the function in the statistics module? \n",
    "* Perhaps sort the list and find the middle value or the average of two middle values?\n",
    "* Describe your approach in the following Markdown cell then try to complete as many of the pieces as possible.\n",
    "* (Note, try your best but note there are some steps you may not have learned yet. As long as there's effort, there will be no deductions on this cell.)\n"
   ]
  },
  {
   "cell_type": "markdown",
   "metadata": {},
   "source": []
  },
  {
   "cell_type": "markdown",
   "metadata": {},
   "source": [
    "I believe the best way to find the median without the statistics module is to use the *len* function and also use the *sort*  function. Then we need to calculate if the number is even or odd. If the number is even we take the two middle numbers in the list and take the average. if the number is odd we need to find the middle number from the list. we would need an *if* and *else* statement. I put question marks below because I do not know how to calculate the average of the two middle numbers."
   ]
  },
  {
   "cell_type": "code",
   "execution_count": 9,
   "metadata": {},
   "outputs": [
    {
     "name": "stdout",
     "output_type": "stream",
     "text": [
      "832\n"
     ]
    }
   ],
   "source": [
    "# median - by long calculation\n",
    "elements =len(cases)\n",
    "cases.sort()\n",
    "if elements % 2 == 0:\n",
    "    ?\n",
    "    ?\n",
    "else:\n",
    "    median = cases[elements//2]\n",
    "print(median)"
   ]
  },
  {
   "cell_type": "markdown",
   "metadata": {},
   "source": [
    "### Mode Cases\n",
    "* How could you calculate the median cases without using the function in the statistics module? \n",
    "* Perhaps sort the list and find the middle value or the average of two middle values?\n",
    "* Describe your approach in the following Markdown cell then try to complete as many of the pieces as possible.\n",
    "* (Note, since there's probably no mode in this data set, just describe your approach. Don't try to code it. If you want to try to code it, create a smaller data set with a known mode."
   ]
  },
  {
   "cell_type": "markdown",
   "metadata": {},
   "source": [
    "**YOUR_IDEAS_HERE -- use bullets and short sentences or phrases to describe the approach**\n",
    "My approach would be to sort the code. Print it pout and look for the mlost common number. I do not know if there is a way to search for duplicates in a data set as of yet. If there is a way to search for duplicates in a data set I would utilize it. \n",
    "There is probably a way to use an *if* statement that will let us print if a number is repeated. We could also use an input function with a *while* statement that will help the user input a number from the data set until you figure out the repeated number.\n"
   ]
  },
  {
   "cell_type": "markdown",
   "metadata": {},
   "source": [
    "## Measures of Dispersion\n",
    "Calculate the measures of dispersion demonstrated in section 3.17. For each, create variables with a meaningful names (e.g. casepVar) and assign the value to it. "
   ]
  },
  {
   "cell_type": "code",
   "execution_count": 10,
   "metadata": {},
   "outputs": [
    {
     "data": {
      "text/plain": [
       "36383.75442247659"
      ]
     },
     "execution_count": 10,
     "metadata": {},
     "output_type": "execute_result"
    }
   ],
   "source": [
    "# Calculate and show the population variance (ok to use the statistics module)\n",
    "import statistics\n",
    "statistics.pvariance(cases)"
   ]
  },
  {
   "cell_type": "code",
   "execution_count": 11,
   "metadata": {},
   "outputs": [
    {
     "data": {
      "text/plain": [
       "190.74526055049594"
      ]
     },
     "execution_count": 11,
     "metadata": {},
     "output_type": "execute_result"
    }
   ],
   "source": [
    "# Calculate and show the standard deviation (ok to use the statistics module)\n",
    "import statistics \n",
    "statistics.pstdev(cases)\n",
    "import math\n",
    "math.sqrt(statistics.pvariance(cases))"
   ]
  },
  {
   "cell_type": "markdown",
   "metadata": {},
   "source": [
    "What to the measures of dispersion tell you about this data set? (Enter as Markdown in the next cell."
   ]
  },
  {
   "cell_type": "markdown",
   "metadata": {},
   "source": [
    "The measures of dispersion of this data set informm us that there is a lot of variability in this data set. The values in the data set are very spread out because the population variance and population srtandard deviation have quite large values."
   ]
  },
  {
   "cell_type": "markdown",
   "metadata": {},
   "source": [
    "## Reminder:\n",
    "*Before submitting:*\n",
    "* Run all cells\n",
    "* Save the file\n",
    "* Be sure your last name is part of the file name"
   ]
  }
 ],
 "metadata": {
  "kernelspec": {
   "display_name": "Python 3",
   "language": "python",
   "name": "python3"
  },
  "language_info": {
   "codemirror_mode": {
    "name": "ipython",
    "version": 3
   },
   "file_extension": ".py",
   "mimetype": "text/x-python",
   "name": "python",
   "nbconvert_exporter": "python",
   "pygments_lexer": "ipython3",
   "version": "3.9.6"
  },
  "varInspector": {
   "cols": {
    "lenName": 16,
    "lenType": 16,
    "lenVar": 40
   },
   "kernels_config": {
    "python": {
     "delete_cmd_postfix": "",
     "delete_cmd_prefix": "del ",
     "library": "var_list.py",
     "varRefreshCmd": "print(var_dic_list())"
    },
    "r": {
     "delete_cmd_postfix": ") ",
     "delete_cmd_prefix": "rm(",
     "library": "var_list.r",
     "varRefreshCmd": "cat(var_dic_list()) "
    }
   },
   "types_to_exclude": [
    "module",
    "function",
    "builtin_function_or_method",
    "instance",
    "_Feature"
   ],
   "window_display": false
  }
 },
 "nbformat": 4,
 "nbformat_minor": 4
}
