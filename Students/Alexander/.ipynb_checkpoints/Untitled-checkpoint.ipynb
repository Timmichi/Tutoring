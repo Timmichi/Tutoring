{
 "cells": [
  {
   "cell_type": "code",
   "execution_count": 14,
   "metadata": {},
   "outputs": [],
   "source": [
    "import pandas as pd\n",
    "# reading csv files\n",
    "# names = ['fLength','fWidth','fSize','fConc','fConc1','fAsym','fM3Long','fM3Trans', 'fAlpha', 'fDist', 'class']\n",
    "# names = [1,2,3,4,5,6,7,8,9,10]\n",
    "data =  pd.read_csv('magic04.data', names=names)"
   ]
  },
  {
   "cell_type": "code",
   "execution_count": 147,
   "metadata": {},
   "outputs": [
    {
     "data": {
      "text/plain": [
       "48.680575"
      ]
     },
     "execution_count": 147,
     "metadata": {},
     "output_type": "execute_result"
    }
   ],
   "source": [
    "def maximum(filename, attribute_number):\n",
    "    #Input: Filename a string and the attribute number 1 to 10\n",
    "    #Output: Returns maximum value\n",
    "    arge = attribute_number\n",
    "    names = [1,2,3,4,5,6,7,8,9,10,11] \n",
    "    file=pd.read_csv(filename, names=names)\n",
    "    fileTitle = file.iloc[:,arge-1:arge]\n",
    "    return pd.to_numeric(fileTitle[arge]).max() \n",
    "\n",
    "def minimum(filename, attribute_number):\n",
    "    arge = attribute_number\n",
    "    names = [1,2,3,4,5,6,7,8,9,10,11] \n",
    "    file=pd.read_csv(filename, names=names)\n",
    "    fileTitle = file.iloc[:,arge-1:arge]\n",
    "    return pd.to_numeric(fileTitle[arge]).min()\n",
    "\n",
    "def count_objects(filename, attribute_number):\n",
    "    arge = attribute_number\n",
    "    names = [1,2,3,4,5,6,7,8,9,10,11] \n",
    "    file=pd.read_csv(filename, names=names)\n",
    "    fileTitle = file.iloc[:,arge-1:arge]\n",
    "    return fileTitle[arge].count()\n",
    "\n",
    "\n",
    "def median(filename, attribute_number):\n",
    "    arge = attribute_number\n",
    "    names = [1,2,3,4,5,6,7,8,9,10,11] \n",
    "    file=pd.read_csv(filename, names=names)\n",
    "    fileTitle = file.iloc[:,arge-1:arge]\n",
    "    return fileTitle[arge].median()\n",
    "\n",
    "def mean(filename, attribute_number):\n",
    "    arge = attribute_number\n",
    "    names = [1,2,3,4,5,6,7,8,9,10,11] \n",
    "    file=pd.read_csv(filename, names=names)\n",
    "    fileTitle = file.iloc[:,arge-1:arge]\n",
    "    return fileTitle[arge].mean()\n",
    "\n",
    "def st_deviation(filename, attribute_number):\n",
    "    arge = attribute_number\n",
    "    names = [1,2,3,4,5,6,7,8,9,10,11] \n",
    "    file=pd.read_csv(filename, names=names)\n",
    "    fileTitle = file.iloc[:,arge-1:arge]\n",
    "    return fileTitle[arge].std()\n",
    "\n",
    "def q1(filename, attribute_number):\n",
    "    arge = attribute_number\n",
    "    names = [1,2,3,4,5,6,7,8,9,10,11] \n",
    "    file=pd.read_csv(filename, names=names)\n",
    "    fileTitle = file.iloc[:,arge-1:arge]\n",
    "    return fileTitle[arge].quantile(0.25)\n",
    "\n",
    "def q3(filename, attribute_number):\n",
    "    arge = attribute_number\n",
    "    names = [1,2,3,4,5,6,7,8,9,10,11] \n",
    "    file=pd.read_csv(filename, names=names)\n",
    "    fileTitle = file.iloc[:,arge-1:arge]\n",
    "    return fileTitle[arge].quantile(0.75)\n",
    "\n",
    "\n",
    "def iqr(filename, attribute_number):\n",
    "    arge = attribute_number\n",
    "    names = [1,2,3,4,5,6,7,8,9,10,11] \n",
    "    file=pd.read_csv(filename, names=names)\n",
    "    fileTitle = file.iloc[:,arge-1:arge]\n",
    "    iq_range = fileTitle[arge].quantile(0.75) - fileTitle[arge].quantile(0.25)\n",
    "    return iq_range\n",
    "\n",
    "\n",
    "iqr('magic04.data', 7)"
   ]
  },
  {
   "cell_type": "code",
   "execution_count": null,
   "metadata": {},
   "outputs": [],
   "source": []
  }
 ],
 "metadata": {
  "kernelspec": {
   "display_name": "Python 3",
   "language": "python",
   "name": "python3"
  },
  "language_info": {
   "codemirror_mode": {
    "name": "ipython",
    "version": 3
   },
   "file_extension": ".py",
   "mimetype": "text/x-python",
   "name": "python",
   "nbconvert_exporter": "python",
   "pygments_lexer": "ipython3",
   "version": "3.9.6"
  }
 },
 "nbformat": 4,
 "nbformat_minor": 4
}
