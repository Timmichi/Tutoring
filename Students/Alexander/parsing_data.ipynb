{
 "cells": [
  {
   "cell_type": "code",
   "execution_count": 14,
   "metadata": {},
   "outputs": [],
   "source": [
    "import pandas as pd\n",
    "# reading csv files\n",
    "# names = ['fLength','fWidth','fSize','fConc','fConc1','fAsym','fM3Long','fM3Trans', 'fAlpha', 'fDist', 'class']\n",
    "# names = [1,2,3,4,5,6,7,8,9,10]\n",
    "data =  pd.read_csv('magic04.data', names=names)"
   ]
  },
  {
   "cell_type": "code",
   "execution_count": 154,
   "metadata": {},
   "outputs": [
    {
     "name": "stdout",
     "output_type": "stream",
     "text": [
      "             1         2       3       4       5         6         7   \\\n",
      "0       28.7967   16.0021  2.6449  0.3918  0.1982   27.7004   22.0000   \n",
      "1       31.6036   11.7235  2.5185  0.5303  0.3773   26.2722   23.8238   \n",
      "2      162.0520  136.0310  4.0612  0.0374  0.0187  116.7410  -64.8580   \n",
      "3       23.8172    9.5728  2.3385  0.6147  0.3922   27.2107   -6.4633   \n",
      "4       75.1362   30.9205  3.1611  0.3168  0.1832   -5.5277   28.5525   \n",
      "...         ...       ...     ...     ...     ...       ...       ...   \n",
      "19015   21.3846   10.9170  2.6161  0.5857  0.3934   15.2618   11.5245   \n",
      "19016   28.9452    6.7020  2.2672  0.5351  0.2784   37.0816   13.1853   \n",
      "19017   75.4455   47.5305  3.4483  0.1417  0.0549   -9.3561   41.0562   \n",
      "19018  120.5135   76.9018  3.9939  0.0944  0.0683    5.8043  -93.5224   \n",
      "19019  187.1814   53.0014  3.2093  0.2876  0.1539 -167.3125 -168.4558   \n",
      "\n",
      "            8        9         10 11  \n",
      "0      -8.2027  40.0920   81.8828  g  \n",
      "1      -9.9574   6.3609  205.2610  g  \n",
      "2     -45.2160  76.9600  256.7880  g  \n",
      "3      -7.1513  10.4490  116.7370  g  \n",
      "4      21.8393   4.6480  356.4620  g  \n",
      "...        ...      ...       ... ..  \n",
      "19015   2.8766   2.4229  106.8258  h  \n",
      "19016  -2.9632  86.7975  247.4560  h  \n",
      "19017  -9.4662  30.2987  256.5166  h  \n",
      "19018 -63.8389  84.6874  408.3166  h  \n",
      "19019  31.4755  52.7310  272.3174  h  \n",
      "\n",
      "[19020 rows x 11 columns]\n"
     ]
    },
    {
     "data": {
      "text/plain": [
       "48.680575"
      ]
     },
     "execution_count": 154,
     "metadata": {},
     "output_type": "execute_result"
    }
   ],
   "source": [
    "def maximum(filename, attribute_number):\n",
    "    #Input: Filename a string and the attribute number 1 to 10\n",
    "    #Output: Returns maximum value\n",
    "    arge = attribute_number\n",
    "    names = [1,2,3,4,5,6,7,8,9,10,11] \n",
    "    file=pd.read_csv(filename, names=names)\n",
    "    fileTitle = file.iloc[:,arge-1:arge]\n",
    "    return pd.to_numeric(fileTitle[arge]).max() \n",
    "\n",
    "def minimum(filename, attribute_number):\n",
    "    arge = attribute_number\n",
    "    names = [1,2,3,4,5,6,7,8,9,10,11] \n",
    "    file=pd.read_csv(filename, names=names)\n",
    "    fileTitle = file.iloc[:,arge-1:arge]\n",
    "    return pd.to_numeric(fileTitle[arge]).min()\n",
    "\n",
    "def count_objects(filename, attribute_number):\n",
    "    arge = attribute_number\n",
    "    names = [1,2,3,4,5,6,7,8,9,10,11] \n",
    "    file=pd.read_csv(filename, names=names)\n",
    "    fileTitle = file.iloc[:,arge-1:arge]\n",
    "    return fileTitle[arge].count()\n",
    "\n",
    "\n",
    "def median(filename, attribute_number):\n",
    "    arge = attribute_number\n",
    "    names = [1,2,3,4,5,6,7,8,9,10,11] \n",
    "    file=pd.read_csv(filename, names=names)\n",
    "    fileTitle = file.iloc[:,arge-1:arge]\n",
    "    return fileTitle[arge].median()\n",
    "\n",
    "def mean(filename, attribute_number):\n",
    "    arge = attribute_number\n",
    "    names = [1,2,3,4,5,6,7,8,9,10,11] \n",
    "    file=pd.read_csv(filename, names=names)\n",
    "    fileTitle = file.iloc[:,arge-1:arge]\n",
    "    return fileTitle[arge].mean()\n",
    "\n",
    "def st_deviation(filename, attribute_number):\n",
    "    arge = attribute_number\n",
    "    names = [1,2,3,4,5,6,7,8,9,10,11] \n",
    "    file=pd.read_csv(filename, names=names)\n",
    "    fileTitle = file.iloc[:,arge-1:arge]\n",
    "    return fileTitle[arge].std()\n",
    "\n",
    "def q1(filename, attribute_number):\n",
    "    arge = attribute_number\n",
    "    names = [1,2,3,4,5,6,7,8,9,10,11] \n",
    "    file=pd.read_csv(filename, names=names)\n",
    "    fileTitle = file.iloc[:,arge-1:arge]\n",
    "    return fileTitle[arge].quantile(0.25)\n",
    "\n",
    "def q3(filename, attribute_number):\n",
    "    arge = attribute_number\n",
    "    names = [1,2,3,4,5,6,7,8,9,10,11] \n",
    "    file=pd.read_csv(filename, names=names)\n",
    "    fileTitle = file.iloc[:,arge-1:arge]\n",
    "    return fileTitle[arge].quantile(0.75)\n",
    "\n",
    "\n",
    "def iqr(filename, attribute_number):\n",
    "    arge = attribute_number\n",
    "    names = [1,2,3,4,5,6,7,8,9,10,11] \n",
    "    file=pd.read_csv(filename, names=names)\n",
    "    print(file)\n",
    "    fileTitle = file.iloc[:,arge-1:arge]\n",
    "    iq_range = fileTitle[arge].quantile(0.75) - fileTitle[arge].quantile(0.25)\n",
    "    return iq_range\n",
    "\n",
    "\n",
    "iqr('magic04.data', 7)"
   ]
  },
  {
   "cell_type": "code",
   "execution_count": null,
   "metadata": {},
   "outputs": [],
   "source": []
  }
 ],
 "metadata": {
  "kernelspec": {
   "display_name": "Python 3",
   "language": "python",
   "name": "python3"
  },
  "language_info": {
   "codemirror_mode": {
    "name": "ipython",
    "version": 3
   },
   "file_extension": ".py",
   "mimetype": "text/x-python",
   "name": "python",
   "nbconvert_exporter": "python",
   "pygments_lexer": "ipython3",
   "version": "3.9.6"
  }
 },
 "nbformat": 4,
 "nbformat_minor": 4
}
