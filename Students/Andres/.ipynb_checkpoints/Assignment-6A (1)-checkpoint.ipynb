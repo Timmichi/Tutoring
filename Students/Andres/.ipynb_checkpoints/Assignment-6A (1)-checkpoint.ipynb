{
 "cells": [
  {
   "cell_type": "markdown",
   "metadata": {},
   "source": [
    "## DSS 615 - Fall 2021 Assignments\n",
    "## Assignment- 6A\n",
    "## Loading Pandas DataFrames and Charting in Matplolib\n",
    "Modified: 9/3/2021\n",
    "\n",
    "### Assignment Outcomes\n",
    "Demonstrate ability to:\n",
    "* Load data files of various formats into pandas dataframes.\n",
    "* Preform basic statistical calculations and save results to variables.\n",
    "* Use various libraries and modules to perform linear regresion.\n",
    "* Create basic Matplotlib charts with multiple plots and annotations.\n",
    "* Export all data to a csv file for future use.\n",
    "* Combine four individuals plots into one figure with four subplots."
   ]
  },
  {
   "cell_type": "markdown",
   "metadata": {},
   "source": [
    "Student: **YOURNAMEHERE**"
   ]
  },
  {
   "cell_type": "markdown",
   "metadata": {},
   "source": [
    "# Load necessary libraries, modules, and magics\n",
    "* Place all import and magics needed in the next cell."
   ]
  },
  {
   "cell_type": "code",
   "execution_count": 1,
   "metadata": {},
   "outputs": [
    {
     "ename": "ModuleNotFoundError",
     "evalue": "No module named 'sklearn'",
     "output_type": "error",
     "traceback": [
      "\u001b[1;31m---------------------------------------------------------------------------\u001b[0m",
      "\u001b[1;31mModuleNotFoundError\u001b[0m                       Traceback (most recent call last)",
      "\u001b[1;32m<ipython-input-1-c1d5bad65863>\u001b[0m in \u001b[0;36m<module>\u001b[1;34m\u001b[0m\n\u001b[0;32m      7\u001b[0m \u001b[1;32mimport\u001b[0m \u001b[0mseaborn\u001b[0m \u001b[1;32mas\u001b[0m \u001b[0msns\u001b[0m\u001b[1;33m\u001b[0m\u001b[1;33m\u001b[0m\u001b[0m\n\u001b[0;32m      8\u001b[0m \u001b[1;32mimport\u001b[0m \u001b[0mmath\u001b[0m\u001b[1;33m\u001b[0m\u001b[1;33m\u001b[0m\u001b[0m\n\u001b[1;32m----> 9\u001b[1;33m \u001b[1;32mfrom\u001b[0m \u001b[0msklearn\u001b[0m\u001b[1;33m.\u001b[0m\u001b[0mlinear_model\u001b[0m \u001b[1;32mimport\u001b[0m \u001b[0mLinearRegression\u001b[0m\u001b[1;33m\u001b[0m\u001b[1;33m\u001b[0m\u001b[0m\n\u001b[0m",
      "\u001b[1;31mModuleNotFoundError\u001b[0m: No module named 'sklearn'"
     ]
    }
   ],
   "source": [
    "# Import dependencies and magics\n",
    "import pandas as pd\n",
    "import numpy as np\n",
    "%matplotlib inline\n",
    "import matplotlib as mpl\n",
    "import matplotlib.pyplot as plt\n",
    "import seaborn as sns\n",
    "import math\n",
    "from sklearn.linear_model import LinearRegression "
   ]
  },
  {
   "cell_type": "markdown",
   "metadata": {},
   "source": [
    "# Ex 6A-1 Loading from Excel\n",
    "* Load the file *data1.xlsx* to a dataframe named `df1`.\n",
    "* The two data columns should be named `x1` and `y1`.\n",
    "* Use pandas' describe() to those two variables.\n",
    "* Calculate a variety of statistics as described in the cells below. Use any methods and functions you prefer.\n",
    "* Plot a scatter plot of the two variables.\n",
    "* Overlay a regression line on the plot calculated from the two variables.\n",
    "* Add annotations so that the means, sample variances, correlation, and regression equation are in a box in the upper left corner of the figure."
   ]
  },
  {
   "cell_type": "code",
   "execution_count": null,
   "metadata": {},
   "outputs": [],
   "source": [
    "# Load the data file to a data frame named df1. \n",
    "df1 =pd.read_excel(\"data1.xlsx\")\n",
    "df1"
   ]
  },
  {
   "cell_type": "code",
   "execution_count": null,
   "metadata": {},
   "outputs": [],
   "source": [
    "# describe the series in the dataframe\n",
    "print(df1.x1.describe())\n",
    "print(df1.y1.describe())"
   ]
  },
  {
   "cell_type": "code",
   "execution_count": null,
   "metadata": {},
   "outputs": [],
   "source": [
    "# Calculate the following by replacing the 0 with some formula.\n",
    "\n",
    "mean_x1 = df1.x1.mean() # mean\n",
    "mean_y1 = df1.y1.mean()      # mean\n",
    "svar_x1 = df1.x1.var()       # sample variance\n",
    "svar_y1 = df1.y1.var()       # sample variance\n",
    "corr_x1y1 = df1.x1.corr(df1.y1)     # correlation"
   ]
  },
  {
   "cell_type": "code",
   "execution_count": null,
   "metadata": {},
   "outputs": [],
   "source": [
    "# Print out the results (Do not change this code)\n",
    "print(f'mean_x1: {mean_x1:.3f}\\tmean_y1: {mean_y1:.3f}')     # mean'\n",
    "print(f'svar_x1: {svar_x1:.3f}\\tsvar_y1: {svar_y1:.3f}') \n",
    "print(f'corr: {corr_x1y1:.3f}')"
   ]
  },
  {
   "cell_type": "code",
   "execution_count": null,
   "metadata": {},
   "outputs": [],
   "source": [
    "# Calculate a linear regression line;  capture the following results\n",
    "d1_const = 0     # regression line constant\n",
    "x1_coef = 0     # x coefficient\n",
    "lm = LinearRegression()\n",
    "x = np.array(df1.x1).reshape(-1,1)\n",
    "y = np.array(df1.y1)\n",
    "lm.fit(x, y)\n",
    "Yhat = lm.predict(x)\n",
    "d1_const = lm.intercept_\n",
    "x1_coef = lm.coef_[0]\n",
    "x1_coef"
   ]
  },
  {
   "cell_type": "code",
   "execution_count": null,
   "metadata": {},
   "outputs": [],
   "source": [
    "# Print out the results of the regression equation (Do not change this code)\n",
    "print(f'y = {d1_const:.2f} + {x1_coef:.2f}x')"
   ]
  },
  {
   "cell_type": "code",
   "execution_count": null,
   "metadata": {},
   "outputs": [],
   "source": [
    "# Plot it!\n",
    "# plot x and y as a scatter plot  (dots should be blue)\n",
    "# On the same chart, plot the regression line without marker (line should be black)\n",
    "# Choose any style you desire, include x and y axis labels and a title that includes the file name\n",
    "# Annotate with a box in the upper right corner of the grid as described above\n",
    "x = np.array(df1.x1)\n",
    "fig, ax = plt.subplots()\n",
    "plt.plot(x, y, \"o\")\n",
    "plt.plot(x, x1_coef* x + d1_const, color ='black')\n",
    "data=f'mean_x1:{mean_x1}\\n mean_y1:{mean_y1}\\n svar_x1:{svar_x1}\\n svar_x2:{svar_y1}\\n corr_x1y1:{corr_x1y1}' \n",
    "t = ax.text(0,0, data)\n",
    "plt.title('data1.xlsx')\n",
    "plt.xlabel(\"x data\", fontsize = 10)\n",
    "plt.ylabel(\"y data\", fontsize = 10)\n",
    "\n"
   ]
  },
  {
   "cell_type": "markdown",
   "metadata": {},
   "source": [
    "# Ex 6A-2 Loading from CSV\n",
    "* Load the file *data2.csv* to a dataframe named `df2`.\n",
    "* The two data columns should be named `x2` and `y2` and are the first row in the file.\n",
    "* Use pandas' describe() to those two variables.\n",
    "* Calculate a variety of statistics as described in the cells below. Use any methods and functions you prefer.\n",
    "* Plot a scatter plot of the two variables.\n",
    "* Overlay a regression line on the plot calculated from the two variables.\n",
    "* Add annotations so that the means, sample variances, correlation, and regression equation are in a box in the upper left corner of the figure."
   ]
  },
  {
   "cell_type": "code",
   "execution_count": null,
   "metadata": {},
   "outputs": [],
   "source": [
    "# Load the data file to a data frame named df2. \n",
    "df2 = pd.read_csv('data2.csv')\n",
    "df2\n",
    "\n"
   ]
  },
  {
   "cell_type": "code",
   "execution_count": null,
   "metadata": {},
   "outputs": [],
   "source": [
    "# describe the series in the dataframe\n",
    "print(df2.x2.describe())\n",
    "print(df2.y2.describe())"
   ]
  },
  {
   "cell_type": "code",
   "execution_count": null,
   "metadata": {},
   "outputs": [],
   "source": [
    "# Calculate the following by replacing the 0 with some formula.\n",
    "\n",
    "mean_x2 = df2.x2.mean()       # mean\n",
    "mean_y2 = df2.y2.mean()       # mean\n",
    "svar_x2 = df2.x2.var()      # sample variance\n",
    "svar_y2 = df2.y2.var()      # sample variance\n",
    "corr_x2y2 = df2.x2.corr(df2.y2)   # correlation"
   ]
  },
  {
   "cell_type": "code",
   "execution_count": null,
   "metadata": {},
   "outputs": [],
   "source": [
    "# Print out the results (Do not change this code)\n",
    "print(f'mean_x2: {mean_x2:.3f}\\tmean_y2: {mean_y2:.3f}')     # mean'\n",
    "print(f'svar_x2: {svar_x2:.3f}\\tsvar_y2: {svar_y2:.3f}') \n",
    "print(f'corr: {corr_x2y2:.3f}')"
   ]
  },
  {
   "cell_type": "code",
   "execution_count": null,
   "metadata": {},
   "outputs": [],
   "source": [
    "# Calculate a linear regression line;  capture the following results\n",
    "d2_const = 0     # regression line constant\n",
    "x2_coef = 0      # x coefficient\n",
    "lm = LinearRegression()\n",
    "x = np.array(df2.x2).reshape(-1,1)\n",
    "y = np.array(df2.y2)\n",
    "lm.fit(x, y)\n",
    "Yhat = lm.predict(x)\n",
    "d1_const = lm.intercept_\n",
    "x1_coef = lm.coef_[0]\n",
    "x1_coef\n"
   ]
  },
  {
   "cell_type": "code",
   "execution_count": null,
   "metadata": {},
   "outputs": [],
   "source": [
    "# Print out the results of the regression equation (Do not change this code)\n",
    "print(f'y = {d2_const:.2f} + {x2_coef:.2f}x')"
   ]
  },
  {
   "cell_type": "code",
   "execution_count": null,
   "metadata": {},
   "outputs": [],
   "source": [
    "# Plot it!\n",
    "# plot x and y as a scatter plot  (dots should be orange)\n",
    "# On the same chart, plot the regression line without marker (line should be black)\n",
    "# Choose any style you desire, include x and y axis labels and a title that includes the file name\n",
    "# Annotate with a box in the upper right corner of the grid as described above\n",
    "\n",
    "\n"
   ]
  },
  {
   "cell_type": "markdown",
   "metadata": {},
   "source": [
    "# Ex 6A-3 Loading from txt\n",
    "* Load the file *data3.txt* to a dataframe named `df3`.\n",
    "* There are two numbers in each row separated by a space. Create two lists: one for the first element of each row and one for the second element.\n",
    "* Convert each to a list then convert those lists to pandas series names `x3` and `y3`.\n",
    "* Use pandas' describe() to those two variables.\n",
    "* Calculate a variety of statistics as described in the cells below. Use any methods and functions you prefer.\n",
    "* Plot a scatter plot of the two variables.\n",
    "* Overlay a regression line on the plot calculated from the two variables.\n",
    "* Add annotations so that the means, sample variances, correlation, and regression equation are in a box in the upper left corner of the figure."
   ]
  },
  {
   "cell_type": "code",
   "execution_count": null,
   "metadata": {},
   "outputs": [],
   "source": [
    "# Load the data file to a data frame named df3. \n",
    "\n",
    "\n"
   ]
  },
  {
   "cell_type": "code",
   "execution_count": null,
   "metadata": {},
   "outputs": [],
   "source": [
    "# describe the series in the dataframe\n"
   ]
  },
  {
   "cell_type": "code",
   "execution_count": null,
   "metadata": {},
   "outputs": [],
   "source": [
    "# Calculate the following by replacing the 0 with some formula.\n",
    "\n",
    "mean_x3 = 0       # mean\n",
    "mean_y3 = 0       # mean\n",
    "svar_x3 = 0       # sample variance\n",
    "svar_y3 = 0       # sample variance\n",
    "corr_x3y3 = 0     # correlation"
   ]
  },
  {
   "cell_type": "code",
   "execution_count": null,
   "metadata": {},
   "outputs": [],
   "source": [
    "# Print out the results (Do not change this code)\n",
    "print(f'mean_x3: {mean_x3:.3f}\\tmean_y3: {mean_y3:.3f}')     # mean'\n",
    "print(f'svar_x3: {svar_x3:.3f}\\tsvar_y3: {svar_y3:.3f}') \n",
    "print(f'corr: {corr_x3y3:.3f}')"
   ]
  },
  {
   "cell_type": "code",
   "execution_count": null,
   "metadata": {},
   "outputs": [],
   "source": [
    "# Calculate a linear regression line;  capture the following results\n",
    "d3_const = 0     # regression line constant\n",
    "x3_coef = 0     # x coefficient\n"
   ]
  },
  {
   "cell_type": "code",
   "execution_count": null,
   "metadata": {},
   "outputs": [],
   "source": [
    "# Print out the results of the regression equation (Do not change this code)\n",
    "print(f'y = {d3_const:.2f} + {x3_coef:.2f}x')"
   ]
  },
  {
   "cell_type": "code",
   "execution_count": null,
   "metadata": {},
   "outputs": [],
   "source": [
    "# Plot it!\n",
    "# plot x and y as a scatter plot  (dots should be red)\n",
    "# On the same chart, plot the regression line without marker (line should be black)\n",
    "# Choose any style you desire, include x and y axis labels and a title that includes the file name\n",
    "# Annotate with a box in the upper right corner of the grid as described above\n",
    "\n"
   ]
  },
  {
   "cell_type": "markdown",
   "metadata": {},
   "source": [
    "# Ex 6A-4 Loading from json\n",
    "* Load the file *data4.json* to a dataframe named `df4`. Be sure to view the json. You may need to make some modification for it to form a similar dataframe as the previous data files.\n",
    "* The two data columns should be named `x4` and `y4` and are the first row in the file.\n",
    "* Use pandas' describe() to those two variables.\n",
    "* Calculate a variety of statistics as described in the cells below. Use any methods and functions you prefer.\n",
    "* Plot a scatter plot of the two variables.\n",
    "* Overlay a regression line on the plot calculated from the two variables.\n",
    "* Add annotations so that the means, sample variances, correlation, and regression equation are in a box in the upper left corner of the figure.\n",
    "* **IMPORTANT:** Check the index values of this dataframe. If they start with 1 instead of 0, be sure to reset the index so that they match the other dataframes. Double check to be sure your changes weren't temporary otherwise, you'll end up with many missing values in the combined dataframe."
   ]
  },
  {
   "cell_type": "code",
   "execution_count": null,
   "metadata": {},
   "outputs": [],
   "source": [
    "# Load the data file to a data frame named df4. \n",
    "\n",
    "\n"
   ]
  },
  {
   "cell_type": "code",
   "execution_count": null,
   "metadata": {},
   "outputs": [],
   "source": [
    "# describe the series in the dataframe\n"
   ]
  },
  {
   "cell_type": "code",
   "execution_count": null,
   "metadata": {},
   "outputs": [],
   "source": [
    "# Calculate the following by replacing the 0 with some formula.\n",
    "\n",
    "mean_x4 = 0       # mean\n",
    "mean_y4 = 0       # mean\n",
    "svar_x4 = 0       # sample variance\n",
    "svar_y4 = 0       # sample variance\n",
    "corr_x4y4 = 0     # correlation"
   ]
  },
  {
   "cell_type": "code",
   "execution_count": null,
   "metadata": {},
   "outputs": [],
   "source": [
    "# Print out the results (Do not change this code)\n",
    "print(f'mean_x4: {mean_x4:.3f}\\tmean_y4: {mean_y4:.3f}')     # mean'\n",
    "print(f'svar_x4: {svar_x4:.3f}\\tsvar_y4: {svar_y4:.3f}') \n",
    "print(f'corr: {corr_x4y4:.3f}')"
   ]
  },
  {
   "cell_type": "code",
   "execution_count": null,
   "metadata": {},
   "outputs": [],
   "source": [
    "# Calculate a linear regression line;  capture the following results\n",
    "d4_const = 0     # regression line constant\n",
    "x4_coef = 0     # x coefficient\n"
   ]
  },
  {
   "cell_type": "code",
   "execution_count": null,
   "metadata": {},
   "outputs": [],
   "source": [
    "# Print out the results of the regression equation (Do not change this code)\n",
    "print(f'y = {d4_const:.2f} + {x4_coef:.2f}x')"
   ]
  },
  {
   "cell_type": "code",
   "execution_count": null,
   "metadata": {},
   "outputs": [],
   "source": [
    "# Plot it!\n",
    "# plot x and y as a scatter plot  (dots should be green)\n",
    "# On the same chart, plot the regression line without marker (line should be black)\n",
    "# Choose any style you desire, include x and y axis labels and a title that includes the file name\n",
    "# Annotate with a box in the upper right corner of the grid as described above\n",
    "\n"
   ]
  },
  {
   "attachments": {
    "image.png": {
     "image/png": "[encoded data removed]"
    }
   },
   "cell_type": "markdown",
   "metadata": {},
   "source": [
    "# Create combined output file\n",
    "\n",
    "Combine all four dataframes into one consolidated dataframe that includes the x column (e.g. *x1*), y column (*y1*), and predicted y column from the regression equation (*yr1*) for each row of each data frame. You could use pandas' concantenate method to create this. The new data frame would like something like this:\n",
    "\n",
    "![image.png](attachment:image.png)\n",
    "\n",
    "Save this dataframe to a file named: `datacombined.csv`.\n",
    "\n",
    "Be sure to include column names as a header row. You will use this file in the next assignment."
   ]
  },
  {
   "cell_type": "code",
   "execution_count": null,
   "metadata": {},
   "outputs": [],
   "source": []
  },
  {
   "cell_type": "markdown",
   "metadata": {},
   "source": [
    "## Reminder:\n",
    "*Before submitting:*\n",
    "* Run all cells\n",
    "* Save the file\n",
    "* Be sure your last name is part of the file name"
   ]
  }
 ],
 "metadata": {
  "kernelspec": {
   "display_name": "Python 3",
   "language": "python",
   "name": "python3"
  },
  "language_info": {
   "codemirror_mode": {
    "name": "ipython",
    "version": 3
   },
   "file_extension": ".py",
   "mimetype": "text/x-python",
   "name": "python",
   "nbconvert_exporter": "python",
   "pygments_lexer": "ipython3",
   "version": "3.9.6"
  },
  "varInspector": {
   "cols": {
    "lenName": 16,
    "lenType": 16,
    "lenVar": 40
   },
   "kernels_config": {
    "python": {
     "delete_cmd_postfix": "",
     "delete_cmd_prefix": "del ",
     "library": "var_list.py",
     "varRefreshCmd": "print(var_dic_list())"
    },
    "r": {
     "delete_cmd_postfix": ") ",
     "delete_cmd_prefix": "rm(",
     "library": "var_list.r",
     "varRefreshCmd": "cat(var_dic_list()) "
    }
   },
   "types_to_exclude": [
    "module",
    "function",
    "builtin_function_or_method",
    "instance",
    "_Feature"
   ],
   "window_display": false
  }
 },
 "nbformat": 4,
 "nbformat_minor": 4
}
