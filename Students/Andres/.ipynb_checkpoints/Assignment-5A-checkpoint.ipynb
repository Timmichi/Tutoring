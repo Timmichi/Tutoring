{
 "cells": [
  {
   "cell_type": "markdown",
   "metadata": {},
   "source": [
    "# DSS 615 - Fall 2021 Assignments\n",
    "## Assignment-5A\n",
    "Modified: 8/24/2021\n",
    "\n",
    "Submit entire notebook as one file. Note there are several exercises in this assignment. **Remember to add your last name to the file name.** \n"
   ]
  },
  {
   "cell_type": "markdown",
   "metadata": {},
   "source": [
    "Points possible: 10\n",
    "* 5A-1: 1 points\n",
    "* 5A-2: 1 points\n",
    "* 5A-3: 8 points"
   ]
  },
  {
   "cell_type": "markdown",
   "metadata": {},
   "source": [
    "Student: YOURNAMEHERE"
   ]
  },
  {
   "cell_type": "markdown",
   "metadata": {},
   "source": [
    "# 5A-1 -- Writing and Reading Grades to and from a CSV File\n",
    "See the text book for exercises 9.3 and 9.4.\n",
    "Be sure that you have a loop that prompts the user to enter a name and grades all on the same line. \"John Smith 93 94 83\""
   ]
  },
  {
   "cell_type": "code",
   "execution_count": null,
   "metadata": {},
   "outputs": [],
   "source": [
    "# Ex 9.3 Class Average: Writing Grades to a CSV File\n"
   ]
  },
  {
   "cell_type": "code",
   "execution_count": 1,
   "metadata": {},
   "outputs": [],
   "source": [
    "# Ex 9.4 Class Average: Reading Grades from a CSV File\n"
   ]
  },
  {
   "cell_type": "markdown",
   "metadata": {},
   "source": [
    "# 5A-2 -- Writing to a JSON File\n",
    "See the text book for exercises 9.6.\n",
    "Be sure that you have a loop that prompts the user to enter a name and grades all on the same line. \"John Smith 93 94 83\""
   ]
  },
  {
   "cell_type": "code",
   "execution_count": null,
   "metadata": {},
   "outputs": [],
   "source": [
    "# Ex 9.6 Class Average: Writing a Gradebook Dictionary to a JSON File"
   ]
  },
  {
   "cell_type": "markdown",
   "metadata": {},
   "source": [
    "# 5A-3 -- Basic Tech Analysis of a Speech"
   ]
  },
  {
   "cell_type": "markdown",
   "metadata": {},
   "source": [
    "This is similar to 9.12\n",
    "\n",
    "* Download this file from the assignments area of Canvas: `The Hill We Climb` and place it in the same location as this notebook.\n",
    "* When writing code to access the files, **DO NOT** include paths since you code will not run on the instructors computers. (If the files are in the same folder as the notebook, no path is needed.)\n",
    "* Process the file and provide several statistics and answers to some questions outlined in future cells.\n",
    "* The next few cells will provide some suggestions on an approach. **DO NOT** load additional modules or libraries to do this analysis. Everything can be done with standard Python.\n",
    "* All processing should ignore case or assume lower case. So, take the raw data and save it as lower case in any lists and dictionaries."
   ]
  },
  {
   "cell_type": "markdown",
   "metadata": {},
   "source": [
    "## Objective:\n",
    "Import a speech a simple text file (\"The Hill We Climb\", the poem read at the 2021 Presidential Inaugauration) and conduct basis processing of that text including calculation of simple statistics and frequency of words. "
   ]
  },
  {
   "cell_type": "markdown",
   "metadata": {},
   "source": [
    "### Step 0: Run the `no_punc` function\n",
    "This will allow you to easily strip punctuation, white spaces, and covert words to lower case."
   ]
  },
  {
   "cell_type": "code",
   "execution_count": null,
   "metadata": {},
   "outputs": [],
   "source": [
    "def no_punc(word):\n",
    "    '''takes a word and removes some punctuation, trims white space, then returns lower case'''\n",
    "    punc_list = [\"?\", \".\", \";\", \":\", \"!\"]\n",
    "    word_rvsd = \"\".join(c for c in word if c not in punc_list).lower().strip()\n",
    "\n",
    "    return(word_rvsd)"
   ]
  },
  {
   "cell_type": "markdown",
   "metadata": {},
   "source": [
    "### Step 1: Import the text of a speech\n",
    "* Make sure the file is in the same folder as this notebook. Do not include a path name when referencing the file. (-1 point if a path is included).\n",
    "* Each line in the file should represent a paragraph.\n",
    "* Import the lines to an object called `speech` using the `splitlines()` or `readlines()` method.\n",
    "* `striplines` will automatically remove extra characters at the end of line.\n",
    "* If you use `readlines`, you'll need to manually remove those new line charagers.\n",
    "\n",
    "Note: Since this is a poem, each line in the file is considered a line in the poem. Typically, a line in a text file would be considered a paragraph in a text document. Not in this case."
   ]
  },
  {
   "cell_type": "code",
   "execution_count": null,
   "metadata": {},
   "outputs": [],
   "source": [
    "# Step 1: Import speech\n",
    "\n",
    "file = 'TheHillWeClimb.txt'\n",
    "#---- Your code here for import\n",
    "    \n",
    "#---- end of your code\n",
    "speech  # print it out"
   ]
  },
  {
   "cell_type": "markdown",
   "metadata": {},
   "source": [
    "### Step 2: Count sentence ending punctuation\n",
    "* Loop through each line in `speech` in search of the sentence ending punctuation. \n",
    "* Keep track of the counts in the `puncdict`. \n",
    "* Keep separate counts for each of the punctuation symbols.\n",
    "* Output will look something like this:\n",
    "\n",
    "`puncdict = {'.': 30, '!': 13, '?': 3}`  *Your numbers will be different.*\n"
   ]
  },
  {
   "cell_type": "code",
   "execution_count": null,
   "metadata": {},
   "outputs": [],
   "source": [
    "# Step 2: Count sentence ending punctuation\n",
    "endpunc_list = ['.', '!', '?']\n",
    "#---- Your code here for ending punctuation\n",
    "\n",
    "# hint: create dictionary with default counts of 0\n",
    "\n",
    "\n",
    "#---- end of your code\n",
    "punc_dict  # print it out"
   ]
  },
  {
   "cell_type": "markdown",
   "metadata": {},
   "source": [
    "### Step 3: Calculate total number of words, paragraphs (lines), characters\n",
    "You could loop through each line in the speech object and keep a running total of these three variables.\n",
    "* totalPar - this will be the number of lines in the speech object. (Technically, since this is a poem, these aren't true paragraphs but we'll call them that so we can reuse this code on other text files.\n",
    "* totalChar - this will be the length of each line\n",
    "* totalChar - this will be the length a each split line when split by space\n",
    "\n",
    "Use an augmented assignment opperator to add to the running totals."
   ]
  },
  {
   "cell_type": "code",
   "execution_count": null,
   "metadata": {},
   "outputs": [],
   "source": [
    "# Step 3: Calculate total words and paragraphs\n",
    "# Initialize variables\n",
    "totalWords = 0\n",
    "totalChar = 0\n",
    "totalPar = 0\n",
    "#---- Your code here for calculations\n",
    "\n",
    "\n",
    "\n",
    "#---- end of your code\n",
    "print(f'Total Words: {totalWords}')\n",
    "print(f'Total Characters: {totalChar}')\n",
    "print(f'Total Paragraphs: {totalPar}')"
   ]
  },
  {
   "cell_type": "markdown",
   "metadata": {},
   "source": [
    "### Step 4: Basic Stats\n",
    "* Figure out how to calculate some basic measures and statistics from the speech.\n",
    "* Use variable names below. \n",
    "* See the comment for details."
   ]
  },
  {
   "cell_type": "code",
   "execution_count": null,
   "metadata": {},
   "outputs": [],
   "source": [
    "# Step 4: Calculate Statistics\n",
    "# Use previous dictionaries where appropriate\n",
    "\n",
    "#Initialize variables\n",
    "totalExcl = 0  # total sentences ending in !\n",
    "totalQues = 0  # total sentences ending in ?\n",
    "totalSent = 0  # total sentences in speech\n",
    "aveWords = 0     # average words per sentence (remember previous variable)\n",
    "\n",
    "#---- Your code here for phrases\n",
    "\n",
    "\n",
    "\n",
    "#---- end of your code\n",
    "print(f'Total Exclamations: {totalExcl}')\n",
    "print(f'Total Questions: {totalQues}')\n",
    "print(f'Total Sentences: {totalSent}')\n",
    "print(f'Average Words/Sentence: {aveWords:.2f}')\n"
   ]
  },
  {
   "cell_type": "markdown",
   "metadata": {},
   "source": [
    "### Step 5: Populate word dictionaries\n",
    "* Populate the `wordsdict` dictionary with the appropriate words and frequencies for each word.\n",
    "\n",
    "You could loop through each line in the speech object, parse the line by space, pass the word to the `no_punc` function, then add the word and count to the and keep a running total of these three variables.\n",
    "\n",
    "*Note: We're not going to worry about common words for this assignment (e.g. a, the, of, etc.) Typically, we'd ignore them with a stopwords process. We'll learn that later.*\n",
    "\n",
    "Sample substeps could include:\n",
    "* Loop through each line in `speech`\n",
    "* Loop through each word in the line (`split` might help)\n",
    "* Pass the word to the `no_punc` function for some clean up\n",
    "* Check if word is in the `words_dict` dictionary. If not, add it and give it a value of 1. If it is, increment that value by one.\n",
    "* View the results."
   ]
  },
  {
   "cell_type": "code",
   "execution_count": null,
   "metadata": {},
   "outputs": [],
   "source": [
    "# Step 5: Populate word dictionaries\n",
    "#---- Your code here for phrases\n",
    "\n",
    "\n",
    "#---- end of your code\n",
    "print(words_dict)"
   ]
  },
  {
   "cell_type": "markdown",
   "metadata": {},
   "source": [
    "## Step 6: Find and Show some Special words\n",
    "* Find the longest word or words in number of characters (create a list called `longest_word` in case of tie)\n",
    "* Find the most common word or words (create a list called `common_word` in case of tie)\n",
    "\n",
    "*Note: You'll probably loop through the words_dict to find these.*"
   ]
  },
  {
   "cell_type": "code",
   "execution_count": null,
   "metadata": {},
   "outputs": [],
   "source": [
    "# Longest word in number of characters\n",
    "\n",
    "max_len = 0     # initialize variable to keep track of max word length\n",
    "longest_word = []    # append to this list\n",
    "\n",
    "# ---- your code below\n",
    "# first determine the length of the longest word or words\n",
    "# remember that the words are stored as keys in the dictionary\n",
    "\n",
    "\n",
    "# next create a list of the matching words\n",
    "\n",
    "\n",
    "# ---- your code above\n",
    "\n",
    "print(f'Longest word is {max_len} characters long. It is {longest_word}.')\n"
   ]
  },
  {
   "cell_type": "code",
   "execution_count": null,
   "metadata": {},
   "outputs": [],
   "source": [
    "# Most common word\n",
    "common_word = []\n",
    "max_cnt = 0\n",
    "\n",
    "# ---- your code below\n",
    "# first calculate the maximum word count (a.k.a. value in the dictionary)\n",
    "\n",
    "\n",
    "\n",
    "# next create a list of the matching words\n",
    "\n",
    "\n",
    "# --- your code above\n",
    "        \n",
    "print(f'Most common word is {common_word}. It showed up {max_cnt} times.')    "
   ]
  },
  {
   "cell_type": "markdown",
   "metadata": {},
   "source": [
    "### Step 7: Create a CSV file of the wordsdict\n",
    "* Use the `file` variable from before to name the csv file\n",
    "* Be sure to append .csv to the name\n",
    "* The first row should include the headers 'word' and 'count' as the two column headers\n",
    "* Export the dictionary key:value pairs; each pair will be one row\n",
    "* You will probably use `fieldnames` argument, and the `writeheader()` and `writerows()` methods\n",
    "* You will use this file in the next assignment"
   ]
  },
  {
   "cell_type": "code",
   "execution_count": null,
   "metadata": {},
   "outputs": [],
   "source": [
    "# Step 7: Write csv file of the wordsdict\n",
    "# remember to add column headings and use a standard naming convention\n",
    "# use replace() to change the extension of file to csv\n",
    "\n",
    "\n",
    "#---- Your code here for phrases\n",
    "\n",
    "\n",
    "    \n",
    "#---- end of your code\n",
    "\n"
   ]
  },
  {
   "cell_type": "code",
   "execution_count": null,
   "metadata": {},
   "outputs": [],
   "source": []
  },
  {
   "cell_type": "markdown",
   "metadata": {},
   "source": [
    "## Reminder:\n",
    "*Before submitting:*\n",
    "* Run all cells\n",
    "* Save the file\n",
    "* Be sure your last name is part of the file name"
   ]
  }
 ],
 "metadata": {
  "kernelspec": {
   "display_name": "Python 3",
   "language": "python",
   "name": "python3"
  },
  "language_info": {
   "codemirror_mode": {
    "name": "ipython",
    "version": 3
   },
   "file_extension": ".py",
   "mimetype": "text/x-python",
   "name": "python",
   "nbconvert_exporter": "python",
   "pygments_lexer": "ipython3",
   "version": "3.9.6"
  },
  "varInspector": {
   "cols": {
    "lenName": 16,
    "lenType": 16,
    "lenVar": 40
   },
   "kernels_config": {
    "python": {
     "delete_cmd_postfix": "",
     "delete_cmd_prefix": "del ",
     "library": "var_list.py",
     "varRefreshCmd": "print(var_dic_list())"
    },
    "r": {
     "delete_cmd_postfix": ") ",
     "delete_cmd_prefix": "rm(",
     "library": "var_list.r",
     "varRefreshCmd": "cat(var_dic_list()) "
    }
   },
   "types_to_exclude": [
    "module",
    "function",
    "builtin_function_or_method",
    "instance",
    "_Feature"
   ],
   "window_display": false
  }
 },
 "nbformat": 4,
 "nbformat_minor": 4
}
