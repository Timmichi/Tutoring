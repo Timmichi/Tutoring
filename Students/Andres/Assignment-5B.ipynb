{
 "cells": [
  {
   "cell_type": "markdown",
   "metadata": {},
   "source": [
    "## DSS 615 - Fall 2021 Assignments\n",
    "## Assignment-5B\n",
    "Modified: 8/24/2021\n",
    "\n",
    "Submit entire notebook as one file. Note there are several exercises in this assignment. **Remember to add your last name to the file name.** \n"
   ]
  },
  {
   "cell_type": "markdown",
   "metadata": {},
   "source": [
    "Student: YOURNAMEHERE"
   ]
  },
  {
   "cell_type": "markdown",
   "metadata": {},
   "source": [
    "# Intro to Data Science: Analyze Word Frequencies with Pandas\n",
    "\n",
    "For this assignment you will analyze the output from Assignment 5A. Load the csv file you created that has the frequency of words used previous assignment. (If you couldn't get 5A to work, start with the CSV file posted with the assignment.) Work with the data frame to create two visualizations, answer several questions about the data, and create a new list of the words that duplicates each word the number of times it was in the original speech.\n",
    "\n",
    "Rubric for this assignment:\n",
    "* Step 1 - load the file to a dataframe -- 1pt\n",
    "* Step 2 - explore the dataframe -- 1pt\n",
    "* Step 3 - find the longest word or words -- 3pt\n",
    "* Step 4 - create a dataframe with the 10 most common words -- 3pt\n",
    "* Step 5 - create barplot and png -- 2pt"
   ]
  },
  {
   "cell_type": "markdown",
   "metadata": {},
   "source": [
    "### Step 1: Load the file to a data frame\n",
    "* Assume that the csv file created in the previous assignment is located in the same folder as this notebook.\n",
    "* **DO NOT** include a full path name when accessing the file else your code won't work for the professor.\n",
    "* Uncomment the file name in the next code cell to match your file name.\n",
    "* Your data frame should have two columns named word and count\n",
    "* Name the data frame `df`"
   ]
  },
  {
   "cell_type": "code",
   "execution_count": null,
   "metadata": {},
   "outputs": [],
   "source": [
    "# Step 1: Import Pandas and load data\n",
    "# file = 'TheHillWeClimb.csv'\n",
    "\n",
    "df = ''   # initialize object to be replaced with dataframe\n",
    "#---- Your code here \n",
    "\n",
    "\n",
    "#---- end of your code\n",
    "df"
   ]
  },
  {
   "cell_type": "markdown",
   "metadata": {},
   "source": [
    "### Step 2: Explore the data frame"
   ]
  },
  {
   "cell_type": "code",
   "execution_count": null,
   "metadata": {},
   "outputs": [],
   "source": [
    "# Step 2a: Display the first seven rows of the DataFrame.\n",
    "#---- Your code here \n",
    "\n",
    "\n",
    "#---- end of your code"
   ]
  },
  {
   "cell_type": "code",
   "execution_count": null,
   "metadata": {},
   "outputs": [],
   "source": [
    "# Step 2b: Display the last seven rows of the DataFrame.\n",
    "#---- Your code here \n",
    "\n",
    "\n",
    "#---- end of your code"
   ]
  },
  {
   "cell_type": "code",
   "execution_count": null,
   "metadata": {},
   "outputs": [],
   "source": [
    "# Step 2c: Describe the DataFrame with the describe() method\n",
    "#---- Your code here \n",
    "\n",
    "\n",
    "#---- end of your code"
   ]
  },
  {
   "cell_type": "code",
   "execution_count": null,
   "metadata": {},
   "outputs": [],
   "source": [
    "# Step 2d: Use Series method describe() with 'word' series\n",
    "#---- Your code here \n",
    "\n",
    "\n",
    "#---- end of your code"
   ]
  },
  {
   "cell_type": "code",
   "execution_count": null,
   "metadata": {},
   "outputs": [],
   "source": [
    "# Step 2e: Add a new column named 'pcnt' that is calculated to be the\n",
    "#          the row's 'count' / the sum of the column 'count'\n",
    "#          Use formulas for this calculation. Don't hard code any numbers. \n",
    "#---- Your code here \n",
    "\n",
    "\n",
    "#---- end of your code\n",
    "df['pcnt'].head"
   ]
  },
  {
   "cell_type": "markdown",
   "metadata": {},
   "source": [
    "### Step 3: Find the longest word or words"
   ]
  },
  {
   "cell_type": "code",
   "execution_count": null,
   "metadata": {},
   "outputs": [],
   "source": [
    "# Step 3: Calculated the length of the longest word. \n",
    "#       Create a list of words that match that length.\n",
    "#       You may have done this is a previous assignment.\n",
    "#       This time, however, you'll do it with pandas.\n",
    "maxChar = 0   # initialize for characters in longest word\n",
    "\n",
    "#---- Your code here \n",
    "\n",
    "       \n",
    "#---- end of your code"
   ]
  },
  {
   "cell_type": "markdown",
   "metadata": {},
   "source": [
    "### Step 4: Create a new DataFrame of the ten most frequent words\n",
    "* Sort the dataframe by the `count` in descending order\n",
    "* Save the ten most frequently words and their counts to a new DataFrame named `df_top`.\n",
    "* In case of tie (e.g., words 11 and 12 have the same count as 10), include the ties.\n",
    "* Output the new DataFrame to confirm"
   ]
  },
  {
   "cell_type": "code",
   "execution_count": null,
   "metadata": {},
   "outputs": [],
   "source": [
    "# Step 4: Create new DataFrame of most frequent words\n",
    "#         sorted in descending order of frequency\n",
    "\n",
    "df_top = ''   # initialize to be replaced with new DataFram\n",
    "#---- Your code here \n",
    "\n",
    "\n",
    "#---- end of your code\n",
    "df_top"
   ]
  },
  {
   "cell_type": "markdown",
   "metadata": {},
   "source": [
    "### Step 5: Create horizontal bar chart of most frequent words\n",
    "* Should be sorted so most frequent (longest bar) is at top\n",
    "* x-axis will be the count, y-axis will be the word\n",
    "* Include title, x and y axis labels\n",
    "* Make other minor formatting changes, as desired\n",
    "* Save your image to a png file then load it to Module 5 General discussion group. \n",
    "* Modify the `file` variable to create the the name of the output file. (Replace csv with png)"
   ]
  },
  {
   "cell_type": "code",
   "execution_count": null,
   "metadata": {},
   "outputs": [],
   "source": [
    "# Step 5: Create horizontal bar plot and save image\n",
    "# import needed libraries and magics  \n",
    "#---- Your code here \n",
    "\n",
    "\n",
    "#---- end of your code"
   ]
  },
  {
   "cell_type": "code",
   "execution_count": null,
   "metadata": {},
   "outputs": [],
   "source": [
    "# create plot and save as png\n",
    "#---- Your code here \n",
    "\n",
    "\n",
    "#---- end of your code"
   ]
  },
  {
   "cell_type": "markdown",
   "metadata": {},
   "source": [
    "## Reminder:\n",
    "*Before submitting:*\n",
    "* Run all cells\n",
    "* Save the file\n",
    "* Be sure your last name is part of the file name"
   ]
  }
 ],
 "metadata": {
  "kernelspec": {
   "display_name": "Python 3",
   "language": "python",
   "name": "python3"
  },
  "language_info": {
   "codemirror_mode": {
    "name": "ipython",
    "version": 3
   },
   "file_extension": ".py",
   "mimetype": "text/x-python",
   "name": "python",
   "nbconvert_exporter": "python",
   "pygments_lexer": "ipython3",
   "version": "3.8.8"
  },
  "varInspector": {
   "cols": {
    "lenName": 16,
    "lenType": 16,
    "lenVar": 40
   },
   "kernels_config": {
    "python": {
     "delete_cmd_postfix": "",
     "delete_cmd_prefix": "del ",
     "library": "var_list.py",
     "varRefreshCmd": "print(var_dic_list())"
    },
    "r": {
     "delete_cmd_postfix": ") ",
     "delete_cmd_prefix": "rm(",
     "library": "var_list.r",
     "varRefreshCmd": "cat(var_dic_list()) "
    }
   },
   "types_to_exclude": [
    "module",
    "function",
    "builtin_function_or_method",
    "instance",
    "_Feature"
   ],
   "window_display": false
  }
 },
 "nbformat": 4,
 "nbformat_minor": 4
}
