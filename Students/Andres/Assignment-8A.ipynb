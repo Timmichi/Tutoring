{
 "cells": [
  {
   "cell_type": "markdown",
   "metadata": {},
   "source": [
    "## DSS 615 - Fall 2021 Assignments\n",
    "## Assignment- 8A\n",
    "## Sentiment Analysis\n",
    "Modified: 9/11/2021\n",
    "\n",
    "**Remember to add your last name to the file name.** \n"
   ]
  },
  {
   "cell_type": "markdown",
   "metadata": {},
   "source": [
    "Student: **YOURNAMEHERE**"
   ]
  },
  {
   "cell_type": "markdown",
   "metadata": {},
   "source": [
    "# RUBRIC FOR 8A\n",
    "Total possible 10 points\n",
    "\n",
    "* 2 pts: Successfully retrieve and display text of a web-page (speech, article, book, etc.) Remove extraneous text from the text that should not be part of the text analysis. (e.g. intro of commencement speaker, title of an ebook, copyright statement at end of text)\n",
    "* 2 pts: Using `TextBlob`, conduct sentiment analysis of revised text and individual sentences.\n",
    "* 2 pts: Create a dataframe to store results. At a minimum, it will include each line of text, the polarity, and the subjectivity. If analyzing a speech with multiple speakers, include the speaker and timestamp, if available.\n",
    "* 4 pts: Produce output that shows 5 most negative sentences, 5 most positive sentences, 5 most objective statements, 5 most subjective statements. Include the text of the sentence and both scores for each sentence. (example: \"This is the sentence. (p = -.340, s = 0.43)\")\n",
    "\n",
    "Deductions for:\n",
    "* Crashing code\n",
    "* Logic errors producing incorrect results\n",
    "* Lack of attempt for some or all components."
   ]
  },
  {
   "cell_type": "markdown",
   "metadata": {},
   "source": [
    "### Objectives:\n",
    "* Retrieve text data from an article, speech, story, debate or some other web-based source.\n",
    "* Clean the data then perform sentiment analysis.\n",
    "\n",
    "\n",
    "### Requirements:\n",
    "* Direct link to web-site to retrieve data though ok to turn text into a locally stored file.\n",
    "* Locally stored files will be saved and loaded from same folder as the notebook so professor can run your code.\n",
    "* Text will not include substantial amounts of leftover HTML code. (No HTML is preferred!)\n",
    "* Dropping of some lines of text should be performed if the web-site delivers text that should not be included in the sentiment analysis. For example, if the text is a commencment speech, the introductory paragraph would likely be dropped so only the keynote speech is analyzed.\n",
    "* Use any methods you like to process the data and perform the sentiment analysis. You do not need to use the examples from the text book or the live class.\n",
    "\n",
    "### Special Note:\n",
    "* Assignment 8B will perform a similar analysis on two opposite views of a topic. Think ahead. Choose a topic here that will allow you to reuse this code and text on the next assignment.\n",
    "\n",
    "Potential examples: \n",
    "* Two essays on different views on climate change.\n",
    "* Two public domain e-books or essays that represent different historical views on racial equality or women's rights.\n",
    "* A debate that includes two individuals debating on several topics. (This assignment would show results for just one individual. Assignment 8B would have both individuals.)\n",
    "* Similar venue speeches from two individuals with different ideologies, for example: two commencment speeches from different US presidents, two acceptance speeches from political party conventions, two, two newspaper opinion pieces on similar topics, etc.)\n",
    "* A speech that led to a successful outcome (e.g. JFK - \"We choose to go to the moon.\") and on speech that fell flat and didn't unite people to action. \n",
    "\n",
    "### Reminder: \n",
    "* Assignment 8A will only analyze one of the two. Assignment 8B will recreate 8A for the first speech/article/book and add and compare the second speech/article."
   ]
  },
  {
   "cell_type": "code",
   "execution_count": null,
   "metadata": {},
   "outputs": [],
   "source": [
    "# Import dependencies and required magics\n",
    "\n"
   ]
  },
  {
   "cell_type": "code",
   "execution_count": null,
   "metadata": {},
   "outputs": [],
   "source": [
    "# Load text from web-page, save to local file\n",
    "\n"
   ]
  },
  {
   "cell_type": "code",
   "execution_count": null,
   "metadata": {},
   "outputs": [],
   "source": [
    "# Load from saved file, review it, \n",
    "# drop lines as needed, perform necessary processing.\n",
    "\n",
    "\n"
   ]
  },
  {
   "cell_type": "code",
   "execution_count": null,
   "metadata": {},
   "outputs": [],
   "source": [
    "# Perform sentiment analysis\n",
    "\n"
   ]
  },
  {
   "cell_type": "code",
   "execution_count": null,
   "metadata": {},
   "outputs": [],
   "source": [
    "# Save sentiment data to dataframe\n",
    "\n"
   ]
  },
  {
   "cell_type": "code",
   "execution_count": null,
   "metadata": {},
   "outputs": [],
   "source": [
    "# Output key sentiment analysis results including:\n",
    "#   Overall sentiment analysis scores for the document\n",
    "#   Correlation of polarity and subjectivity scores across sentences\n",
    "\n"
   ]
  },
  {
   "cell_type": "code",
   "execution_count": null,
   "metadata": {},
   "outputs": [],
   "source": [
    "# Print out 20 sentences and their scores including:\n",
    "#    5 most negative sentences including polarity and subjectivity\n",
    "#    5 most positive sentences including polarity and subjectivity\n",
    "#    5 most subjective sentences including polarity and subjectivity\n",
    "#    5 most objective sentences including polarity and subjectivity\n",
    "\n",
    "\n"
   ]
  },
  {
   "cell_type": "markdown",
   "metadata": {},
   "source": [
    "## Reminder:\n",
    "*Before submitting:*\n",
    "* Run all cells\n",
    "* Save the file\n",
    "* Be sure your last name is part of the file name"
   ]
  },
  {
   "cell_type": "code",
   "execution_count": null,
   "metadata": {},
   "outputs": [],
   "source": []
  }
 ],
 "metadata": {
  "kernelspec": {
   "display_name": "Python 3",
   "language": "python",
   "name": "python3"
  },
  "language_info": {
   "codemirror_mode": {
    "name": "ipython",
    "version": 3
   },
   "file_extension": ".py",
   "mimetype": "text/x-python",
   "name": "python",
   "nbconvert_exporter": "python",
   "pygments_lexer": "ipython3",
   "version": "3.8.8"
  },
  "varInspector": {
   "cols": {
    "lenName": 16,
    "lenType": 16,
    "lenVar": 40
   },
   "kernels_config": {
    "python": {
     "delete_cmd_postfix": "",
     "delete_cmd_prefix": "del ",
     "library": "var_list.py",
     "varRefreshCmd": "print(var_dic_list())"
    },
    "r": {
     "delete_cmd_postfix": ") ",
     "delete_cmd_prefix": "rm(",
     "library": "var_list.r",
     "varRefreshCmd": "cat(var_dic_list()) "
    }
   },
   "types_to_exclude": [
    "module",
    "function",
    "builtin_function_or_method",
    "instance",
    "_Feature"
   ],
   "window_display": false
  }
 },
 "nbformat": 4,
 "nbformat_minor": 4
}
