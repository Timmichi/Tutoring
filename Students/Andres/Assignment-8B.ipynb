{
 "cells": [
  {
   "cell_type": "markdown",
   "metadata": {},
   "source": [
    "## DSS 615 - Fall 2021 Assignments\n",
    "## Assignment- 8B\n",
    "## Sentiment Analysis\n",
    "Modified: 9/11/2021\n",
    "\n",
    "**Remember to add your last name to the file name.** \n"
   ]
  },
  {
   "cell_type": "markdown",
   "metadata": {},
   "source": [
    "Student: **YOURNAMEHERE**"
   ]
  },
  {
   "cell_type": "markdown",
   "metadata": {},
   "source": [
    "# RUBRIC FOR 8B\n",
    "Total possible 10 points\n",
    "\n",
    "* 0 pt - must have - Repeat the analysis from 8A for the original 8A data source **AND** a second similar data source.\n",
    "* 1 pt - must have - Create a combined dataframe that has separate columns for each source. You can choose to add columns to the 8A data frame for the new data or add rows. If adding rows, be sure to have a column that will allow to you differentiate between the two data sources.\n",
    "* 4 pt - Create a multi-plot scatter diagram that displays polarity vs subjectivity for the two sources. Be sure they are different colors and a legend is shown.\n",
    "* 3 pt - Produce some basic statistics for the two sources including overall sentence count, overall sentiment for each source, basic descriptive (e.g. describe) stats for each source, and the correlation between polarity and subjectivity for each source.\n",
    "* 2 pt - Write a few sentences of key observations that you made regarding the analysis. Include additional analysis you would suggest doing based on the initial results.\n",
    "\n",
    "Deductions for:\n",
    "* Crashing code\n",
    "* Logic errors producing incorrect results\n",
    "* Lack of attempt for some or all components."
   ]
  },
  {
   "cell_type": "markdown",
   "metadata": {},
   "source": [
    "### Objectives:\n",
    "* Retrieve text data from an article, speech, story, debate or some other web-based source.\n",
    "* Clean the data then perform sentiment analysis.\n",
    "\n",
    "\n",
    "### Requirements:\n",
    "* Direct link to web-site to retrieve data though ok to turn text into a locally stored file.\n",
    "* Locally stored files will be saved and loaded from same folder as the notebook so professor can run your code.\n",
    "* Text will not include substantial amounts of leftover HTML code. (No HTML is preferred!)\n",
    "* Dropping of some lines of text should be performed if the web-site delivers text that should not be included in the sentiment analysis. For example, if the text is a commencment speech, the introductory paragraph would likely be dropped so only the keynote speech is analyzed.\n",
    "* Use any methods you like to process the data and perform the sentiment analysis. You do not need to use the examples from the text book or the live class.\n",
    "\n",
    "### Special Note:\n",
    "* Assignment 8B will perform a similar analysis on two opposite views of a topic. Think ahead. Choose a topic here that will allow you to reuse this code and text on the next assignment.\n",
    "\n",
    "Potential examples: \n",
    "* Two essays on different views on climate change.\n",
    "* Two public domain e-books or essays that represent different historical views on racial equality or women's rights.\n",
    "* A debate that includes two individuals debating on several topics. (This assignment would show results for just one individual. Assignment 8B would have both individuals.)\n",
    "* Similar venue speeches from two individuals with different ideologies, for example: two commencment speeches from different US presidents, two acceptance speeches from political party conventions, two, two newspaper opinion pieces on similar topics, etc.)\n",
    "* A speech that led to a successful outcome (e.g. JFK - \"We choose to go to the moon.\") and on speech that fell flat and didn't unite people to action. \n",
    "\n",
    "### Reminder: \n",
    "* Assignment 8A will only analyze one of the two. Assignment 8B will recreate 8A for the first speech/article/book and add and compare the second speech/article."
   ]
  },
  {
   "cell_type": "code",
   "execution_count": null,
   "metadata": {},
   "outputs": [],
   "source": [
    "# Data Source 1: All working code from previous assignment\n",
    "\n",
    "\n"
   ]
  },
  {
   "cell_type": "code",
   "execution_count": 2,
   "metadata": {},
   "outputs": [],
   "source": [
    "# Data Source 2: Copy previous code and adjust for new URL.\n",
    "# You made need to create new variable and object names \n",
    "# depending on your approach.\n",
    "\n",
    "\n"
   ]
  },
  {
   "cell_type": "code",
   "execution_count": null,
   "metadata": {},
   "outputs": [],
   "source": [
    "# Combined Dataframe - Create a new dataframe (or add to the existing\n",
    "# dataframe). Include all sentiment analysis related data for second\n",
    "# data source\n",
    "\n",
    "\n"
   ]
  },
  {
   "cell_type": "code",
   "execution_count": null,
   "metadata": {},
   "outputs": [],
   "source": [
    "# Create scatter plot with two plots, one for each source\n",
    "# Include a legend, additional annotation box with stats not required\n",
    "# but would be a good challenge\n",
    "\n",
    "\n"
   ]
  },
  {
   "cell_type": "code",
   "execution_count": null,
   "metadata": {},
   "outputs": [],
   "source": [
    "# Print out key statistics in objectives\n",
    "\n"
   ]
  },
  {
   "cell_type": "markdown",
   "metadata": {},
   "source": [
    "# My Analysis\n",
    "(Edit this markdown cell to describe your observations and ideas for additional analysis.)"
   ]
  },
  {
   "cell_type": "markdown",
   "metadata": {},
   "source": [
    "## Reminder:\n",
    "*Before submitting:*\n",
    "* Run all cells\n",
    "* Save the file\n",
    "* Be sure your last name is part of the file name"
   ]
  },
  {
   "cell_type": "code",
   "execution_count": null,
   "metadata": {},
   "outputs": [],
   "source": []
  }
 ],
 "metadata": {
  "kernelspec": {
   "display_name": "Python 3",
   "language": "python",
   "name": "python3"
  },
  "language_info": {
   "codemirror_mode": {
    "name": "ipython",
    "version": 3
   },
   "file_extension": ".py",
   "mimetype": "text/x-python",
   "name": "python",
   "nbconvert_exporter": "python",
   "pygments_lexer": "ipython3",
   "version": "3.8.8"
  },
  "varInspector": {
   "cols": {
    "lenName": 16,
    "lenType": 16,
    "lenVar": 40
   },
   "kernels_config": {
    "python": {
     "delete_cmd_postfix": "",
     "delete_cmd_prefix": "del ",
     "library": "var_list.py",
     "varRefreshCmd": "print(var_dic_list())"
    },
    "r": {
     "delete_cmd_postfix": ") ",
     "delete_cmd_prefix": "rm(",
     "library": "var_list.r",
     "varRefreshCmd": "cat(var_dic_list()) "
    }
   },
   "types_to_exclude": [
    "module",
    "function",
    "builtin_function_or_method",
    "instance",
    "_Feature"
   ],
   "window_display": false
  }
 },
 "nbformat": 4,
 "nbformat_minor": 4
}
