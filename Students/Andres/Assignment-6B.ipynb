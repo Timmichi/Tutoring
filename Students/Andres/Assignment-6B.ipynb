{
 "cells": [
  {
   "cell_type": "markdown",
   "metadata": {},
   "source": [
    "## DSS 615 - Fall 2021 Assignments\n",
    "## Assignment- 6B\n",
    "## Loading Pandas DataFrames and Creating Multiple Plots and Subplots\n",
    "Modified: 9/1/2021\n",
    "\n",
    "### Assignment Outcomes\n",
    "Demonstrate ability to:\n",
    "* Load a previously create csv into a new dataframe.\n",
    "* If your csv didn't work, download the one posted with this assignment. (That's what the professor will use.)\n",
    "* Compare key statistics across several columns of the dataframe.\n",
    "* Create a single plot of four scatter diagrams\n",
    "* Create a figure with four separate subplots"
   ]
  },
  {
   "cell_type": "markdown",
   "metadata": {},
   "source": [
    "Student: **YOURNAMEHERE**"
   ]
  },
  {
   "cell_type": "markdown",
   "metadata": {},
   "source": [
    "# Load necessary libraries, modules, and magics\n",
    "* Place all import and magics needed in the next cell."
   ]
  },
  {
   "cell_type": "code",
   "execution_count": null,
   "metadata": {},
   "outputs": [],
   "source": [
    "# Import dependencies and magics\n"
   ]
  },
  {
   "cell_type": "markdown",
   "metadata": {},
   "source": [
    "# Ex 6B-1 Loading from csv\n",
    "* Load the file *datacombined.csv* to a dataframe named `df`.\n",
    "* Use pandas' describe() the dataframe.\n"
   ]
  },
  {
   "cell_type": "code",
   "execution_count": null,
   "metadata": {},
   "outputs": [],
   "source": [
    "# Load the data file to a data frame named df. \n",
    "\n"
   ]
  },
  {
   "cell_type": "code",
   "execution_count": null,
   "metadata": {},
   "outputs": [],
   "source": [
    "# describe the series in the dataframe\n"
   ]
  },
  {
   "cell_type": "markdown",
   "metadata": {},
   "source": [
    "# 6B-2 Calculate and compare key stats across the columns as demonstrated in the next cell."
   ]
  },
  {
   "cell_type": "code",
   "execution_count": null,
   "metadata": {},
   "outputs": [],
   "source": [
    "# Count of the x columns\n",
    "for i in range (1,5):\n",
    "    col = 'x'+str(i)\n",
    "    print(f'Count {col},len(df[col])')"
   ]
  },
  {
   "cell_type": "code",
   "execution_count": null,
   "metadata": {},
   "outputs": [],
   "source": [
    "# Mean of the x columns to two decimal places\n",
    "\n"
   ]
  },
  {
   "cell_type": "code",
   "execution_count": null,
   "metadata": {},
   "outputs": [],
   "source": [
    "# Mean of the y columns to two decimal places\n",
    "\n"
   ]
  },
  {
   "cell_type": "code",
   "execution_count": null,
   "metadata": {},
   "outputs": [],
   "source": [
    "# Sample variance of the x columns to two decimal places\n",
    "\n"
   ]
  },
  {
   "cell_type": "code",
   "execution_count": null,
   "metadata": {},
   "outputs": [],
   "source": [
    "# Sample variance of the y columns to two decimal places\n",
    "\n"
   ]
  },
  {
   "cell_type": "markdown",
   "metadata": {},
   "source": [
    "# Ex 6B-3 Combined Scatter Plot\n",
    "* Plot each pair of x and y variables on a single scatter plot.\n",
    "* Use a different color and a different marker for each pair.\n",
    "* Set upper axes limits to the maximum value plus 10%.\n",
    "* Add a legend to the figure.\n",
    "* Appropriately label the title, x and y axes. \n",
    "* Change the style from the default Matplotlib style to something you prefer."
   ]
  },
  {
   "cell_type": "code",
   "execution_count": null,
   "metadata": {},
   "outputs": [],
   "source": [
    "# Calculate min and max for axis base of data in dataframe\n",
    "\n",
    "\n",
    "# Set a style\n",
    "\n",
    "\n",
    "# Plot the scatter diagrams\n",
    "\n",
    "\n",
    "# title - at top of chart\n",
    "\n",
    "# axis labels\n",
    "\n",
    "\n",
    "# add legend\n",
    "\n",
    "# set axis limits\n"
   ]
  },
  {
   "cell_type": "markdown",
   "metadata": {},
   "source": [
    "# Anscombe's Quartet\n",
    "* Create a new visualization that combines the four previous plots in to one large plot with four subplots.\n",
    "* Be sure the x and y axis minimum and maximum are the same for all four plots.\n",
    "* Be sure each subplot has a title showing the original file name (e.g. data1, data2, etc.)\n",
    "* Include one overall title showing \"Anscombe's Quartet by Your Name'. [see suptitle()](https://matplotlib.org/3.3.1/api/_as_gen/matplotlib.pyplot.suptitle.html)\n",
    "* Remember to include your name in the title!\n",
    "* Save the image to a png file with the file name Anscombe_lastname.png where lastname is your last name."
   ]
  },
  {
   "cell_type": "code",
   "execution_count": null,
   "metadata": {
    "scrolled": true
   },
   "outputs": [],
   "source": [
    "# Create a new figure with four identically sized subplots in a quadrant \n",
    "\n",
    "\n",
    "\n",
    "# Add super title\n",
    "\n",
    "\n",
    "# Adjust axis limits\n",
    "\n",
    "\n",
    "# First plots\n",
    "\n",
    "\n",
    "# Second plots\n",
    "\n",
    "\n",
    "# Third plots\n",
    "\n",
    "\n",
    "# Fourth plots\n",
    "\n"
   ]
  },
  {
   "cell_type": "markdown",
   "metadata": {},
   "source": [
    "## Reminder:\n",
    "*Before submitting:*\n",
    "* Run all cells\n",
    "* Save the file\n",
    "* Be sure your last name is part of the file name"
   ]
  },
  {
   "cell_type": "code",
   "execution_count": null,
   "metadata": {},
   "outputs": [],
   "source": []
  }
 ],
 "metadata": {
  "kernelspec": {
   "display_name": "Python 3",
   "language": "python",
   "name": "python3"
  },
  "language_info": {
   "codemirror_mode": {
    "name": "ipython",
    "version": 3
   },
   "file_extension": ".py",
   "mimetype": "text/x-python",
   "name": "python",
   "nbconvert_exporter": "python",
   "pygments_lexer": "ipython3",
   "version": "3.8.8"
  },
  "varInspector": {
   "cols": {
    "lenName": 16,
    "lenType": 16,
    "lenVar": 40
   },
   "kernels_config": {
    "python": {
     "delete_cmd_postfix": "",
     "delete_cmd_prefix": "del ",
     "library": "var_list.py",
     "varRefreshCmd": "print(var_dic_list())"
    },
    "r": {
     "delete_cmd_postfix": ") ",
     "delete_cmd_prefix": "rm(",
     "library": "var_list.r",
     "varRefreshCmd": "cat(var_dic_list()) "
    }
   },
   "types_to_exclude": [
    "module",
    "function",
    "builtin_function_or_method",
    "instance",
    "_Feature"
   ],
   "window_display": false
  }
 },
 "nbformat": 4,
 "nbformat_minor": 4
}
