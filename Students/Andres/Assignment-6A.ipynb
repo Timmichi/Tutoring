{
 "cells": [
  {
   "cell_type": "markdown",
   "metadata": {},
   "source": [
    "## DSS 615 - Fall 2021 Assignments\n",
    "## Assignment- 6A\n",
    "## Loading Pandas DataFrames and Charting in Matplolib\n",
    "Modified: 9/3/2021\n",
    "\n",
    "### Assignment Outcomes\n",
    "Demonstrate ability to:\n",
    "* Load data files of various formats into pandas dataframes.\n",
    "* Preform basic statistical calculations and save results to variables.\n",
    "* Use various libraries and modules to perform linear regresion.\n",
    "* Create basic Matplotlib charts with multiple plots and annotations.\n",
    "* Export all data to a csv file for future use.\n",
    "* Combine four individuals plots into one figure with four subplots."
   ]
  },
  {
   "cell_type": "markdown",
   "metadata": {},
   "source": [
    "Student: **YOURNAMEHERE**"
   ]
  },
  {
   "cell_type": "markdown",
   "metadata": {},
   "source": [
    "# Load necessary libraries, modules, and magics\n",
    "* Place all import and magics needed in the next cell."
   ]
  },
  {
   "cell_type": "code",
   "execution_count": 35,
   "metadata": {},
   "outputs": [],
   "source": [
    "# Import dependencies and magics\n",
    "import pandas as pd\n",
    "import numpy as np\n",
    "%matplotlib inline\n",
    "import matplotlib as mpl\n",
    "import matplotlib.pyplot as plt\n",
    "import seaborn as sns\n",
    "import math\n",
    "from sklearn.linear_model import LinearRegression "
   ]
  },
  {
   "cell_type": "markdown",
   "metadata": {},
   "source": [
    "# Ex 6A-1 Loading from Excel\n",
    "* Load the file *data1.xlsx* to a dataframe named `df1`.\n",
    "* The two data columns should be named `x1` and `y1`.\n",
    "* Use pandas' describe() to those two variables.\n",
    "* Calculate a variety of statistics as described in the cells below. Use any methods and functions you prefer.\n",
    "* Plot a scatter plot of the two variables.\n",
    "* Overlay a regression line on the plot calculated from the two variables.\n",
    "* Add annotations so that the means, sample variances, correlation, and regression equation are in a box in the upper left corner of the figure."
   ]
  },
  {
   "cell_type": "code",
   "execution_count": 36,
   "metadata": {},
   "outputs": [
    {
     "data": {
      "text/html": [
       "<div>\n",
       "<style scoped>\n",
       "    .dataframe tbody tr th:only-of-type {\n",
       "        vertical-align: middle;\n",
       "    }\n",
       "\n",
       "    .dataframe tbody tr th {\n",
       "        vertical-align: top;\n",
       "    }\n",
       "\n",
       "    .dataframe thead th {\n",
       "        text-align: right;\n",
       "    }\n",
       "</style>\n",
       "<table border=\"1\" class=\"dataframe\">\n",
       "  <thead>\n",
       "    <tr style=\"text-align: right;\">\n",
       "      <th></th>\n",
       "      <th>x1</th>\n",
       "      <th>y1</th>\n",
       "    </tr>\n",
       "  </thead>\n",
       "  <tbody>\n",
       "    <tr>\n",
       "      <th>0</th>\n",
       "      <td>10</td>\n",
       "      <td>8.04</td>\n",
       "    </tr>\n",
       "    <tr>\n",
       "      <th>1</th>\n",
       "      <td>8</td>\n",
       "      <td>6.95</td>\n",
       "    </tr>\n",
       "    <tr>\n",
       "      <th>2</th>\n",
       "      <td>13</td>\n",
       "      <td>7.58</td>\n",
       "    </tr>\n",
       "    <tr>\n",
       "      <th>3</th>\n",
       "      <td>9</td>\n",
       "      <td>8.81</td>\n",
       "    </tr>\n",
       "    <tr>\n",
       "      <th>4</th>\n",
       "      <td>11</td>\n",
       "      <td>8.33</td>\n",
       "    </tr>\n",
       "    <tr>\n",
       "      <th>5</th>\n",
       "      <td>14</td>\n",
       "      <td>9.96</td>\n",
       "    </tr>\n",
       "    <tr>\n",
       "      <th>6</th>\n",
       "      <td>6</td>\n",
       "      <td>7.24</td>\n",
       "    </tr>\n",
       "    <tr>\n",
       "      <th>7</th>\n",
       "      <td>4</td>\n",
       "      <td>4.26</td>\n",
       "    </tr>\n",
       "    <tr>\n",
       "      <th>8</th>\n",
       "      <td>12</td>\n",
       "      <td>10.84</td>\n",
       "    </tr>\n",
       "    <tr>\n",
       "      <th>9</th>\n",
       "      <td>7</td>\n",
       "      <td>4.82</td>\n",
       "    </tr>\n",
       "    <tr>\n",
       "      <th>10</th>\n",
       "      <td>5</td>\n",
       "      <td>5.68</td>\n",
       "    </tr>\n",
       "  </tbody>\n",
       "</table>\n",
       "</div>"
      ],
      "text/plain": [
       "    x1     y1\n",
       "0   10   8.04\n",
       "1    8   6.95\n",
       "2   13   7.58\n",
       "3    9   8.81\n",
       "4   11   8.33\n",
       "5   14   9.96\n",
       "6    6   7.24\n",
       "7    4   4.26\n",
       "8   12  10.84\n",
       "9    7   4.82\n",
       "10   5   5.68"
      ]
     },
     "execution_count": 36,
     "metadata": {},
     "output_type": "execute_result"
    }
   ],
   "source": [
    "# Load the data file to a data frame named df1. \n",
    "df1 =pd.read_excel(\"data1.xlsx\")\n",
    "df1"
   ]
  },
  {
   "cell_type": "code",
   "execution_count": 37,
   "metadata": {},
   "outputs": [
    {
     "name": "stdout",
     "output_type": "stream",
     "text": [
      "count    11.000000\n",
      "mean      9.000000\n",
      "std       3.316625\n",
      "min       4.000000\n",
      "25%       6.500000\n",
      "50%       9.000000\n",
      "75%      11.500000\n",
      "max      14.000000\n",
      "Name: x1, dtype: float64\n",
      "count    11.000000\n",
      "mean      7.500909\n",
      "std       2.031568\n",
      "min       4.260000\n",
      "25%       6.315000\n",
      "50%       7.580000\n",
      "75%       8.570000\n",
      "max      10.840000\n",
      "Name: y1, dtype: float64\n"
     ]
    }
   ],
   "source": [
    "# describe the series in the dataframe\n",
    "print(df1.x1.describe())\n",
    "print(df1.y1.describe())"
   ]
  },
  {
   "cell_type": "code",
   "execution_count": 38,
   "metadata": {},
   "outputs": [],
   "source": [
    "# Calculate the following by replacing the 0 with some formula.\n",
    "\n",
    "mean_x1 = df1.x1.mean() # mean\n",
    "mean_y1 = df1.y1.mean()      # mean\n",
    "svar_x1 = df1.x1.var()       # sample variance\n",
    "svar_y1 = df1.y1.var()       # sample variance\n",
    "corr_x1y1 = df1.x1.corr(df1.y1)     # correlation"
   ]
  },
  {
   "cell_type": "code",
   "execution_count": 39,
   "metadata": {},
   "outputs": [
    {
     "name": "stdout",
     "output_type": "stream",
     "text": [
      "mean_x1: 9.000\tmean_y1: 7.501\n",
      "svar_x1: 11.000\tsvar_y1: 4.127\n",
      "corr: 0.816\n"
     ]
    }
   ],
   "source": [
    "# Print out the results (Do not change this code)\n",
    "print(f'mean_x1: {mean_x1:.3f}\\tmean_y1: {mean_y1:.3f}')     # mean'\n",
    "print(f'svar_x1: {svar_x1:.3f}\\tsvar_y1: {svar_y1:.3f}') \n",
    "print(f'corr: {corr_x1y1:.3f}')"
   ]
  },
  {
   "cell_type": "code",
   "execution_count": 40,
   "metadata": {},
   "outputs": [
    {
     "data": {
      "text/plain": [
       "0.5000909090909091"
      ]
     },
     "execution_count": 40,
     "metadata": {},
     "output_type": "execute_result"
    }
   ],
   "source": [
    "# Calculate a linear regression line;  capture the following results\n",
    "d1_const = 0     # regression line constant\n",
    "x1_coef = 0     # x coefficient\n",
    "lm = LinearRegression()\n",
    "x = np.array(df1.x1).reshape(-1,1)\n",
    "y = np.array(df1.y1)\n",
    "lm.fit(x, y)\n",
    "Yhat = lm.predict(x)\n",
    "d1_const = lm.intercept_\n",
    "x1_coef = lm.coef_[0]\n",
    "x1_coef"
   ]
  },
  {
   "cell_type": "code",
   "execution_count": 41,
   "metadata": {},
   "outputs": [
    {
     "name": "stdout",
     "output_type": "stream",
     "text": [
      "y = 3.00 + 0.50x\n"
     ]
    }
   ],
   "source": [
    "# Print out the results of the regression equation (Do not change this code)\n",
    "print(f'y = {d1_const:.2f} + {x1_coef:.2f}x')"
   ]
  },
  {
   "cell_type": "code",
   "execution_count": 42,
   "metadata": {},
   "outputs": [
    {
     "data": {
      "text/plain": [
       "Text(0, 0.5, 'y data')"
      ]
     },
     "execution_count": 42,
     "metadata": {},
     "output_type": "execute_result"
    },
    {
     "data": {
      "image/png": "[encoded data removed]",
      "text/plain": [
       "<Figure size 432x288 with 1 Axes>"
      ]
     },
     "metadata": {
      "needs_background": "light"
     },
     "output_type": "display_data"
    }
   ],
   "source": [
    "# Plot it!\n",
    "# plot x and y as a scatter plot  (dots should be blue)\n",
    "# On the same chart, plot the regression line without marker (line should be black)\n",
    "# Choose any style you desire, include x and y axis labels and a title that includes the file name\n",
    "# Annotate with a box in the upper right corner of the grid as described above\n",
    "x = np.array(df1.x1)\n",
    "fig, ax = plt.subplots()\n",
    "plt.plot(x, y, \"o\")\n",
    "plt.plot(x, x1_coef* x + d1_const, color ='black')\n",
    "data=f'mean_x1:{mean_x1}\\n mean_y1:{mean_y1}\\n svar_x1:{svar_x1}\\n svar_x2:{svar_y1}\\n corr_x1y1:{corr_x1y1}' \n",
    "props = {\"boxstyle\": \"square\", \"facecolor\":\"white\", \"alpha\":0.5}\n",
    "t = ax.text(0.05,0.95, data, transform = ax.transAxes, fontsize = 8, verticalalignment = \"top\", bbox = props)\n",
    "plt.title('data1.xlsx')\n",
    "plt.xlabel(\"x data\", fontsize = 10)\n",
    "plt.ylabel(\"y data\", fontsize = 10)\n",
    "\n"
   ]
  },
  {
   "cell_type": "markdown",
   "metadata": {},
   "source": [
    "# Ex 6A-2 Loading from CSV\n",
    "* Load the file *data2.csv* to a dataframe named `df2`.\n",
    "* The two data columns should be named `x2` and `y2` and are the first row in the file.\n",
    "* Use pandas' describe() to those two variables.\n",
    "* Calculate a variety of statistics as described in the cells below. Use any methods and functions you prefer.\n",
    "* Plot a scatter plot of the two variables.\n",
    "* Overlay a regression line on the plot calculated from the two variables.\n",
    "* Add annotations so that the means, sample variances, correlation, and regression equation are in a box in the upper left corner of the figure."
   ]
  },
  {
   "cell_type": "code",
   "execution_count": 43,
   "metadata": {},
   "outputs": [
    {
     "data": {
      "text/html": [
       "<div>\n",
       "<style scoped>\n",
       "    .dataframe tbody tr th:only-of-type {\n",
       "        vertical-align: middle;\n",
       "    }\n",
       "\n",
       "    .dataframe tbody tr th {\n",
       "        vertical-align: top;\n",
       "    }\n",
       "\n",
       "    .dataframe thead th {\n",
       "        text-align: right;\n",
       "    }\n",
       "</style>\n",
       "<table border=\"1\" class=\"dataframe\">\n",
       "  <thead>\n",
       "    <tr style=\"text-align: right;\">\n",
       "      <th></th>\n",
       "      <th>x2</th>\n",
       "      <th>y2</th>\n",
       "    </tr>\n",
       "  </thead>\n",
       "  <tbody>\n",
       "    <tr>\n",
       "      <th>0</th>\n",
       "      <td>10</td>\n",
       "      <td>9.14</td>\n",
       "    </tr>\n",
       "    <tr>\n",
       "      <th>1</th>\n",
       "      <td>8</td>\n",
       "      <td>8.14</td>\n",
       "    </tr>\n",
       "    <tr>\n",
       "      <th>2</th>\n",
       "      <td>13</td>\n",
       "      <td>8.74</td>\n",
       "    </tr>\n",
       "    <tr>\n",
       "      <th>3</th>\n",
       "      <td>9</td>\n",
       "      <td>8.77</td>\n",
       "    </tr>\n",
       "    <tr>\n",
       "      <th>4</th>\n",
       "      <td>11</td>\n",
       "      <td>9.26</td>\n",
       "    </tr>\n",
       "    <tr>\n",
       "      <th>5</th>\n",
       "      <td>14</td>\n",
       "      <td>8.10</td>\n",
       "    </tr>\n",
       "    <tr>\n",
       "      <th>6</th>\n",
       "      <td>6</td>\n",
       "      <td>6.13</td>\n",
       "    </tr>\n",
       "    <tr>\n",
       "      <th>7</th>\n",
       "      <td>4</td>\n",
       "      <td>3.10</td>\n",
       "    </tr>\n",
       "    <tr>\n",
       "      <th>8</th>\n",
       "      <td>12</td>\n",
       "      <td>9.13</td>\n",
       "    </tr>\n",
       "    <tr>\n",
       "      <th>9</th>\n",
       "      <td>7</td>\n",
       "      <td>7.26</td>\n",
       "    </tr>\n",
       "    <tr>\n",
       "      <th>10</th>\n",
       "      <td>5</td>\n",
       "      <td>4.74</td>\n",
       "    </tr>\n",
       "  </tbody>\n",
       "</table>\n",
       "</div>"
      ],
      "text/plain": [
       "    x2    y2\n",
       "0   10  9.14\n",
       "1    8  8.14\n",
       "2   13  8.74\n",
       "3    9  8.77\n",
       "4   11  9.26\n",
       "5   14  8.10\n",
       "6    6  6.13\n",
       "7    4  3.10\n",
       "8   12  9.13\n",
       "9    7  7.26\n",
       "10   5  4.74"
      ]
     },
     "execution_count": 43,
     "metadata": {},
     "output_type": "execute_result"
    }
   ],
   "source": [
    "# Load the data file to a data frame named df2. \n",
    "df2 = pd.read_csv('data2.csv')\n",
    "df2\n",
    "\n"
   ]
  },
  {
   "cell_type": "code",
   "execution_count": 44,
   "metadata": {},
   "outputs": [
    {
     "name": "stdout",
     "output_type": "stream",
     "text": [
      "count    11.000000\n",
      "mean      9.000000\n",
      "std       3.316625\n",
      "min       4.000000\n",
      "25%       6.500000\n",
      "50%       9.000000\n",
      "75%      11.500000\n",
      "max      14.000000\n",
      "Name: x2, dtype: float64\n",
      "count    11.000000\n",
      "mean      7.500909\n",
      "std       2.031657\n",
      "min       3.100000\n",
      "25%       6.695000\n",
      "50%       8.140000\n",
      "75%       8.950000\n",
      "max       9.260000\n",
      "Name: y2, dtype: float64\n"
     ]
    }
   ],
   "source": [
    "# describe the series in the dataframe\n",
    "print(df2.x2.describe())\n",
    "print(df2.y2.describe())"
   ]
  },
  {
   "cell_type": "code",
   "execution_count": 45,
   "metadata": {},
   "outputs": [],
   "source": [
    "# Calculate the following by replacing the 0 with some formula.\n",
    "\n",
    "mean_x2 = df2.x2.mean()       # mean\n",
    "mean_y2 = df2.y2.mean()       # mean\n",
    "svar_x2 = df2.x2.var()      # sample variance\n",
    "svar_y2 = df2.y2.var()      # sample variance\n",
    "corr_x2y2 = df2.x2.corr(df2.y2)   # correlation"
   ]
  },
  {
   "cell_type": "code",
   "execution_count": 46,
   "metadata": {},
   "outputs": [
    {
     "name": "stdout",
     "output_type": "stream",
     "text": [
      "mean_x2: 9.000\tmean_y2: 7.501\n",
      "svar_x2: 11.000\tsvar_y2: 4.128\n",
      "corr: 0.816\n"
     ]
    }
   ],
   "source": [
    "# Print out the results (Do not change this code)\n",
    "print(f'mean_x2: {mean_x2:.3f}\\tmean_y2: {mean_y2:.3f}')     # mean'\n",
    "print(f'svar_x2: {svar_x2:.3f}\\tsvar_y2: {svar_y2:.3f}') \n",
    "print(f'corr: {corr_x2y2:.3f}')"
   ]
  },
  {
   "cell_type": "code",
   "execution_count": 47,
   "metadata": {},
   "outputs": [
    {
     "data": {
      "text/plain": [
       "0.5000000000000001"
      ]
     },
     "execution_count": 47,
     "metadata": {},
     "output_type": "execute_result"
    }
   ],
   "source": [
    "# Calculate a linear regression line;  capture the following results\n",
    "d2_const = 0     # regression line constant\n",
    "x2_coef = 0      # x coefficient\n",
    "lm = LinearRegression()\n",
    "x = np.array(df2.x2).reshape(-1,1)\n",
    "y = np.array(df2.y2)\n",
    "lm.fit(x, y)\n",
    "Yhat = lm.predict(x)\n",
    "d2_const = lm.intercept_\n",
    "x2_coef = lm.coef_[0]\n",
    "x2_coef\n"
   ]
  },
  {
   "cell_type": "code",
   "execution_count": 48,
   "metadata": {},
   "outputs": [
    {
     "name": "stdout",
     "output_type": "stream",
     "text": [
      "y = 3.00 + 0.50x\n"
     ]
    }
   ],
   "source": [
    "# Print out the results of the regression equation (Do not change this code)\n",
    "print(f'y = {d2_const:.2f} + {x2_coef:.2f}x')"
   ]
  },
  {
   "cell_type": "code",
   "execution_count": 49,
   "metadata": {},
   "outputs": [
    {
     "data": {
      "text/plain": [
       "Text(0, 0.5, 'y data')"
      ]
     },
     "execution_count": 49,
     "metadata": {},
     "output_type": "execute_result"
    },
    {
     "data": {
      "image/png": "[encoded data removed]",
      "text/plain": [
       "<Figure size 432x288 with 1 Axes>"
      ]
     },
     "metadata": {
      "needs_background": "light"
     },
     "output_type": "display_data"
    }
   ],
   "source": [
    "# Plot it!\n",
    "# plot x and y as a scatter plot  (dots should be orange)\n",
    "# On the same chart, plot the regression line without marker (line should be black)\n",
    "# Choose any style you desire, include x and y axis labels and a title that includes the file name\n",
    "# Annotate with a box in the upper right corner of the grid as described above\n",
    "x = np.array(df2.x2)\n",
    "fig, ax = plt.subplots()\n",
    "plt.plot(x, y, \"o\")\n",
    "plt.plot(x, x2_coef* x + d2_const, color ='orange')\n",
    "data=f'mean_x2:{mean_x2}\\n mean_y2:{mean_y2}\\n svar_x2:{svar_x2}\\n svar_x2:{svar_y2}\\n corr_x2y2:{corr_x2y2}' \n",
    "props = {\"boxstyle\": \"square\", \"facecolor\":\"white\", \"alpha\":0.5}\n",
    "t = ax.text(0.05,0.95, data, transform = ax.transAxes, fontsize = 8, verticalalignment = \"top\", bbox = props)\n",
    "plt.title('data2.csv')\n",
    "plt.xlabel(\"x data\", fontsize = 10)\n",
    "plt.ylabel(\"y data\", fontsize = 10)\n",
    "\n"
   ]
  },
  {
   "cell_type": "markdown",
   "metadata": {},
   "source": [
    "# Ex 6A-3 Loading from txt\n",
    "* Load the file *data3.txt* to a dataframe named `df3`.\n",
    "* There are two numbers in each row separated by a space. Create two lists: one for the first element of each row and one for the second element.\n",
    "* Convert each to a list then convert those lists to pandas series names `x3` and `y3`.\n",
    "* Use pandas' describe() to those two variables.\n",
    "* Calculate a variety of statistics as described in the cells below. Use any methods and functions you prefer.\n",
    "* Plot a scatter plot of the two variables.\n",
    "* Overlay a regression line on the plot calculated from the two variables.\n",
    "* Add annotations so that the means, sample variances, correlation, and regression equation are in a box in the upper left corner of the figure."
   ]
  },
  {
   "cell_type": "code",
   "execution_count": 50,
   "metadata": {},
   "outputs": [
    {
     "data": {
      "text/html": [
       "<div>\n",
       "<style scoped>\n",
       "    .dataframe tbody tr th:only-of-type {\n",
       "        vertical-align: middle;\n",
       "    }\n",
       "\n",
       "    .dataframe tbody tr th {\n",
       "        vertical-align: top;\n",
       "    }\n",
       "\n",
       "    .dataframe thead th {\n",
       "        text-align: right;\n",
       "    }\n",
       "</style>\n",
       "<table border=\"1\" class=\"dataframe\">\n",
       "  <thead>\n",
       "    <tr style=\"text-align: right;\">\n",
       "      <th></th>\n",
       "      <th>x3</th>\n",
       "      <th>y3</th>\n",
       "    </tr>\n",
       "  </thead>\n",
       "  <tbody>\n",
       "    <tr>\n",
       "      <th>0</th>\n",
       "      <td>10</td>\n",
       "      <td>7.46</td>\n",
       "    </tr>\n",
       "    <tr>\n",
       "      <th>1</th>\n",
       "      <td>8</td>\n",
       "      <td>6.77</td>\n",
       "    </tr>\n",
       "    <tr>\n",
       "      <th>2</th>\n",
       "      <td>13</td>\n",
       "      <td>12.74</td>\n",
       "    </tr>\n",
       "    <tr>\n",
       "      <th>3</th>\n",
       "      <td>9</td>\n",
       "      <td>7.11</td>\n",
       "    </tr>\n",
       "    <tr>\n",
       "      <th>4</th>\n",
       "      <td>11</td>\n",
       "      <td>7.81</td>\n",
       "    </tr>\n",
       "    <tr>\n",
       "      <th>5</th>\n",
       "      <td>14</td>\n",
       "      <td>8.84</td>\n",
       "    </tr>\n",
       "    <tr>\n",
       "      <th>6</th>\n",
       "      <td>6</td>\n",
       "      <td>6.08</td>\n",
       "    </tr>\n",
       "    <tr>\n",
       "      <th>7</th>\n",
       "      <td>4</td>\n",
       "      <td>5.39</td>\n",
       "    </tr>\n",
       "    <tr>\n",
       "      <th>8</th>\n",
       "      <td>12</td>\n",
       "      <td>8.15</td>\n",
       "    </tr>\n",
       "    <tr>\n",
       "      <th>9</th>\n",
       "      <td>7</td>\n",
       "      <td>6.42</td>\n",
       "    </tr>\n",
       "    <tr>\n",
       "      <th>10</th>\n",
       "      <td>5</td>\n",
       "      <td>5.73</td>\n",
       "    </tr>\n",
       "  </tbody>\n",
       "</table>\n",
       "</div>"
      ],
      "text/plain": [
       "    x3     y3\n",
       "0   10   7.46\n",
       "1    8   6.77\n",
       "2   13  12.74\n",
       "3    9   7.11\n",
       "4   11   7.81\n",
       "5   14   8.84\n",
       "6    6   6.08\n",
       "7    4   5.39\n",
       "8   12   8.15\n",
       "9    7   6.42\n",
       "10   5   5.73"
      ]
     },
     "execution_count": 50,
     "metadata": {},
     "output_type": "execute_result"
    }
   ],
   "source": [
    "# Load the data file to a data frame named df3. \n",
    "df3 = pd.read_csv('data3.txt', sep = \" \", header = None, names = [\"x3\",\"y3\"])\n",
    "x3 = pd.Series(df3[\"x3\"])\n",
    "y3 = pd.Series(df3[\"y3\"])\n",
    "df3"
   ]
  },
  {
   "cell_type": "code",
   "execution_count": 51,
   "metadata": {},
   "outputs": [
    {
     "name": "stdout",
     "output_type": "stream",
     "text": [
      "count    11.000000\n",
      "mean      9.000000\n",
      "std       3.316625\n",
      "min       4.000000\n",
      "25%       6.500000\n",
      "50%       9.000000\n",
      "75%      11.500000\n",
      "max      14.000000\n",
      "Name: x3, dtype: float64\n",
      "count    11.000000\n",
      "mean      7.500000\n",
      "std       2.030424\n",
      "min       5.390000\n",
      "25%       6.250000\n",
      "50%       7.110000\n",
      "75%       7.980000\n",
      "max      12.740000\n",
      "Name: y3, dtype: float64\n"
     ]
    }
   ],
   "source": [
    "# describe the series in the dataframe\n",
    "print(x3.describe())\n",
    "print(y3.describe())\n"
   ]
  },
  {
   "cell_type": "code",
   "execution_count": 52,
   "metadata": {},
   "outputs": [],
   "source": [
    "# Calculate the following by replacing the 0 with some formula.\n",
    "\n",
    "mean_x3 = x3.mean()       # mean\n",
    "mean_y3 = y3.mean()       # mean\n",
    "svar_x3 = x3.var()      # sample variance\n",
    "svar_y3 = y3.var()       # sample variance\n",
    "corr_x3y3 = x3.corr(y3)     # correlation"
   ]
  },
  {
   "cell_type": "code",
   "execution_count": 53,
   "metadata": {},
   "outputs": [
    {
     "name": "stdout",
     "output_type": "stream",
     "text": [
      "mean_x3: 9.000\tmean_y3: 7.500\n",
      "svar_x3: 11.000\tsvar_y3: 4.123\n",
      "corr: 0.816\n"
     ]
    }
   ],
   "source": [
    "# Print out the results (Do not change this code)\n",
    "print(f'mean_x3: {mean_x3:.3f}\\tmean_y3: {mean_y3:.3f}')     # mean'\n",
    "print(f'svar_x3: {svar_x3:.3f}\\tsvar_y3: {svar_y3:.3f}') \n",
    "print(f'corr: {corr_x3y3:.3f}')"
   ]
  },
  {
   "cell_type": "code",
   "execution_count": 54,
   "metadata": {},
   "outputs": [
    {
     "data": {
      "text/plain": [
       "0.4997272727272728"
      ]
     },
     "execution_count": 54,
     "metadata": {},
     "output_type": "execute_result"
    }
   ],
   "source": [
    "# Calculate a linear regression line;  capture the following results\n",
    "d3_const = 0     # regression line constant\n",
    "x3_coef = 0     # x coefficient\n",
    "lm = LinearRegression()\n",
    "x = np.array(x3).reshape(-1,1)\n",
    "y = np.array(y3)\n",
    "lm.fit(x, y)\n",
    "Yhat = lm.predict(x)\n",
    "d3_const = lm.intercept_\n",
    "x3_coef = lm.coef_[0]\n",
    "x3_coef\n"
   ]
  },
  {
   "cell_type": "code",
   "execution_count": 55,
   "metadata": {},
   "outputs": [
    {
     "name": "stdout",
     "output_type": "stream",
     "text": [
      "y = 3.00 + 0.50x\n"
     ]
    }
   ],
   "source": [
    "# Print out the results of the regression equation (Do not change this code)\n",
    "print(f'y = {d3_const:.2f} + {x3_coef:.2f}x')"
   ]
  },
  {
   "cell_type": "code",
   "execution_count": 56,
   "metadata": {},
   "outputs": [
    {
     "data": {
      "text/plain": [
       "Text(0, 0.5, 'y data')"
      ]
     },
     "execution_count": 56,
     "metadata": {},
     "output_type": "execute_result"
    },
    {
     "data": {
      "image/png": "[encoded data removed]",
      "text/plain": [
       "<Figure size 432x288 with 1 Axes>"
      ]
     },
     "metadata": {
      "needs_background": "light"
     },
     "output_type": "display_data"
    }
   ],
   "source": [
    "# Plot it!\n",
    "# plot x and y as a scatter plot  (dots should be red)\n",
    "# On the same chart, plot the regression line without marker (line should be black)\n",
    "# Choose any style you desire, include x and y axis labels and a title that includes the file name\n",
    "# Annotate with a box in the upper right corner of the grid as described above\n",
    "x = np.array(x3)\n",
    "fig, ax = plt.subplots()\n",
    "plt.plot(x, y, \"o\", color = \"red\")\n",
    "plt.plot(x, x3_coef* x + d3_const, color ='black')\n",
    "data=f'mean_x3:{mean_x3}\\n mean_y3:{mean_y3}\\n svar_x3:{svar_x3}\\n svar_x3:{svar_y3}\\n corr_x3y3:{corr_x3y3}' \n",
    "props = {\"boxstyle\": \"square\", \"facecolor\":\"white\", \"alpha\":0.5}\n",
    "t = ax.text(0.05,0.95, data, transform = ax.transAxes, fontsize = 8, verticalalignment = \"top\", bbox = props)\n",
    "plt.title('data3.txt')\n",
    "plt.xlabel(\"x data\", fontsize = 10)\n",
    "plt.ylabel(\"y data\", fontsize = 10)\n",
    "\n"
   ]
  },
  {
   "cell_type": "markdown",
   "metadata": {},
   "source": [
    "# Ex 6A-4 Loading from json\n",
    "* Load the file *data4.json* to a dataframe named `df4`. Be sure to view the json. You may need to make some modification for it to form a similar dataframe as the previous data files.\n",
    "* The two data columns should be named `x4` and `y4` and are the first row in the file.\n",
    "* Use pandas' describe() to those two variables.\n",
    "* Calculate a variety of statistics as described in the cells below. Use any methods and functions you prefer.\n",
    "* Plot a scatter plot of the two variables.\n",
    "* Overlay a regression line on the plot calculated from the two variables.\n",
    "* Add annotations so that the means, sample variances, correlation, and regression equation are in a box in the upper left corner of the figure.\n",
    "* **IMPORTANT:** Check the index values of this dataframe. If they start with 1 instead of 0, be sure to reset the index so that they match the other dataframes. Double check to be sure your changes weren't temporary otherwise, you'll end up with many missing values in the combined dataframe."
   ]
  },
  {
   "cell_type": "code",
   "execution_count": 57,
   "metadata": {},
   "outputs": [
    {
     "data": {
      "text/html": [
       "<div>\n",
       "<style scoped>\n",
       "    .dataframe tbody tr th:only-of-type {\n",
       "        vertical-align: middle;\n",
       "    }\n",
       "\n",
       "    .dataframe tbody tr th {\n",
       "        vertical-align: top;\n",
       "    }\n",
       "\n",
       "    .dataframe thead th {\n",
       "        text-align: right;\n",
       "    }\n",
       "</style>\n",
       "<table border=\"1\" class=\"dataframe\">\n",
       "  <thead>\n",
       "    <tr style=\"text-align: right;\">\n",
       "      <th></th>\n",
       "      <th>x4</th>\n",
       "      <th>y4</th>\n",
       "    </tr>\n",
       "  </thead>\n",
       "  <tbody>\n",
       "    <tr>\n",
       "      <th>1</th>\n",
       "      <td>8</td>\n",
       "      <td>6.58</td>\n",
       "    </tr>\n",
       "    <tr>\n",
       "      <th>2</th>\n",
       "      <td>8</td>\n",
       "      <td>5.76</td>\n",
       "    </tr>\n",
       "    <tr>\n",
       "      <th>3</th>\n",
       "      <td>8</td>\n",
       "      <td>7.71</td>\n",
       "    </tr>\n",
       "    <tr>\n",
       "      <th>4</th>\n",
       "      <td>8</td>\n",
       "      <td>8.84</td>\n",
       "    </tr>\n",
       "    <tr>\n",
       "      <th>5</th>\n",
       "      <td>8</td>\n",
       "      <td>8.47</td>\n",
       "    </tr>\n",
       "    <tr>\n",
       "      <th>6</th>\n",
       "      <td>8</td>\n",
       "      <td>7.04</td>\n",
       "    </tr>\n",
       "    <tr>\n",
       "      <th>7</th>\n",
       "      <td>8</td>\n",
       "      <td>5.25</td>\n",
       "    </tr>\n",
       "    <tr>\n",
       "      <th>8</th>\n",
       "      <td>19</td>\n",
       "      <td>12.50</td>\n",
       "    </tr>\n",
       "    <tr>\n",
       "      <th>9</th>\n",
       "      <td>8</td>\n",
       "      <td>5.56</td>\n",
       "    </tr>\n",
       "    <tr>\n",
       "      <th>10</th>\n",
       "      <td>8</td>\n",
       "      <td>7.91</td>\n",
       "    </tr>\n",
       "    <tr>\n",
       "      <th>11</th>\n",
       "      <td>8</td>\n",
       "      <td>6.89</td>\n",
       "    </tr>\n",
       "  </tbody>\n",
       "</table>\n",
       "</div>"
      ],
      "text/plain": [
       "    x4     y4\n",
       "1    8   6.58\n",
       "2    8   5.76\n",
       "3    8   7.71\n",
       "4    8   8.84\n",
       "5    8   8.47\n",
       "6    8   7.04\n",
       "7    8   5.25\n",
       "8   19  12.50\n",
       "9    8   5.56\n",
       "10   8   7.91\n",
       "11   8   6.89"
      ]
     },
     "execution_count": 57,
     "metadata": {},
     "output_type": "execute_result"
    }
   ],
   "source": [
    "# Load the data file to a data frame named df4. \n",
    "df4 = pd.read_json('data4.json')\n",
    "df4\n",
    "\n"
   ]
  },
  {
   "cell_type": "code",
   "execution_count": 58,
   "metadata": {},
   "outputs": [
    {
     "name": "stdout",
     "output_type": "stream",
     "text": [
      "count    11.000000\n",
      "mean      9.000000\n",
      "std       3.316625\n",
      "min       8.000000\n",
      "25%       8.000000\n",
      "50%       8.000000\n",
      "75%       8.000000\n",
      "max      19.000000\n",
      "Name: x4, dtype: float64\n",
      "count    11.000000\n",
      "mean      7.500909\n",
      "std       2.030579\n",
      "min       5.250000\n",
      "25%       6.170000\n",
      "50%       7.040000\n",
      "75%       8.190000\n",
      "max      12.500000\n",
      "Name: y4, dtype: float64\n"
     ]
    }
   ],
   "source": [
    "# describe the series in the dataframe\n",
    "print(df4.x4.describe())\n",
    "print(df4.y4.describe())"
   ]
  },
  {
   "cell_type": "code",
   "execution_count": 59,
   "metadata": {},
   "outputs": [],
   "source": [
    "# Calculate the following by replacing the 0 with some formula.\n",
    "mean_x4 = df4.x4.mean()       # mean\n",
    "mean_y4 = df4.y4.mean()       # mean\n",
    "svar_x4 = df4.x4.var()      # sample variance\n",
    "svar_y4 = df4.y4.var()      # sample variance\n",
    "corr_x4y4 = df4.x4.corr(df4.y4)   # correlation"
   ]
  },
  {
   "cell_type": "code",
   "execution_count": 60,
   "metadata": {},
   "outputs": [
    {
     "name": "stdout",
     "output_type": "stream",
     "text": [
      "mean_x4: 9.000\tmean_y4: 7.501\n",
      "svar_x4: 11.000\tsvar_y4: 4.123\n",
      "corr: 0.817\n"
     ]
    }
   ],
   "source": [
    "# Print out the results (Do not change this code)\n",
    "print(f'mean_x4: {mean_x4:.3f}\\tmean_y4: {mean_y4:.3f}')     # mean'\n",
    "print(f'svar_x4: {svar_x4:.3f}\\tsvar_y4: {svar_y4:.3f}') \n",
    "print(f'corr: {corr_x4y4:.3f}')"
   ]
  },
  {
   "cell_type": "code",
   "execution_count": 61,
   "metadata": {},
   "outputs": [
    {
     "data": {
      "text/plain": [
       "0.4999090909090909"
      ]
     },
     "execution_count": 61,
     "metadata": {},
     "output_type": "execute_result"
    }
   ],
   "source": [
    "# Calculate a linear regression line;  capture the following results\n",
    "d4_const = 0     # regression line constant\n",
    "x4_coef = 0     # x coefficient\n",
    "lm = LinearRegression()\n",
    "x = np.array(df4.x4).reshape(-1,1)\n",
    "y = np.array(df4.y4)\n",
    "lm.fit(x, y)\n",
    "Yhat = lm.predict(x)\n",
    "d4_const = lm.intercept_\n",
    "x4_coef = lm.coef_[0]\n",
    "x4_coef"
   ]
  },
  {
   "cell_type": "code",
   "execution_count": 62,
   "metadata": {},
   "outputs": [
    {
     "name": "stdout",
     "output_type": "stream",
     "text": [
      "y = 3.00 + 0.50x\n"
     ]
    }
   ],
   "source": [
    "# Print out the results of the regression equation (Do not change this code)\n",
    "print(f'y = {d4_const:.2f} + {x4_coef:.2f}x')"
   ]
  },
  {
   "cell_type": "code",
   "execution_count": 63,
   "metadata": {},
   "outputs": [
    {
     "data": {
      "text/plain": [
       "Text(0, 0.5, 'y data')"
      ]
     },
     "execution_count": 63,
     "metadata": {},
     "output_type": "execute_result"
    },
    {
     "data": {
      "image/png": "[encoded data removed]",
      "text/plain": [
       "<Figure size 432x288 with 1 Axes>"
      ]
     },
     "metadata": {
      "needs_background": "light"
     },
     "output_type": "display_data"
    }
   ],
   "source": [
    "# Plot it!\n",
    "# plot x and y as a scatter plot  (dots should be green)\n",
    "# On the same chart, plot the regression line without marker (line should be black)\n",
    "# Choose any style you desire, include x and y axis labels and a title that includes the file name\n",
    "# Annotate with a box in the upper right corner of the grid as described above\n",
    "x = np.array(df4.x4)\n",
    "fig, ax = plt.subplots()\n",
    "plt.plot(x, y, \"o\", color = \"green\")\n",
    "plt.plot(x, x4_coef* x + d4_const, color ='black')\n",
    "data=f'mean_x4:{mean_x4}\\n mean_y4:{mean_y4}\\n svar_x4:{svar_x4}\\n svar_x4:{svar_y4}\\n corr_x4y4:{corr_x4y4}' \n",
    "props = {\"boxstyle\": \"square\", \"facecolor\":\"white\", \"alpha\":0.5}\n",
    "t = ax.text(0.05,0.95, data, transform = ax.transAxes, fontsize = 8, verticalalignment = \"top\", bbox = props)\n",
    "plt.title('data4.json')\n",
    "plt.xlabel(\"x data\", fontsize = 10)\n",
    "plt.ylabel(\"y data\", fontsize = 10)\n"
   ]
  },
  {
   "attachments": {
    "image.png": {
     "image/png": "[encoded data removed]"
    }
   },
   "cell_type": "markdown",
   "metadata": {},
   "source": [
    "# Create combined output file\n",
    "\n",
    "Combine all four dataframes into one consolidated dataframe that includes the x column (e.g. *x1*), y column (*y1*), and predicted y column from the regression equation (*yr1*) for each row of each data frame. You could use pandas' concantenate method to create this. The new data frame would like something like this:\n",
    "\n",
    "![image.png](attachment:image.png)\n",
    "\n",
    "Save this dataframe to a file named: `datacombined.csv`.\n",
    "\n",
    "Be sure to include column names as a header row. You will use this file in the next assignment."
   ]
  },
  {
   "cell_type": "code",
   "execution_count": 64,
   "metadata": {},
   "outputs": [
    {
     "data": {
      "text/html": [
       "<div>\n",
       "<style scoped>\n",
       "    .dataframe tbody tr th:only-of-type {\n",
       "        vertical-align: middle;\n",
       "    }\n",
       "\n",
       "    .dataframe tbody tr th {\n",
       "        vertical-align: top;\n",
       "    }\n",
       "\n",
       "    .dataframe thead th {\n",
       "        text-align: right;\n",
       "    }\n",
       "</style>\n",
       "<table border=\"1\" class=\"dataframe\">\n",
       "  <thead>\n",
       "    <tr style=\"text-align: right;\">\n",
       "      <th></th>\n",
       "      <th>x1</th>\n",
       "      <th>y1</th>\n",
       "      <th>x2</th>\n",
       "      <th>y2</th>\n",
       "      <th>x3</th>\n",
       "      <th>y3</th>\n",
       "      <th>x4</th>\n",
       "      <th>y4</th>\n",
       "    </tr>\n",
       "  </thead>\n",
       "  <tbody>\n",
       "    <tr>\n",
       "      <th>1</th>\n",
       "      <td>8</td>\n",
       "      <td>6.95</td>\n",
       "      <td>8</td>\n",
       "      <td>8.14</td>\n",
       "      <td>8</td>\n",
       "      <td>6.77</td>\n",
       "      <td>8</td>\n",
       "      <td>6.58</td>\n",
       "    </tr>\n",
       "    <tr>\n",
       "      <th>2</th>\n",
       "      <td>13</td>\n",
       "      <td>7.58</td>\n",
       "      <td>13</td>\n",
       "      <td>8.74</td>\n",
       "      <td>13</td>\n",
       "      <td>12.74</td>\n",
       "      <td>8</td>\n",
       "      <td>5.76</td>\n",
       "    </tr>\n",
       "    <tr>\n",
       "      <th>3</th>\n",
       "      <td>9</td>\n",
       "      <td>8.81</td>\n",
       "      <td>9</td>\n",
       "      <td>8.77</td>\n",
       "      <td>9</td>\n",
       "      <td>7.11</td>\n",
       "      <td>8</td>\n",
       "      <td>7.71</td>\n",
       "    </tr>\n",
       "    <tr>\n",
       "      <th>4</th>\n",
       "      <td>11</td>\n",
       "      <td>8.33</td>\n",
       "      <td>11</td>\n",
       "      <td>9.26</td>\n",
       "      <td>11</td>\n",
       "      <td>7.81</td>\n",
       "      <td>8</td>\n",
       "      <td>8.84</td>\n",
       "    </tr>\n",
       "    <tr>\n",
       "      <th>5</th>\n",
       "      <td>14</td>\n",
       "      <td>9.96</td>\n",
       "      <td>14</td>\n",
       "      <td>8.10</td>\n",
       "      <td>14</td>\n",
       "      <td>8.84</td>\n",
       "      <td>8</td>\n",
       "      <td>8.47</td>\n",
       "    </tr>\n",
       "    <tr>\n",
       "      <th>6</th>\n",
       "      <td>6</td>\n",
       "      <td>7.24</td>\n",
       "      <td>6</td>\n",
       "      <td>6.13</td>\n",
       "      <td>6</td>\n",
       "      <td>6.08</td>\n",
       "      <td>8</td>\n",
       "      <td>7.04</td>\n",
       "    </tr>\n",
       "    <tr>\n",
       "      <th>7</th>\n",
       "      <td>4</td>\n",
       "      <td>4.26</td>\n",
       "      <td>4</td>\n",
       "      <td>3.10</td>\n",
       "      <td>4</td>\n",
       "      <td>5.39</td>\n",
       "      <td>8</td>\n",
       "      <td>5.25</td>\n",
       "    </tr>\n",
       "    <tr>\n",
       "      <th>8</th>\n",
       "      <td>12</td>\n",
       "      <td>10.84</td>\n",
       "      <td>12</td>\n",
       "      <td>9.13</td>\n",
       "      <td>12</td>\n",
       "      <td>8.15</td>\n",
       "      <td>19</td>\n",
       "      <td>12.50</td>\n",
       "    </tr>\n",
       "    <tr>\n",
       "      <th>9</th>\n",
       "      <td>7</td>\n",
       "      <td>4.82</td>\n",
       "      <td>7</td>\n",
       "      <td>7.26</td>\n",
       "      <td>7</td>\n",
       "      <td>6.42</td>\n",
       "      <td>8</td>\n",
       "      <td>5.56</td>\n",
       "    </tr>\n",
       "    <tr>\n",
       "      <th>10</th>\n",
       "      <td>5</td>\n",
       "      <td>5.68</td>\n",
       "      <td>5</td>\n",
       "      <td>4.74</td>\n",
       "      <td>5</td>\n",
       "      <td>5.73</td>\n",
       "      <td>8</td>\n",
       "      <td>7.91</td>\n",
       "    </tr>\n",
       "  </tbody>\n",
       "</table>\n",
       "</div>"
      ],
      "text/plain": [
       "    x1     y1  x2    y2  x3     y3  x4     y4\n",
       "1    8   6.95   8  8.14   8   6.77   8   6.58\n",
       "2   13   7.58  13  8.74  13  12.74   8   5.76\n",
       "3    9   8.81   9  8.77   9   7.11   8   7.71\n",
       "4   11   8.33  11  9.26  11   7.81   8   8.84\n",
       "5   14   9.96  14  8.10  14   8.84   8   8.47\n",
       "6    6   7.24   6  6.13   6   6.08   8   7.04\n",
       "7    4   4.26   4  3.10   4   5.39   8   5.25\n",
       "8   12  10.84  12  9.13  12   8.15  19  12.50\n",
       "9    7   4.82   7  7.26   7   6.42   8   5.56\n",
       "10   5   5.68   5  4.74   5   5.73   8   7.91"
      ]
     },
     "execution_count": 64,
     "metadata": {},
     "output_type": "execute_result"
    }
   ],
   "source": [
    "finaldf= pd.concat([df1, df2, df3, df4], join = \"inner\",axis = 1)\n",
    "finaldf"
   ]
  },
  {
   "cell_type": "markdown",
   "metadata": {},
   "source": [
    "## Reminder:\n",
    "*Before submitting:*\n",
    "* Run all cells\n",
    "* Save the file\n",
    "* Be sure your last name is part of the file name"
   ]
  }
 ],
 "metadata": {
  "kernelspec": {
   "display_name": "Python 3",
   "language": "python",
   "name": "python3"
  },
  "language_info": {
   "codemirror_mode": {
    "name": "ipython",
    "version": 3
   },
   "file_extension": ".py",
   "mimetype": "text/x-python",
   "name": "python",
   "nbconvert_exporter": "python",
   "pygments_lexer": "ipython3",
   "version": "3.8.8"
  },
  "varInspector": {
   "cols": {
    "lenName": 16,
    "lenType": 16,
    "lenVar": 40
   },
   "kernels_config": {
    "python": {
     "delete_cmd_postfix": "",
     "delete_cmd_prefix": "del ",
     "library": "var_list.py",
     "varRefreshCmd": "print(var_dic_list())"
    },
    "r": {
     "delete_cmd_postfix": ") ",
     "delete_cmd_prefix": "rm(",
     "library": "var_list.r",
     "varRefreshCmd": "cat(var_dic_list()) "
    }
   },
   "types_to_exclude": [
    "module",
    "function",
    "builtin_function_or_method",
    "instance",
    "_Feature"
   ],
   "window_display": false
  }
 },
 "nbformat": 4,
 "nbformat_minor": 4
}
