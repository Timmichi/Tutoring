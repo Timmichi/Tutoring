{
 "cells": [
  {
   "cell_type": "markdown",
   "metadata": {},
   "source": [
    "## DSS 615 - Fall 2021 Assignments\n",
    "## Assignment- 6B\n",
    "## Loading Pandas DataFrames and Creating Multiple Plots and Subplots\n",
    "Modified: 9/1/2021\n",
    "\n",
    "### Assignment Outcomes\n",
    "Demonstrate ability to:\n",
    "* Load a previously create csv into a new dataframe.\n",
    "* If your csv didn't work, download the one posted with this assignment. (That's what the professor will use.)\n",
    "* Compare key statistics across several columns of the dataframe.\n",
    "* Create a single plot of four scatter diagrams\n",
    "* Create a figure with four separate subplots"
   ]
  },
  {
   "cell_type": "markdown",
   "metadata": {},
   "source": [
    "Student: **YOURNAMEHERE**"
   ]
  },
  {
   "cell_type": "markdown",
   "metadata": {},
   "source": [
    "# Load necessary libraries, modules, and magics\n",
    "* Place all import and magics needed in the next cell."
   ]
  },
  {
   "cell_type": "code",
   "execution_count": 1,
   "metadata": {},
   "outputs": [],
   "source": [
    "# Import dependencies and magics\n",
    "import pandas as pd\n",
    "import numpy as np\n",
    "%matplotlib inline\n",
    "import matplotlib as mpl\n",
    "import matplotlib.pyplot as plt\n",
    "import seaborn as sns\n",
    "import math\n",
    "from sklearn.linear_model import LinearRegression\n",
    "import itertools"
   ]
  },
  {
   "cell_type": "markdown",
   "metadata": {},
   "source": [
    "# Ex 6B-1 Loading from csv\n",
    "* Load the file *datacombined.csv* to a dataframe named `df`.\n",
    "* Use pandas' describe() the dataframe.\n"
   ]
  },
  {
   "cell_type": "code",
   "execution_count": 2,
   "metadata": {},
   "outputs": [
    {
     "data": {
      "text/html": [
       "<div>\n",
       "<style scoped>\n",
       "    .dataframe tbody tr th:only-of-type {\n",
       "        vertical-align: middle;\n",
       "    }\n",
       "\n",
       "    .dataframe tbody tr th {\n",
       "        vertical-align: top;\n",
       "    }\n",
       "\n",
       "    .dataframe thead th {\n",
       "        text-align: right;\n",
       "    }\n",
       "</style>\n",
       "<table border=\"1\" class=\"dataframe\">\n",
       "  <thead>\n",
       "    <tr style=\"text-align: right;\">\n",
       "      <th></th>\n",
       "      <th>Unnamed: 0</th>\n",
       "      <th>x1</th>\n",
       "      <th>y1</th>\n",
       "      <th>yr1</th>\n",
       "      <th>x2</th>\n",
       "      <th>y2</th>\n",
       "      <th>yr2</th>\n",
       "      <th>x3</th>\n",
       "      <th>y3</th>\n",
       "      <th>yr3</th>\n",
       "      <th>x4</th>\n",
       "      <th>y4</th>\n",
       "      <th>yr4</th>\n",
       "    </tr>\n",
       "  </thead>\n",
       "  <tbody>\n",
       "    <tr>\n",
       "      <th>0</th>\n",
       "      <td>0</td>\n",
       "      <td>10</td>\n",
       "      <td>8.04</td>\n",
       "      <td>8.001000</td>\n",
       "      <td>10</td>\n",
       "      <td>9.14</td>\n",
       "      <td>8.000909</td>\n",
       "      <td>10</td>\n",
       "      <td>7.46</td>\n",
       "      <td>7.999727</td>\n",
       "      <td>8</td>\n",
       "      <td>6.58</td>\n",
       "      <td>7.001</td>\n",
       "    </tr>\n",
       "    <tr>\n",
       "      <th>1</th>\n",
       "      <td>1</td>\n",
       "      <td>8</td>\n",
       "      <td>6.95</td>\n",
       "      <td>7.000818</td>\n",
       "      <td>8</td>\n",
       "      <td>8.14</td>\n",
       "      <td>7.000909</td>\n",
       "      <td>8</td>\n",
       "      <td>6.77</td>\n",
       "      <td>7.000273</td>\n",
       "      <td>8</td>\n",
       "      <td>5.76</td>\n",
       "      <td>7.001</td>\n",
       "    </tr>\n",
       "    <tr>\n",
       "      <th>2</th>\n",
       "      <td>2</td>\n",
       "      <td>13</td>\n",
       "      <td>7.58</td>\n",
       "      <td>9.501273</td>\n",
       "      <td>13</td>\n",
       "      <td>8.74</td>\n",
       "      <td>9.500909</td>\n",
       "      <td>13</td>\n",
       "      <td>12.74</td>\n",
       "      <td>9.498909</td>\n",
       "      <td>8</td>\n",
       "      <td>7.71</td>\n",
       "      <td>7.001</td>\n",
       "    </tr>\n",
       "    <tr>\n",
       "      <th>3</th>\n",
       "      <td>3</td>\n",
       "      <td>9</td>\n",
       "      <td>8.81</td>\n",
       "      <td>7.500909</td>\n",
       "      <td>9</td>\n",
       "      <td>8.77</td>\n",
       "      <td>7.500909</td>\n",
       "      <td>9</td>\n",
       "      <td>7.11</td>\n",
       "      <td>7.500000</td>\n",
       "      <td>8</td>\n",
       "      <td>8.84</td>\n",
       "      <td>7.001</td>\n",
       "    </tr>\n",
       "    <tr>\n",
       "      <th>4</th>\n",
       "      <td>4</td>\n",
       "      <td>11</td>\n",
       "      <td>8.33</td>\n",
       "      <td>8.501091</td>\n",
       "      <td>11</td>\n",
       "      <td>9.26</td>\n",
       "      <td>8.500909</td>\n",
       "      <td>11</td>\n",
       "      <td>7.81</td>\n",
       "      <td>8.499455</td>\n",
       "      <td>8</td>\n",
       "      <td>8.47</td>\n",
       "      <td>7.001</td>\n",
       "    </tr>\n",
       "    <tr>\n",
       "      <th>5</th>\n",
       "      <td>5</td>\n",
       "      <td>14</td>\n",
       "      <td>9.96</td>\n",
       "      <td>10.001364</td>\n",
       "      <td>14</td>\n",
       "      <td>8.10</td>\n",
       "      <td>10.000909</td>\n",
       "      <td>14</td>\n",
       "      <td>8.84</td>\n",
       "      <td>9.998636</td>\n",
       "      <td>8</td>\n",
       "      <td>7.04</td>\n",
       "      <td>7.001</td>\n",
       "    </tr>\n",
       "    <tr>\n",
       "      <th>6</th>\n",
       "      <td>6</td>\n",
       "      <td>6</td>\n",
       "      <td>7.24</td>\n",
       "      <td>6.000636</td>\n",
       "      <td>6</td>\n",
       "      <td>6.13</td>\n",
       "      <td>6.000909</td>\n",
       "      <td>6</td>\n",
       "      <td>6.08</td>\n",
       "      <td>6.000818</td>\n",
       "      <td>8</td>\n",
       "      <td>5.25</td>\n",
       "      <td>7.001</td>\n",
       "    </tr>\n",
       "    <tr>\n",
       "      <th>7</th>\n",
       "      <td>7</td>\n",
       "      <td>4</td>\n",
       "      <td>4.26</td>\n",
       "      <td>5.000455</td>\n",
       "      <td>4</td>\n",
       "      <td>3.10</td>\n",
       "      <td>5.000909</td>\n",
       "      <td>4</td>\n",
       "      <td>5.39</td>\n",
       "      <td>5.001364</td>\n",
       "      <td>19</td>\n",
       "      <td>12.50</td>\n",
       "      <td>12.500</td>\n",
       "    </tr>\n",
       "    <tr>\n",
       "      <th>8</th>\n",
       "      <td>8</td>\n",
       "      <td>12</td>\n",
       "      <td>10.84</td>\n",
       "      <td>9.001182</td>\n",
       "      <td>12</td>\n",
       "      <td>9.13</td>\n",
       "      <td>9.000909</td>\n",
       "      <td>12</td>\n",
       "      <td>8.15</td>\n",
       "      <td>8.999182</td>\n",
       "      <td>8</td>\n",
       "      <td>5.56</td>\n",
       "      <td>7.001</td>\n",
       "    </tr>\n",
       "    <tr>\n",
       "      <th>9</th>\n",
       "      <td>9</td>\n",
       "      <td>7</td>\n",
       "      <td>4.82</td>\n",
       "      <td>6.500727</td>\n",
       "      <td>7</td>\n",
       "      <td>7.26</td>\n",
       "      <td>6.500909</td>\n",
       "      <td>7</td>\n",
       "      <td>6.42</td>\n",
       "      <td>6.500545</td>\n",
       "      <td>8</td>\n",
       "      <td>7.91</td>\n",
       "      <td>7.001</td>\n",
       "    </tr>\n",
       "    <tr>\n",
       "      <th>10</th>\n",
       "      <td>10</td>\n",
       "      <td>5</td>\n",
       "      <td>5.68</td>\n",
       "      <td>5.500545</td>\n",
       "      <td>5</td>\n",
       "      <td>4.74</td>\n",
       "      <td>5.500909</td>\n",
       "      <td>5</td>\n",
       "      <td>5.73</td>\n",
       "      <td>5.501091</td>\n",
       "      <td>8</td>\n",
       "      <td>6.89</td>\n",
       "      <td>7.001</td>\n",
       "    </tr>\n",
       "  </tbody>\n",
       "</table>\n",
       "</div>"
      ],
      "text/plain": [
       "    Unnamed: 0  x1     y1        yr1  x2    y2        yr2  x3     y3  \\\n",
       "0            0  10   8.04   8.001000  10  9.14   8.000909  10   7.46   \n",
       "1            1   8   6.95   7.000818   8  8.14   7.000909   8   6.77   \n",
       "2            2  13   7.58   9.501273  13  8.74   9.500909  13  12.74   \n",
       "3            3   9   8.81   7.500909   9  8.77   7.500909   9   7.11   \n",
       "4            4  11   8.33   8.501091  11  9.26   8.500909  11   7.81   \n",
       "5            5  14   9.96  10.001364  14  8.10  10.000909  14   8.84   \n",
       "6            6   6   7.24   6.000636   6  6.13   6.000909   6   6.08   \n",
       "7            7   4   4.26   5.000455   4  3.10   5.000909   4   5.39   \n",
       "8            8  12  10.84   9.001182  12  9.13   9.000909  12   8.15   \n",
       "9            9   7   4.82   6.500727   7  7.26   6.500909   7   6.42   \n",
       "10          10   5   5.68   5.500545   5  4.74   5.500909   5   5.73   \n",
       "\n",
       "         yr3  x4     y4     yr4  \n",
       "0   7.999727   8   6.58   7.001  \n",
       "1   7.000273   8   5.76   7.001  \n",
       "2   9.498909   8   7.71   7.001  \n",
       "3   7.500000   8   8.84   7.001  \n",
       "4   8.499455   8   8.47   7.001  \n",
       "5   9.998636   8   7.04   7.001  \n",
       "6   6.000818   8   5.25   7.001  \n",
       "7   5.001364  19  12.50  12.500  \n",
       "8   8.999182   8   5.56   7.001  \n",
       "9   6.500545   8   7.91   7.001  \n",
       "10  5.501091   8   6.89   7.001  "
      ]
     },
     "execution_count": 2,
     "metadata": {},
     "output_type": "execute_result"
    }
   ],
   "source": [
    "# Load the data file to a data frame named df. \n",
    "df = pd.read_csv(\"datacombined.csv\")\n",
    "df\n"
   ]
  },
  {
   "cell_type": "code",
   "execution_count": 3,
   "metadata": {},
   "outputs": [
    {
     "name": "stdout",
     "output_type": "stream",
     "text": [
      "       Unnamed: 0         x1         y1        yr1         x2         y2  \\\n",
      "count   11.000000  11.000000  11.000000  11.000000  11.000000  11.000000   \n",
      "mean     5.000000   9.000000   7.500909   7.500909   9.000000   7.500909   \n",
      "std      3.316625   3.316625   2.031568   1.658614   3.316625   2.031657   \n",
      "min      0.000000   4.000000   4.260000   5.000455   4.000000   3.100000   \n",
      "25%      2.500000   6.500000   6.315000   6.250682   6.500000   6.695000   \n",
      "50%      5.000000   9.000000   7.580000   7.500909   9.000000   8.140000   \n",
      "75%      7.500000  11.500000   8.570000   8.751136  11.500000   8.950000   \n",
      "max     10.000000  14.000000  10.840000  10.001364  14.000000   9.260000   \n",
      "\n",
      "             yr2         x3         y3        yr3         x4         y4  \\\n",
      "count  11.000000  11.000000  11.000000  11.000000  11.000000  11.000000   \n",
      "mean    7.500909   9.000000   7.500000   7.500000   9.000000   7.500909   \n",
      "std     1.658312   3.316625   2.030424   1.657408   3.316625   2.030579   \n",
      "min     5.000909   4.000000   5.390000   5.001364   8.000000   5.250000   \n",
      "25%     6.250909   6.500000   6.250000   6.250682   8.000000   6.170000   \n",
      "50%     7.500909   9.000000   7.110000   7.500000   8.000000   7.040000   \n",
      "75%     8.750909  11.500000   7.980000   8.749318   8.000000   8.190000   \n",
      "max    10.000909  14.000000  12.740000   9.998636  19.000000  12.500000   \n",
      "\n",
      "             yr4  \n",
      "count  11.000000  \n",
      "mean    7.500909  \n",
      "std     1.658011  \n",
      "min     7.001000  \n",
      "25%     7.001000  \n",
      "50%     7.001000  \n",
      "75%     7.001000  \n",
      "max    12.500000  \n"
     ]
    }
   ],
   "source": [
    "# describe the series in the dataframe\n",
    "print(df.describe())"
   ]
  },
  {
   "cell_type": "markdown",
   "metadata": {},
   "source": [
    "# 6B-2 Calculate and compare key stats across the columns as demonstrated in the next cell."
   ]
  },
  {
   "cell_type": "code",
   "execution_count": 4,
   "metadata": {},
   "outputs": [
    {
     "name": "stdout",
     "output_type": "stream",
     "text": [
      "Count x1: 11\n",
      "Count x2: 11\n",
      "Count x3: 11\n",
      "Count x4: 11\n"
     ]
    }
   ],
   "source": [
    "# Count of the x columns\n",
    "for i in range (1,5):\n",
    "    col = 'x'+str(i)\n",
    "    print(f'Count {col}: {len(df[col])}' )"
   ]
  },
  {
   "cell_type": "code",
   "execution_count": 5,
   "metadata": {},
   "outputs": [
    {
     "name": "stdout",
     "output_type": "stream",
     "text": [
      "9.00\n"
     ]
    }
   ],
   "source": [
    "# Mean of the x columns to two decimal places\n",
    "df_mean_x = df[[\"x1\", \"x2\", \"x3\", \"x4\"]].values.tolist()\n",
    "allx = list(itertools.chain.from_iterable(df_mean_x))\n",
    "print(f'{sum(allx)/len(allx):.2f}')\n"
   ]
  },
  {
   "cell_type": "code",
   "execution_count": 6,
   "metadata": {},
   "outputs": [
    {
     "name": "stdout",
     "output_type": "stream",
     "text": [
      "7.50\n"
     ]
    }
   ],
   "source": [
    "# Mean of the y columns to two decimal places\n",
    "df_mean_y = df[[\"y1\", \"y2\", \"y3\", \"y4\"]].values.tolist()\n",
    "ally= list(itertools.chain.from_iterable(df_mean_y))\n",
    "print(f'{sum(ally)/len(ally):.2f}')\n"
   ]
  },
  {
   "cell_type": "code",
   "execution_count": 7,
   "metadata": {},
   "outputs": [
    {
     "name": "stdout",
     "output_type": "stream",
     "text": [
      "10.00\n"
     ]
    }
   ],
   "source": [
    "# Sample variance of the x columns to two decimal places\n",
    "df_var_x = df[[\"x1\", \"x2\", \"x3\", \"x4\"]].values.tolist()\n",
    "varx= list(itertools.chain.from_iterable(df_var_x))\n",
    "print(f'{np.var(varx):.2f}')\n"
   ]
  },
  {
   "cell_type": "code",
   "execution_count": 8,
   "metadata": {},
   "outputs": [
    {
     "name": "stdout",
     "output_type": "stream",
     "text": [
      "3.75\n"
     ]
    }
   ],
   "source": [
    "# Sample variance of the y columns to two decimal places\n",
    "df_var_y = df[[\"y1\", \"y2\", \"y3\", \"y4\"]].values.tolist()\n",
    "vary= list(itertools.chain.from_iterable(df_var_y))\n",
    "print(f'{np.var(vary):.2f}')\n"
   ]
  },
  {
   "cell_type": "markdown",
   "metadata": {},
   "source": [
    "# Ex 6B-3 Combined Scatter Plot\n",
    "* Plot each pair of x and y variables on a single scatter plot.\n",
    "* Use a different color and a different marker for each pair.\n",
    "* Set upper axes limits to the maximum value plus 10%.\n",
    "* Add a legend to the figure.\n",
    "* Appropriately label the title, x and y axes. \n",
    "* Change the style from the default Matplotlib style to something you prefer."
   ]
  },
  {
   "cell_type": "code",
   "execution_count": 9,
   "metadata": {},
   "outputs": [
    {
     "data": {
      "text/plain": [
       "(2.79, 14.014000000000001)"
      ]
     },
     "execution_count": 9,
     "metadata": {},
     "output_type": "execute_result"
    },
    {
     "data": {
      "image/png": "[encoded data removed]",
      "text/plain": [
       "<Figure size 432x288 with 1 Axes>"
      ]
     },
     "metadata": {
      "needs_background": "light"
     },
     "output_type": "display_data"
    }
   ],
   "source": [
    "# Calculate min and max for axis base of data in dataframe\n",
    "ax = df.plot(kind = \"scatter\", x= \"x1\", y=\"y1\", color = \"blue\", label =\"data1\", title =\"Combined Scatter Plots\")\n",
    "df.plot(kind = \"scatter\", x= \"x2\", y=\"y2\", color = \"orange\", label =\"data2\", ax = ax)\n",
    "df.plot(kind = \"scatter\", x= \"x3\", y=\"y3\", color = \"green\", label =\"data3\", ax = ax)\n",
    "df.plot(kind = \"scatter\", x= \"x4\", y=\"y4\", color = \"red\", label =\"data4\", ax = ax)\n",
    "mpl.style.use(\"classic\")\n",
    "ax.set_xlabel(\"xdata\")\n",
    "ax.set_ylabel(\"ydata\")\n",
    "min_x= min(allx)*.9\n",
    "max_x= max(allx)*1.1\n",
    "min_y= min(ally)*.9\n",
    "max_y= max(ally)*1.1\n",
    "ax.set_xlim(min_x, max_x)\n",
    "ax.set_ylim(min_y, max_y)\n",
    "# Set a style\n",
    "\n",
    "# Plot the scatter diagrams\n",
    "\n",
    "\n",
    "# title - at top of chart\n",
    "# axis labels\n",
    "\n",
    "\n",
    "# add legend\n",
    "\n",
    "# set axis limits\n"
   ]
  },
  {
   "cell_type": "markdown",
   "metadata": {},
   "source": [
    "# Anscombe's Quartet\n",
    "* Create a new visualization that combines the four previous plots in to one large plot with four subplots.\n",
    "* Be sure the x and y axis minimum and maximum are the same for all four plots.\n",
    "* Be sure each subplot has a title showing the original file name (e.g. data1, data2, etc.)\n",
    "* Include one overall title showing \"Anscombe's Quartet by Your Name'. [see suptitle()](https://matplotlib.org/3.3.1/api/_as_gen/matplotlib.pyplot.suptitle.html)\n",
    "* Remember to include your name in the title!\n",
    "* Save the image to a png file with the file name Anscombe_lastname.png where lastname is your last name."
   ]
  },
  {
   "cell_type": "code",
   "execution_count": 10,
   "metadata": {
    "scrolled": true
   },
   "outputs": [
    {
     "data": {
      "text/plain": [
       "Text(0.05, 0.9, 'Data4')"
      ]
     },
     "execution_count": 10,
     "metadata": {},
     "output_type": "execute_result"
    },
    {
     "data": {
      "image/png": "[encoded data removed]",
      "text/plain": [
       "<Figure size 640x480 with 4 Axes>"
      ]
     },
     "metadata": {},
     "output_type": "display_data"
    }
   ],
   "source": [
    "# Create a new figure with four identically sized subplots in a quadrant \n",
    "\n",
    "fig,((ax1, ax2), (ax3, ax4))= plt.subplots(2, 2)\n",
    "fig.suptitle(\"Anscombe's Quartet by Andres Pavia\")\n",
    "#first plot\n",
    "lm = LinearRegression()\n",
    "x1 = np.array(df.x1).reshape(-1,1)\n",
    "y1 = np.array(df.y1)\n",
    "lm.fit(x1, y1)\n",
    "Yhat = lm.predict(x1)\n",
    "d1_const = lm.intercept_\n",
    "x1_coef = lm.coef_[0]\n",
    "x1 =np.array(df.x1)\n",
    "ax1.plot(x1, y1, \"o\")\n",
    "ax1.plot(x1, x1_coef* x1 + d1_const, color ='black')\n",
    "ax1.set_xlim(0, 20)\n",
    "ax1.set_ylim(0, 14)\n",
    "ax1.text(0.05, 0.90, \"Data1\", transform = ax1.transAxes, verticalalignment = \"center\")\n",
    "# Add super title\n",
    "\n",
    "\n",
    "# Adjust axis limits\n",
    "\n",
    "\n",
    "# Second plots\n",
    "lm = LinearRegression()\n",
    "x2 = np.array(df.x2).reshape(-1,1)\n",
    "y2 = np.array(df.y2)\n",
    "lm.fit(x2, y2)\n",
    "Yhat = lm.predict(x2)\n",
    "d2_const = lm.intercept_\n",
    "x2_coef = lm.coef_[0]\n",
    "x2 =np.array(df.x2)\n",
    "ax2.plot(x2, y2, \"o\", color =\"orange\")\n",
    "ax2.plot(x2, x2_coef* x2 + d2_const, color ='black')\n",
    "ax2.set_xlim(0, 20)\n",
    "ax2.set_ylim(0, 14)\n",
    "ax2.text(0.05, 0.90, \"Data2\", transform = ax2.transAxes, verticalalignment = \"center\")\n",
    "\n",
    "# Third plots\n",
    "lm = LinearRegression()\n",
    "x3 = np.array(df.x3).reshape(-1,1)\n",
    "y3 = np.array(df.y3)\n",
    "lm.fit(x3, y3)\n",
    "Yhat = lm.predict(x3)\n",
    "d3_const = lm.intercept_\n",
    "x3_coef = lm.coef_[0]\n",
    "x3 =np.array(df.x3)\n",
    "ax3.plot(x3, y3, \"o\", color =\"red\")\n",
    "ax3.plot(x3, x3_coef* x3 + d3_const, color ='black')\n",
    "ax3.set_xlim(0, 20)\n",
    "ax3.set_ylim(0, 14)\n",
    "ax3.text(0.05, 0.90, \"Data3\", transform = ax3.transAxes, verticalalignment = \"center\")\n",
    "# Fourth plots\n",
    "lm = LinearRegression()\n",
    "x4 = np.array(df.x4).reshape(-1,1)\n",
    "y4 = np.array(df.y4)\n",
    "lm.fit(x4, y4)\n",
    "Yhat = lm.predict(x4)\n",
    "d4_const = lm.intercept_\n",
    "x4_coef = lm.coef_[0]\n",
    "x4 =np.array(df.x4)\n",
    "ax4.plot(x4, y4, \"o\", color= \"green\")\n",
    "ax4.plot(x4, x4_coef* x4 + d4_const, color ='black')\n",
    "min_x= min(x4)*.9\n",
    "max_x= max(x4)*1.1\n",
    "min_y= min(y4)*.9\n",
    "max_y= max(y4)*1.1\n",
    "ax4.set_xlim(0, 20)\n",
    "ax4.set_ylim(0, 14)\n",
    "ax4.text(0.05, 0.90, \"Data4\", transform = ax4.transAxes, verticalalignment = \"center\")\n"
   ]
  },
  {
   "cell_type": "markdown",
   "metadata": {},
   "source": [
    "## Reminder:\n",
    "*Before submitting:*\n",
    "* Run all cells\n",
    "* Save the file\n",
    "* Be sure your last name is part of the file name"
   ]
  },
  {
   "cell_type": "code",
   "execution_count": null,
   "metadata": {},
   "outputs": [],
   "source": []
  }
 ],
 "metadata": {
  "kernelspec": {
   "display_name": "Python 3",
   "language": "python",
   "name": "python3"
  },
  "language_info": {
   "codemirror_mode": {
    "name": "ipython",
    "version": 3
   },
   "file_extension": ".py",
   "mimetype": "text/x-python",
   "name": "python",
   "nbconvert_exporter": "python",
   "pygments_lexer": "ipython3",
   "version": "3.8.8"
  },
  "varInspector": {
   "cols": {
    "lenName": 16,
    "lenType": 16,
    "lenVar": 40
   },
   "kernels_config": {
    "python": {
     "delete_cmd_postfix": "",
     "delete_cmd_prefix": "del ",
     "library": "var_list.py",
     "varRefreshCmd": "print(var_dic_list())"
    },
    "r": {
     "delete_cmd_postfix": ") ",
     "delete_cmd_prefix": "rm(",
     "library": "var_list.r",
     "varRefreshCmd": "cat(var_dic_list()) "
    }
   },
   "types_to_exclude": [
    "module",
    "function",
    "builtin_function_or_method",
    "instance",
    "_Feature"
   ],
   "window_display": false
  }
 },
 "nbformat": 4,
 "nbformat_minor": 4
}
