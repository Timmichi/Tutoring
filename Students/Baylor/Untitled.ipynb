{
 "cells": [
  {
   "cell_type": "code",
   "execution_count": 75,
   "metadata": {
    "scrolled": true
   },
   "outputs": [
    {
     "data": {
      "text/plain": [
       "Int64Index([ 0,  1,  2,  4,  6,  7,  8,  9, 10, 13, 14, 15, 16, 17, 18, 19, 21,\n",
       "            22, 23, 24, 25, 26, 27, 28, 29, 30, 31, 34, 35, 36, 37, 38, 39, 40,\n",
       "            41, 42, 44, 46, 47, 48, 49, 50, 51, 52, 53, 54, 56, 57, 58, 59, 60,\n",
       "            61, 62, 63, 64, 66, 68, 69, 70, 71, 72, 73, 74, 75, 76, 77, 78, 79,\n",
       "            80, 81, 82, 83, 84, 85, 86, 87, 88, 89, 90, 91, 94, 95, 97, 99],\n",
       "           dtype='int64', name='#')"
      ]
     },
     "execution_count": 75,
     "metadata": {},
     "output_type": "execute_result"
    }
   ],
   "source": [
    "import pandas as pd\n",
    "my_df = pd.read_csv(\"Trojans_Roster.csv\")\n",
    "my_df.set_index(\"#\", inplace=True)\n",
    "my_df.drop(\"LAST SCHOOL\", inplace=True, axis=1)\n",
    "qb_names = my_df.loc[my_df['POS.'] == 'QB', ['NAME']]\n",
    "tallest_player = my_df.loc[my_df['HT.'].max() == my_df['HT.'], ['NAME', 'POS.', 'HT.', 'WT.']]\n",
    "num_la_players = len(my_df.loc[my_df['HOMETOWN'] == 'Los Angeles, CA'])\n",
    "heaviest_players = my_df.sort_values([\"WT.\"], ascending=False)[:3]\n",
    "my_df['BMI'] = (my_df['WT.']/(my_df['HT.']**2)) * 703\n",
    "avg_weight = my_df[\"WT.\"].mean()\n",
    "avg_height = my_df[\"HT.\"].mean()\n",
    "avg_bmi = my_df[\"BMI\"].mean()\n",
    "median_bmi = my_df[\"BMI\"].median()\n",
    "weight_by_position = my_df.groupby(['POS.'])[\"WT.\"].mean()\n",
    "count_by_position = my_df.groupby(['POS.'])[\"NAME\"].count()\n",
    "players_below_avg = my_df.loc[my_df['BMI'] < avg_bmi, ['NAME']]\n",
    "# my_df\n",
    "idx = my_df.index.unique()\n",
    "idx"
   ]
  },
  {
   "cell_type": "code",
   "execution_count": null,
   "metadata": {},
   "outputs": [],
   "source": []
  }
 ],
 "metadata": {
  "kernelspec": {
   "display_name": "Python 3",
   "language": "python",
   "name": "python3"
  },
  "language_info": {
   "codemirror_mode": {
    "name": "ipython",
    "version": 3
   },
   "file_extension": ".py",
   "mimetype": "text/x-python",
   "name": "python",
   "nbconvert_exporter": "python",
   "pygments_lexer": "ipython3",
   "version": "3.9.6"
  }
 },
 "nbformat": 4,
 "nbformat_minor": 4
}
