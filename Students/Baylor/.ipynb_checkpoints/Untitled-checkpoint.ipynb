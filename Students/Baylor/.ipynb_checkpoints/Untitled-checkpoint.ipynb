{
 "cells": [
  {
   "cell_type": "code",
   "execution_count": 63,
   "metadata": {},
   "outputs": [
    {
     "data": {
      "text/plain": [
       "POS.\n",
       "CB      9\n",
       "DL     12\n",
       "ILB    15\n",
       "OL     21\n",
       "OLB     4\n",
       "P       3\n",
       "PK      3\n",
       "QB      7\n",
       "S      12\n",
       "SNP     3\n",
       "TB      8\n",
       "TE     10\n",
       "WR     18\n",
       "Name: NAME, dtype: int64"
      ]
     },
     "execution_count": 63,
     "metadata": {},
     "output_type": "execute_result"
    }
   ],
   "source": [
    "import pandas as pd\n",
    "my_df = pd.read_csv(\"Trojans_Roster.csv\")\n",
    "my_df.set_index(\"#\", inplace=True)\n",
    "my_df.drop(\"LAST SCHOOL\", inplace=True, axis=1)\n",
    "qb_names = my_df.loc[my_df['POS.'] == 'QB', ['NAME']]\n",
    "tallest_player = my_df.loc[my_df['HT.'].max() == my_df['HT.'], ['NAME', 'POS.', 'HT.', 'WT.']]\n",
    "num_la_players = len(my_df.loc[my_df['HOMETOWN'] == 'Los Angeles, CA'])\n",
    "heaviest_players = my_df.sort_values([\"WT.\"], ascending=False)[:3]\n",
    "my_df['BMI'] = (my_df['WT.']/(my_df['HT.']**2)) * 703\n",
    "avg_weight = my_df[\"WT.\"].mean()\n",
    "avg_height = my_df[\"HT.\"].mean()\n",
    "avg_bmi = my_df[\"BMI\"].mean()\n",
    "median_bmi = my_df[\"BMI\"].median()\n",
    "weight_by_position = my_df.groupby(['POS.'])[\"WT.\"].mean()\n",
    "count_by_position = my_df.groupby(['POS.'])[\"NAME\"].count()\n",
    "players_below_avg = my_df.loc[my_df['BMI'] < avg_bmi, ['NAME']]"
   ]
  },
  {
   "cell_type": "code",
   "execution_count": null,
   "metadata": {},
   "outputs": [],
   "source": []
  }
 ],
 "metadata": {
  "kernelspec": {
   "display_name": "Python 3",
   "language": "python",
   "name": "python3"
  },
  "language_info": {
   "codemirror_mode": {
    "name": "ipython",
    "version": 3
   },
   "file_extension": ".py",
   "mimetype": "text/x-python",
   "name": "python",
   "nbconvert_exporter": "python",
   "pygments_lexer": "ipython3",
   "version": "3.9.6"
  }
 },
 "nbformat": 4,
 "nbformat_minor": 4
}
