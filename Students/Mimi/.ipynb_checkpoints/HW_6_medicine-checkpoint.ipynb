{
 "cells": [
  {
   "cell_type": "markdown",
   "metadata": {},
   "source": [
    "# Monday, Week 2: HW 6\n",
    "# Medical Data Analysis\n",
    "\n",
    "__Learning objective:__ initialize, populate, and perform manipulations with Numpy arrays. \n",
    "\n",
    "__Task:__ Eureka! Over the weekend you successfully identified the genomic sequence that causes the type of cancer your group is studying: GATTACAGGA. With the hope of someday engineering a cure, your immediate task is to identify which current drugs are best at eradicating the culprit sequence, so that your medical colleagues can use this information to design better and safer drugs going forward.\n",
    "\n",
    "Here's what you know:\n",
    "1. The patients whose files you analyzed last night have each undergone a course of treatment, where every sick patient was administered one of three drugs: Platinol, Carboplatin, or Taxotere, in doses ranging from 10 to 30 mg. Healthy patients did not receive any medication. After the completion of the treatment, all patients (sick and healthy) had their genome sequenced again. \n",
    "2. After dealing with their messy file formats over the weekend, you gave the hospital administrators a piece of your mind. Luckily, they listened! The files they have provided you with this time are much neater and more standardized. The first two lines of each file list the medication and the dosage, and the third line contains the patient's genome, e.g. a file's lines might read, in order: 'Platinol', '10mg', 'GATCA... etc.'. Phew! \n",
    "3. A patient is considered cured if the cancerous sequence GATTACAGGA is no longer present in their genome  printed in their medical file. \n",
    "4. You expect that at least one of the three drugs is effective at eliminating the GATTACAGGA sequence, but you don't know which one. Furthermore, you suspect that the dosage might impact the efficacy of the drug! \n",
    "\n",
    "__Your task is to analyze the patient medical files and deduce which drug(s) eradicated the GATTACAGGA sequence, and, if applicable, at which dosage(s) they are effective.__\n",
    "\n",
    "Be sure to use your code from last night's homework where helpful, but you will have to modify it in certain places. \n",
    "\n",
    "__For this assignment, please use Numpy arrays for all list creation and manipulation. Do not use Python lists.__ \n",
    "\n",
    "__Using this information, work through the TO-DO items in the following code skeleton/pseudocode:__ "
   ]
  },
  {
   "cell_type": "code",
   "execution_count": 83,
   "metadata": {},
   "outputs": [
    {
     "name": "stdout",
     "output_type": "stream",
     "text": [
      "[['Carboplatin\\n' 30]\n",
      " ['Carboplatin\\n' 30]\n",
      " ['Carboplatin\\n' 20]\n",
      " ['Carboplatin\\n' 30]\n",
      " ['Carboplatin\\n' 20]]\n",
      "The effective treatment is Carboplatin! The recommended dosage is >= 20.00\n"
     ]
    }
   ],
   "source": [
    "\n",
    "#if the bad_gene is not there, we record the drug, and the dosage.\n",
    " # cured_patients = [[0, 0],[0, 0],[drug, dosage],[drug, dosage]]\n",
    "import glob, os, numpy as np\n",
    "\n",
    "def get_file_names(directory_name):\n",
    "    thisdir = os.getcwd()\n",
    "    # list vs array: A list can hold multiple types. An array can only hold the same type. :( unless you set dtype = object\n",
    "    file_list = np.empty(50, dtype=object)\n",
    "    # r=root, d=directories, f = files\n",
    "    for r, d, f in os.walk(thisdir):\n",
    "        for directory in d:\n",
    "            if directory == directory_name:\n",
    "                patient_directory = os.path.join(r,directory)\n",
    "                for r1, d1, f1 in os.walk(patient_directory):\n",
    "                    for index, file in enumerate(f1):\n",
    "                        file_list[index] = os.path.join(r1, file)\n",
    "    return file_list\n",
    "\n",
    "                    \n",
    "                    \n",
    "def is_cured_patient(sequence, BAD_GENE):\n",
    "    start_index = 0\n",
    "    end_index = 10\n",
    "    while end_index <= len(sequence):\n",
    "        if sequence[start_index: end_index] == BAD_GENE:\n",
    "            return False\n",
    "        start_index += 1\n",
    "        end_index += 1\n",
    "    return True\n",
    "    \n",
    "\n",
    "\n",
    "def main():\n",
    "    directory_name = \"post treatment data\"\n",
    "    file_list = get_file_names(directory_name)\n",
    "    BAD_GENE = 'GATTACAGGA'\n",
    "    cured_patients = np.empty([50, 2], dtype=object)\n",
    "#     print(cured_patients)\n",
    "    index = 0\n",
    "    for file_path in file_list:\n",
    "        f = open(file_path, \"r\")\n",
    "        drug = \"\"\n",
    "        dosage = \"\"\n",
    "        cured_sequence = \"\"\n",
    "        for i, line in enumerate(f):\n",
    "            if i == 0:\n",
    "                drug = line\n",
    "            elif i == 1:\n",
    "                for char in line:\n",
    "                    if char.isdigit():\n",
    "                        dosage += char\n",
    "                dosage = int(dosage)\n",
    "            elif i == 2 and dosage > 0 and is_cured_patient(line, BAD_GENE):\n",
    "                cured_sequence = line\n",
    "        if cured_sequence:\n",
    "            cured_patients[index][0] = drug\n",
    "            cured_patients[index][1] = dosage\n",
    "            index += 1\n",
    "    cured_patients = cured_patients[cured_patients[:,1]!=None]\n",
    "    treatment_name = cured_patients[0][0].rstrip()\n",
    "    treatment_dosage = min([cured_patients[index][1] for index, dosage in enumerate(cured_patients)])\n",
    "#     print(cured_patients)\n",
    "    \n",
    "#     print(\"The effective treatment is \" + treatment_name + \"!\" )\n",
    "#     print(\"The effective treatment is {treatment}! The recommended dosage is >= {dosage}\".format(treatment = treatment_name, dosage = treatment_dosage))\n",
    "#     print(f\"The effective treatment is {treatment_name}! The recommended dosage is >= {treatment_dosage}\")\n",
    "    print(\"The effective treatment is %s! The recommended dosage is >= %.2f\" % (treatment_name, treatment_dosage))\n",
    "\n",
    "main()\n",
    "\n"
   ]
  },
  {
   "cell_type": "markdown",
   "metadata": {},
   "source": [
    "__Feedback__: How long did this assignment take you? On a scale of 1 (simple) to 5 (difficult), how did it go? "
   ]
  },
  {
   "cell_type": "code",
   "execution_count": null,
   "metadata": {},
   "outputs": [],
   "source": []
  },
  {
   "cell_type": "markdown",
   "metadata": {},
   "source": [
    "__Feedback__: How comfortable do you feel with the topics covered in this assignment? Are there any topics you would like to review tomorrow together as a class? "
   ]
  },
  {
   "cell_type": "code",
   "execution_count": null,
   "metadata": {},
   "outputs": [],
   "source": []
  },
  {
   "cell_type": "markdown",
   "metadata": {},
   "source": [
    "__Feedback:__ Is there anything we can do this week to improve your Zoom learning experience? A common piece of feedback last time was that you'd like more time in breakout rooms. How are you finding the balance between time spent in lecture and time spent in classwork currently? "
   ]
  },
  {
   "cell_type": "code",
   "execution_count": null,
   "metadata": {},
   "outputs": [],
   "source": []
  }
 ],
 "metadata": {
  "kernelspec": {
   "display_name": "Python 3",
   "language": "python",
   "name": "python3"
  },
  "language_info": {
   "codemirror_mode": {
    "name": "ipython",
    "version": 3
   },
   "file_extension": ".py",
   "mimetype": "text/x-python",
   "name": "python",
   "nbconvert_exporter": "python",
   "pygments_lexer": "ipython3",
   "version": "3.9.6"
  }
 },
 "nbformat": 4,
 "nbformat_minor": 2
}
