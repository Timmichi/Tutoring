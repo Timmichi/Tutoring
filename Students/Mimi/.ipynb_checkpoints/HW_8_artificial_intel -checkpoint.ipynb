{
 "cells": [
  {
   "cell_type": "markdown",
   "metadata": {},
   "source": [
    "# Wednesday, Week 2: HW 8\n",
    "# Artificial Intelligence\n",
    "\n",
    "__Learning objective:__ \n",
    "1. Synthesize the topics covered in class, including functions, loops, Booleans, branching, Numpy arrays, and Matplotlib. \n",
    "2. Practice parsing complex code to learn new concepts/tools and solve scientific questions -- in this case, play with an image classifying neural network to modify it to your needs. \n",
    "\n",
    "__Task:__ You are an intern at Google Brain who has decided to work with the famous publically available Iris dataset, which provides data for 150 individual flowers on their sepal/petal lengths/widths, as well as their iris species. You examined your data last night and have developed some intuition for it: clearly, the different iris species tend to have rather different physical characteristics! You have also built and trained your first neural network together with your colleagues to classify flowers in two different species based on their petal lengths/width. You will now modify your neural network to classify the flowers using different characteristics, and, in the process, gain a better familiarity with the code. \n",
    "\n",
    "Read through the following code (that we covered in class). This code takes only the flowers in the iris dataset that are either virginica or versicolor, and trains a neural net to classify their species based on their petal lengths and widths.\n",
    "\n",
    "__Answer the following questions:__ \n",
    "1. Modify your neural net to classify the virginica and versicolor flowers based on their __sepal lengths and widths__. How does this perform compared to the petal length/width classifier? Compare your conclusion to the 4x4 grid of plots from HW 7. Does this make sense? Explain. \n",
    "\n",
    "2. Modify your neural net to classify the virginica and __setosa__ flowers based on their __petal lengths and widths__. How does this perform compared to the petal length/width classifier? Compare your conclusion to the 4x4 grid of plots from HW 7. Does this make sense? Explain. \n",
    "\n",
    "__Source:__ (DEPRECATED) https://towardsdatascience.com/neural-network-on-iris-data-4e99601a42c8\n",
    "https://towardsdatascience.com/7-steps-to-design-a-basic-neural-network-part-2-of-2-792cb7273c3"
   ]
  },
  {
   "cell_type": "code",
   "execution_count": 21,
   "metadata": {},
   "outputs": [],
   "source": [
    "import numpy as np\n",
    "import matplotlib.pyplot as plt\n",
    "import pandas as pd\n",
    "%matplotlib inline"
   ]
  },
  {
   "cell_type": "markdown",
   "metadata": {},
   "source": [
    "# Import and format the data"
   ]
  },
  {
   "cell_type": "code",
   "execution_count": 22,
   "metadata": {},
   "outputs": [
    {
     "data": {
      "text/html": [
       "<div>\n",
       "<style scoped>\n",
       "    .dataframe tbody tr th:only-of-type {\n",
       "        vertical-align: middle;\n",
       "    }\n",
       "\n",
       "    .dataframe tbody tr th {\n",
       "        vertical-align: top;\n",
       "    }\n",
       "\n",
       "    .dataframe thead th {\n",
       "        text-align: right;\n",
       "    }\n",
       "</style>\n",
       "<table border=\"1\" class=\"dataframe\">\n",
       "  <thead>\n",
       "    <tr style=\"text-align: right;\">\n",
       "      <th></th>\n",
       "      <th>Unnamed: 0</th>\n",
       "      <th>Sepal.Length</th>\n",
       "      <th>Sepal.Width</th>\n",
       "      <th>Petal.Length</th>\n",
       "      <th>Petal.Width</th>\n",
       "      <th>Species</th>\n",
       "    </tr>\n",
       "  </thead>\n",
       "  <tbody>\n",
       "    <tr>\n",
       "      <th>0</th>\n",
       "      <td>1</td>\n",
       "      <td>5.1</td>\n",
       "      <td>3.5</td>\n",
       "      <td>1.4</td>\n",
       "      <td>0.2</td>\n",
       "      <td>setosa</td>\n",
       "    </tr>\n",
       "    <tr>\n",
       "      <th>1</th>\n",
       "      <td>2</td>\n",
       "      <td>4.9</td>\n",
       "      <td>3.0</td>\n",
       "      <td>1.4</td>\n",
       "      <td>0.2</td>\n",
       "      <td>setosa</td>\n",
       "    </tr>\n",
       "    <tr>\n",
       "      <th>2</th>\n",
       "      <td>3</td>\n",
       "      <td>4.7</td>\n",
       "      <td>3.2</td>\n",
       "      <td>1.3</td>\n",
       "      <td>0.2</td>\n",
       "      <td>setosa</td>\n",
       "    </tr>\n",
       "    <tr>\n",
       "      <th>3</th>\n",
       "      <td>4</td>\n",
       "      <td>4.6</td>\n",
       "      <td>3.1</td>\n",
       "      <td>1.5</td>\n",
       "      <td>0.2</td>\n",
       "      <td>setosa</td>\n",
       "    </tr>\n",
       "    <tr>\n",
       "      <th>4</th>\n",
       "      <td>5</td>\n",
       "      <td>5.0</td>\n",
       "      <td>3.6</td>\n",
       "      <td>1.4</td>\n",
       "      <td>0.2</td>\n",
       "      <td>setosa</td>\n",
       "    </tr>\n",
       "  </tbody>\n",
       "</table>\n",
       "</div>"
      ],
      "text/plain": [
       "   Unnamed: 0  Sepal.Length  Sepal.Width  Petal.Length  Petal.Width Species\n",
       "0           1           5.1          3.5           1.4          0.2  setosa\n",
       "1           2           4.9          3.0           1.4          0.2  setosa\n",
       "2           3           4.7          3.2           1.3          0.2  setosa\n",
       "3           4           4.6          3.1           1.5          0.2  setosa\n",
       "4           5           5.0          3.6           1.4          0.2  setosa"
      ]
     },
     "execution_count": 22,
     "metadata": {},
     "output_type": "execute_result"
    }
   ],
   "source": [
    "#import the data. \n",
    "\n",
    "path_to_iris_csv = \"HW7_8_iris.csv\"\n",
    "\n",
    "dataset = pd.read_csv(path_to_iris_csv)\n",
    "dataset.head()"
   ]
  },
  {
   "cell_type": "code",
   "execution_count": 23,
   "metadata": {},
   "outputs": [
    {
     "data": {
      "text/plain": [
       "(149, 6)"
      ]
     },
     "execution_count": 23,
     "metadata": {},
     "output_type": "execute_result"
    }
   ],
   "source": [
    "#convert the data to an array, and throw away the first row containing the column titles. \n",
    "data = np.array(dataset.values)\n",
    "data = data[1:][:]\n",
    "data.shape"
   ]
  },
  {
   "cell_type": "markdown",
   "metadata": {},
   "source": [
    "# Build a neural network"
   ]
  },
  {
   "cell_type": "code",
   "execution_count": 39,
   "metadata": {},
   "outputs": [],
   "source": [
    "#DECLARE FUNCTIONS: \n",
    "\n",
    "#this initializes the neural net's first \"guessing method\" to something random-\n",
    "#it has no idea what it's looking for when it starts \n",
    "def initialize_parameters(n_x, n_h, n_y):\n",
    "    \n",
    "    np.random.seed(2) # seed the random number generator so that it produces consistent results every run. \n",
    "    \n",
    "    W1 = np.random.randn(n_h, n_x) * 0.01   #weight matrix of shape (n_h, n_x)\n",
    "    b1 = np.zeros(shape=(n_h, 1))           #bias vector of shape (n_h, 1)\n",
    "    W2 = np.random.randn(n_y, n_h) * 0.01   #weight matrix of shape (n_y, n_h)\n",
    "    b2 = np.zeros(shape=(n_y, 1))           #bias vector of shape (n_y, 1)\n",
    "       \n",
    "    #store parameters into a dictionary    \n",
    "    parameters = {\"W1\": W1,\n",
    "                  \"b1\": b1,\n",
    "                  \"W2\": W2,\n",
    "                  \"b2\": b2}\n",
    "#     {'W1': array([[-0.00416758, -0.00056267],\n",
    "#        [-0.02136196,  0.01640271],\n",
    "#        [-0.01793436, -0.00841747],\n",
    "#        [ 0.00502881, -0.01245288],\n",
    "#        [-0.01057952, -0.00909008],\n",
    "#        [ 0.00551454,  0.02292208]]), \n",
    "#      'b1': array([[0.],[0.],[0.],[0.],[0.],[0.]]), \n",
    "#      'W2': array([[ 0.00041539, -0.01117925,  0.00539058, -0.0059616 , -0.0001913 ,\n",
    "#          0.01175001]]), \n",
    "#      'b2': array([[0.]])}\n",
    "    return parameters\n",
    "\n",
    "#Function to define the size of the layer\n",
    "def layer_sizes(X, Y):\n",
    "    n_x = X.shape[0]  # size of input layer  \n",
    "    n_h = 6 # size of hidden layer\n",
    "    n_y = Y.shape[0] # size of output layer \n",
    "     \n",
    "    return (n_x, n_h, n_y)\n",
    "\n",
    "#this function computes the neural net's best guess for what Y should be given X,\n",
    "#based on what it's learned so far. \n",
    "def forward_propagation(X, parameters):\n",
    "    \n",
    "    #retrieve intialized parameters from dictionary    \n",
    "    W1 = parameters['W1']\n",
    "    b1 = parameters['b1']\n",
    "    W2 = parameters['W2']\n",
    "    b2 = parameters['b2']\n",
    "    \n",
    "    # Implement Forward Propagation to calculate A2 (probability)\n",
    "    Z1 = np.dot(W1, X) + b1\n",
    "    A1 = np.tanh(Z1)  #tanh activation function\n",
    "    Z2 = np.dot(W2, A1) + b2\n",
    "    A2 = 1/(1+np.exp(-Z2))  #sigmoid activation function\n",
    "    \n",
    "    cache = {\"Z1\": Z1,\n",
    "             \"A1\": A1,\n",
    "             \"Z2\": Z2,\n",
    "             \"A2\": A2}\n",
    "    \n",
    "    return A2, cache\n",
    "\n",
    "#this function essentially calculates how close the neural net's \"guess\" A2 was \n",
    "#compared to the true answer Y. \n",
    "def compute_cost(A2, Y, parameters):\n",
    "   \n",
    "    m = Y.shape[1] # number of training examples\n",
    "    \n",
    "    # Retrieve W1 and W2 from parameters\n",
    "    W1 = parameters['W1']\n",
    "    W2 = parameters['W2']\n",
    "    \n",
    "    # Compute the cross-entropy cost\n",
    "    logprobs = np.multiply(np.log(A2), Y) + np.multiply((1 - Y), np.log(1 - A2))\n",
    "    cost = - np.sum(logprobs) / m\n",
    "    \n",
    "    return cost\n",
    "\n",
    "#this function adjusts the neural net's guessing method based on how well it\n",
    "#guessed last time. This is like giving the neural net feedback on how it performed. \n",
    "def backward_propagation(parameters, cache, X, Y):\n",
    "# Number of training examples\n",
    "    m = X.shape[1]\n",
    "    \n",
    "    # First, retrieve W1 and W2 from the dictionary \"parameters\".\n",
    "    W1 = parameters['W1']\n",
    "    W2 = parameters['W2']\n",
    "        \n",
    "    # Retrieve A1 and A2 from dictionary \"cache\".\n",
    "    A1 = cache['A1']\n",
    "    A2 = cache['A2']\n",
    "    \n",
    "    # Backward propagation: calculate dW1, db1, dW2, db2. \n",
    "    dZ2= A2 - Y\n",
    "    dW2 = (1 / m) * np.dot(dZ2, A1.T)\n",
    "    db2 = (1 / m) * np.sum(dZ2, axis=1, keepdims=True)\n",
    "    dZ1 = np.multiply(np.dot(W2.T, dZ2), 1 - np.power(A1, 2))\n",
    "    dW1 = (1 / m) * np.dot(dZ1, X.T)\n",
    "    db1 = (1 / m) * np.sum(dZ1, axis=1, keepdims=True)\n",
    "    grads = {\"dW1\": dW1,\n",
    "             \"db1\": db1,\n",
    "             \"dW2\": dW2,\n",
    "             \"db2\": db2}\n",
    "    \n",
    "    return grads\n",
    "\n",
    "#this function updates the neural net's guessing method using the results of backward_propagation. \n",
    "def update_parameters(parameters, grads, learning_rate=1.2):\n",
    "    # Retrieve each parameter from the dictionary \"parameters\"\n",
    "    W1 = parameters['W1']\n",
    "    b1 = parameters['b1']\n",
    "    W2 = parameters['W2']\n",
    "    b2 = parameters['b2']\n",
    "    \n",
    "    # Retrieve each gradient from the dictionary \"grads\"\n",
    "    dW1 = grads['dW1']\n",
    "    db1 = grads['db1']\n",
    "    dW2 = grads['dW2']\n",
    "    db2 = grads['db2']\n",
    "    \n",
    "    # Update rule for each parameter\n",
    "    W1 = W1 - learning_rate * dW1\n",
    "    b1 = b1 - learning_rate * db1\n",
    "    W2 = W2 - learning_rate * dW2\n",
    "    b2 = b2 - learning_rate * db2\n",
    "    \n",
    "    parameters = {\"W1\": W1,\n",
    "                  \"b1\": b1,\n",
    "                  \"W2\": W2,\n",
    "                  \"b2\": b2}\n",
    "    \n",
    "    return parameters\n"
   ]
  },
  {
   "cell_type": "code",
   "execution_count": 57,
   "metadata": {},
   "outputs": [],
   "source": [
    "\n",
    "#this is the actual neural net and the loop is where it learns! \n",
    "#given some input X, learn to predict Y from X. \n",
    "#n_h is a measure of how complex the neural net is.\n",
    "#num_iterations is the number of times the neural net will guess and then update its guessing method with feedback\n",
    "def nn_model(X, Y, n_h, num_iterations=10000, print_cost=False):\n",
    "    #set up some dimensions of the neural net. \n",
    "    np.random.seed(3)\n",
    "    n_x, _, n_y = layer_sizes(X, Y)\n",
    "    #initialize the neural net's first guess with some random numbers to fill in the matrices/vectors\n",
    "    parameters = initialize_parameters(n_x, n_h, n_y)\n",
    "    \n",
    "    #unpack parameters into variables W1, b1, W2, b2. \n",
    "    W1 = parameters['W1']\n",
    "    b1 = parameters['b1']\n",
    "    W2 = parameters['W2']\n",
    "    b2 = parameters['b2']\n",
    "    \n",
    "    #loop over the number of times the neural net will guess, get feedback, and update its guessing method. \n",
    "    for i in range(0, num_iterations):\n",
    "         \n",
    "        #here, the neural net makes some predictions about what Y should be given X\n",
    "        #based on its current guessing method. \n",
    "        #A2 is its guess. \n",
    "        #cache simply stores some intermediate results as the neural net is doing its math. \n",
    "        A2, cache = forward_propagation(X, parameters)\n",
    "#         print(A2[0])\n",
    "#         print(Y[0])\n",
    "        #then, we compare the neural net's guess A2 to the true answer Y to see how well it's doing. \n",
    "        cost = compute_cost(A2, Y, parameters)\n",
    "         \n",
    "        #now, the neural net figures out how far off it was and uses that to adjust\n",
    "        #its guessing method for the next go-around. \n",
    "        grads = backward_propagation(parameters, cache, X, Y) \n",
    "        parameters = update_parameters(parameters, grads)\n",
    "        \n",
    "        \n",
    "        #this prints out how well the neural net is doing every 1000 steps. \n",
    "        if print_cost and i % 1000 == 0:\n",
    "            print (\"Cost after iteration %i: %f\" % (i, cost))\n",
    "    \n",
    "    #once we're done, return the neural net's final answer for its fitted model on how to predict Y from X. \n",
    "    return parameters,n_h\n"
   ]
  },
  {
   "cell_type": "markdown",
   "metadata": {},
   "source": [
    "# Set up the data you will hand the neural net and inspect it."
   ]
  },
  {
   "cell_type": "code",
   "execution_count": 58,
   "metadata": {},
   "outputs": [
    {
     "name": "stdout",
     "output_type": "stream",
     "text": [
      "     Unnamed: 0  Sepal.Length  Sepal.Width  Petal.Length  Petal.Width  \\\n",
      "0             1           5.1          3.5           1.4          0.2   \n",
      "1             2           4.9          3.0           1.4          0.2   \n",
      "2             3           4.7          3.2           1.3          0.2   \n",
      "3             4           4.6          3.1           1.5          0.2   \n",
      "4             5           5.0          3.6           1.4          0.2   \n",
      "..          ...           ...          ...           ...          ...   \n",
      "145         146           6.7          3.0           5.2          2.3   \n",
      "146         147           6.3          2.5           5.0          1.9   \n",
      "147         148           6.5          3.0           5.2          2.0   \n",
      "148         149           6.2          3.4           5.4          2.3   \n",
      "149         150           5.9          3.0           5.1          1.8   \n",
      "\n",
      "       Species  \n",
      "0       setosa  \n",
      "1       setosa  \n",
      "2       setosa  \n",
      "3       setosa  \n",
      "4       setosa  \n",
      "..         ...  \n",
      "145  virginica  \n",
      "146  virginica  \n",
      "147  virginica  \n",
      "148  virginica  \n",
      "149  virginica  \n",
      "\n",
      "[150 rows x 6 columns]\n"
     ]
    },
    {
     "data": {
      "image/png": "[encoded data removed]",
      "text/plain": [
       "<Figure size 432x288 with 1 Axes>"
      ]
     },
     "metadata": {
      "needs_background": "light"
     },
     "output_type": "display_data"
    }
   ],
   "source": [
    "#this cell intentionally left uncommented. \n",
    "#TODO: read through this and parse what it is doing! \n",
    "#you might need to look up the .loc function from the pandas module. \n",
    "\n",
    "path_to_iris_file = \"HW7_8_iris.csv\"\n",
    "\n",
    "#this works\n",
    "# virginica, setosa, petal length vs width. \n",
    "iris = pd.read_csv(path_to_iris_file)\n",
    "# BE CAREFUL!!! \n",
    "# Pick the first species you want to compare, and set it to 0. \n",
    "# Pick the second species you want to compare, and set it to 1. \n",
    "# Set the last remaining species to 2. \n",
    "\n",
    "iris.loc[iris['Species']=='virginica','Species']= 0\n",
    "iris.loc[iris['Species']=='versicolor','Species']= 1\n",
    "iris.loc[iris['Species']=='setosa','Species'] = 2\n",
    "\n",
    "iris = iris[iris['Species']!=2]\n",
    "\n",
    "# This will grab all the values within petal length and petal width, and transpose so that the columns are written into the list as one whole row\n",
    "X = iris[['Petal.Length', 'Petal.Width']].values.T\n",
    "Y = iris[['Species']].values.T\n",
    "Y = Y.astype('uint8')\n",
    "#Make a scatter plot\n",
    "fig, ax = plt.subplots()\n",
    "ax.scatter(X[0, :], X[1, :], c=Y[0,:], s=40, cmap=plt.cm.Spectral);\n",
    "fig.suptitle(\"IRIS DATA Blue - Versicolor, Red - Virginica \")\n",
    "ax.set_xlabel('Petal Length')\n",
    "ax.set_ylabel('Petal Width');\n"
   ]
  },
  {
   "cell_type": "markdown",
   "metadata": {},
   "source": [
    "# Run your neural net:"
   ]
  },
  {
   "cell_type": "code",
   "execution_count": 59,
   "metadata": {},
   "outputs": [
    {
     "name": "stdout",
     "output_type": "stream",
     "text": [
      "{'W1': array([[-0.00416758, -0.00056267],\n",
      "       [-0.02136196,  0.01640271],\n",
      "       [-0.01793436, -0.00841747],\n",
      "       [ 0.00502881, -0.01245288],\n",
      "       [-0.01057952, -0.00909008],\n",
      "       [ 0.00551454,  0.02292208]]), 'b1': array([[0.],\n",
      "       [0.],\n",
      "       [0.],\n",
      "       [0.],\n",
      "       [0.],\n",
      "       [0.]]), 'W2': array([[ 0.00041539, -0.01117925,  0.00539058, -0.0059616 , -0.0001913 ,\n",
      "         0.01175001]]), 'b2': array([[0.]])}\n",
      "Cost after iteration 0: 0.693225\n",
      "Cost after iteration 1000: 0.402530\n",
      "Cost after iteration 2000: 0.149060\n",
      "Cost after iteration 3000: 0.132325\n",
      "Cost after iteration 4000: 0.132567\n",
      "Cost after iteration 5000: 0.115366\n",
      "Cost after iteration 6000: 0.099302\n",
      "Cost after iteration 7000: 0.097014\n",
      "Cost after iteration 8000: 0.095698\n",
      "Cost after iteration 9000: 0.094169\n"
     ]
    }
   ],
   "source": [
    "#run your neural net! \n",
    "parameters = nn_model(X,Y , n_h = 6, num_iterations=10000, print_cost=True)"
   ]
  },
  {
   "cell_type": "markdown",
   "metadata": {},
   "source": [
    "# __DISCUSSION:__ What happens to the cost every thousand iterations? What does this mean?"
   ]
  },
  {
   "cell_type": "code",
   "execution_count": null,
   "metadata": {},
   "outputs": [],
   "source": []
  },
  {
   "cell_type": "markdown",
   "metadata": {},
   "source": [
    "# Visualize your neural network's performance:"
   ]
  },
  {
   "cell_type": "code",
   "execution_count": null,
   "metadata": {},
   "outputs": [],
   "source": [
    "# given your neural network's final answer, predict the values of Y given X. \n",
    "def predict(X, parameters):\n",
    "    \n",
    "    W1 = parameters[0]['W1']\n",
    "    b1 = parameters[0]['b1']\n",
    "    W2 = parameters[0]['W2']\n",
    "    b2 = parameters[0]['b2']\n",
    "\n",
    "    Z1 = np.dot(W1, X) + b1\n",
    "    A1 = np.tanh(Z1)  #tanh activation function\n",
    "    Z2 = np.dot(W2, A1) + b2\n",
    "    A2 = 1/(1+np.exp(-Z2))  #sigmoid activation function\n",
    "    \n",
    "    return A2\n",
    "\n",
    "\n",
    "def plot_decision_boundary(model, X, y):\n",
    "    # Set min and max values and give it some padding\n",
    "    x_min, x_max = X[0, :].min() - 0.25, X[0, :].max() + 0.25\n",
    "    y_min, y_max = X[1, :].min() - 0.25, X[1, :].max() + 0.25\n",
    "    h = 0.01\n",
    "    \n",
    "    # Generate a grid of points with distance h between them\n",
    "    xx, yy = np.meshgrid(np.arange(x_min, x_max, h), np.arange(y_min, y_max, h))\n",
    "    \n",
    "    # Predict the function value for the whole grid -- this will include new points that were not in our dataset!\n",
    "    Z = model(np.c_[xx.ravel(), yy.ravel()])\n",
    "    Z = Z.reshape(xx.shape)\n",
    "    \n",
    "    # Plot the contour and training examples\n",
    "    plt.contourf(xx, yy, Z, cmap=plt.cm.Spectral)\n",
    "    plt.ylabel('x2')\n",
    "    plt.xlabel('x1')\n",
    "    plt.scatter(X[0, :], X[1, :], c=y, cmap=plt.cm.Spectral)\n",
    "    \n",
    "\n",
    "plot_decision_boundary(lambda x: predict(x.T, parameters), X, Y[0,:])\n",
    "\n",
    "plt.title(\"Decision Boundary for hidden layer size \" + str(6))\n",
    "plt.xlabel('Petal Length')\n",
    "plt.ylabel('Petal Width');\n"
   ]
  },
  {
   "cell_type": "markdown",
   "metadata": {},
   "source": [
    "# Answer the following discussion questions: \n",
    "\n",
    "Please inspect the following grid of scatter plots from HW 7, which visualizes the iris data set. (If you cannot see the picture, you can also download challenge_ref.png from Canvas/Extras/HW 7 figures). \n",
    "\n",
    "<img src=\"HW 7 figures/challenge_ref.png\" alt=\"Drawing\" align=\"left\" style=\"width: 800px;\"/>\n",
    "\n",
    "\n",
    "\n"
   ]
  },
  {
   "cell_type": "markdown",
   "metadata": {},
   "source": [
    "1. Modify your neural net to classify the virginica and versicolor flowers based on their __sepal lengths and widths__. How does this perform compared to the petal length/width classifier? Compare your conclusion to the 4x4 grid of plots from HW 7, shown above. Does this make sense? Explain. \n",
    "\n",
    "\n"
   ]
  },
  {
   "cell_type": "code",
   "execution_count": null,
   "metadata": {},
   "outputs": [],
   "source": []
  },
  {
   "cell_type": "markdown",
   "metadata": {},
   "source": [
    "2. Modify your neural net to classify the virginica and __setosa__ flowers based on their __petal lengths and widths__. How does this perform compared to the petal length/width classifier? Compare your conclusion to the 4x4 grid of plots from HW 7. Does this make sense? Explain. "
   ]
  },
  {
   "cell_type": "code",
   "execution_count": null,
   "metadata": {},
   "outputs": [],
   "source": [
    "\n",
    "\n",
    "\n"
   ]
  },
  {
   "cell_type": "markdown",
   "metadata": {},
   "source": [
    "__Feedback__: How long did this assignment take you? On a scale of 1 (simple) to 5 (difficult), how did it go? "
   ]
  },
  {
   "cell_type": "code",
   "execution_count": null,
   "metadata": {},
   "outputs": [],
   "source": [
    "# TODO: how long did this assignment take you?"
   ]
  },
  {
   "cell_type": "code",
   "execution_count": null,
   "metadata": {},
   "outputs": [],
   "source": [
    "# TODO: rate this HW's difficulty on a scale of 1-5. "
   ]
  },
  {
   "cell_type": "markdown",
   "metadata": {},
   "source": [
    "__Feedback__: How comfortable do you feel with the topics covered in this assignment? Are there any topics you would like to review together as a class? "
   ]
  },
  {
   "cell_type": "code",
   "execution_count": null,
   "metadata": {},
   "outputs": [],
   "source": [
    "# TODO: Convert to a markdown cell and \n",
    "# answer feedback questions above."
   ]
  }
 ],
 "metadata": {
  "kernelspec": {
   "display_name": "Python 3",
   "language": "python",
   "name": "python3"
  },
  "language_info": {
   "codemirror_mode": {
    "name": "ipython",
    "version": 3
   },
   "file_extension": ".py",
   "mimetype": "text/x-python",
   "name": "python",
   "nbconvert_exporter": "python",
   "pygments_lexer": "ipython3",
   "version": "3.9.6"
  }
 },
 "nbformat": 4,
 "nbformat_minor": 2
}
