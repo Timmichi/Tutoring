{
 "cells": [
  {
   "cell_type": "markdown",
   "metadata": {},
   "source": [
    "# Friday, Week 1: Homework 5\n",
    "# Medical Data Analysis\n",
    "\n",
    "__Learning objective:__ read and manipulate data from files.  \n",
    "\n",
    "__Task:__ You are a doctor working on a clinical study of a particular kind of cancer. Your lab has collected patient files containing patient information and an excerpt from their genome from three separate hospitals. Some of the patients have been diagnosed with cancer; others are healthy. Your task is to identify the genomic sequence responsible for this type of cancer, so that your colleagues may design a drug to target it. \n",
    "\n",
    "Here's what you know:\n",
    "1. The human genome is a sequence of base pairs, represented by the letters 'G', 'A', 'T', and 'C', in random order. A single letter corresponds to one base pair. It encodes the body's biology and tells cells what to do. Cancer behaves like a bad instruction that hijacks healthy cells and makes them sick. \n",
    "2. Your lab has figured out that the genomic sequence responsible for cancer is definitely 10 base pairs long, and now you need to identify it. \n",
    "3. No healthy patient has the gene sequence responsible for cancer, and vice versa: all sick patients have it in their genome. \n",
    "4. Hospitals are notorious for their bureaucracy, and there is no standardized system of recording medical information. The three different hospitals from which you have patient data all record their patient information at the top of their files, but in different formats. All files begin with some information about the patient and finish with a single line containing that patient's genomic sequence. \n",
    "5. All patient files note the patient's name, birthday, medication (the patient only takes medication if they are sick. The files indicate that a healthy patient takes no medication), dosage of medication (if applicable), and stage of cancer (0 if healthy, 1-4 if sick).\n",
    "\n",
    "Be sure to use your code from the second half of last night's homework to fill in the find_shared_pattern() function and the control code at the bottom of the following cell that loops over all patient genomes and finds a substring common to all of them.  \n",
    "\n",
    "__Using this information, work through the TO-DO items in the following code skeleton/pseudocode:__"
   ]
  },
  {
   "cell_type": "code",
   "execution_count": 36,
   "metadata": {},
   "outputs": [
    {
     "name": "stdout",
     "output_type": "stream",
     "text": [
      "# of healthy patients:  11\n",
      "# of sick patients:  39\n",
      "The gene sequence responsible for cancer is: GATTACAGGA\n"
     ]
    }
   ],
   "source": [
    "import os\n",
    "\n",
    "# Getting the current work directory (cwd)\n",
    "thisdir = os.getcwd()\n",
    "\n",
    "# r=root, d=directories, f = files\n",
    "file_list = []\n",
    "for r, d, f in os.walk(thisdir):\n",
    "    for directory in d:\n",
    "        if directory == \"pre treatment data\":\n",
    "            patient_directory = os.path.join(r,directory)\n",
    "            for r1, d1, f1 in os.walk(patient_directory):\n",
    "                for file in f1:\n",
    "                    file_list.append(os.path.join(r1, file))\n",
    "\n",
    "sick_genomes = []\n",
    "healthy_genomes = []\n",
    "for file_path in file_list:\n",
    "    f = open(file_path, \"r\")\n",
    "    has_cancer = False\n",
    "    for line in f:\n",
    "        # \"Stage 5\"\n",
    "        if line[0:5] == \"Stage\" and int(line[6]) > 0:\n",
    "            has_cancer = True\n",
    "    genomic_sequence = line\n",
    "    if has_cancer:\n",
    "        sick_genomes.append(genomic_sequence)\n",
    "    else:\n",
    "        healthy_genomes.append(genomic_sequence)\n",
    "\n",
    "print(\"# of healthy patients: \", len(healthy_genomes))\n",
    "print(\"# of sick patients: \", len(sick_genomes))  \n",
    "\n",
    "all_patient_sets = []\n",
    "start_index = 0\n",
    "end_index = 10\n",
    "for sequence in sick_genomes:\n",
    "    patient_set = set()\n",
    "    while end_index <= len(sequence):\n",
    "        patient_set.add(sequence[start_index: end_index])\n",
    "        start_index += 1\n",
    "        end_index += 1\n",
    "    all_patient_sets.append(patient_set)\n",
    "    start_index = 0\n",
    "    end_index = 10\n",
    "\n",
    "def find_shared_pattern(all_patient_sets): \n",
    "    shared_set = all_patient_sets[0]\n",
    "    for index in range(1, len(all_patient_sets)): \n",
    "        shared_set = shared_set & all_patient_sets[index]\n",
    "    return list(shared_set)\n",
    "\n",
    "cancer_sequence = find_shared_pattern(all_patient_sets)\n",
    "print('The gene sequence responsible for cancer is:', cancer_sequence[0])\n",
    "        \n",
    "            "
   ]
  },
  {
   "cell_type": "markdown",
   "metadata": {},
   "source": [
    "__Feedback__: How long did this assignment take you? On a scale of 1 (simple) to 5 (difficult), how did it go? "
   ]
  },
  {
   "cell_type": "code",
   "execution_count": null,
   "metadata": {},
   "outputs": [],
   "source": [
    "# If Stage not 0, then cancer.\n",
    "\n",
    "import glob, os\n",
    "\n",
    "CANCER_GENE_LENGTH = 10\n",
    "\n",
    "def find_shared_pattern(test_lists): \n",
    "    #TODO: fill this in using your code from last night's homework and today's classwork. \n",
    "    #the length of the common member substring is 10 characters, or CANCER_GENE_LENGTH. \n",
    "    return shared_patterns\n",
    "\n",
    "base_pairs = ['G', 'T', 'A', 'C'] \n",
    "\n",
    "path_to_files = #TODO: enter the path to the patient files here \n",
    "\n",
    "sick_genomes = []\n",
    "healthy_genomes = []\n",
    "\n",
    "#loop over all patient files, and, for a given patient:\n",
    "    #open this patient's file \n",
    "    #read in file data:\n",
    "        #is this person healthy or sick? \n",
    "        #if this person is healthy, \n",
    "            #append their GENOME SEQUENCE ONLY (no medical info header) to healthy_genomes\n",
    "        #otherwise, if they're sick,\n",
    "            #append their GENOME SEQUENCE ONLY to sick_genomes\n",
    "\n",
    "\n",
    "print(\"# of healthy patients: \", len(healthy_genomes))\n",
    "print(\"# of healthy patients: \", len(sick_genomes))   \n",
    "\n",
    "\n",
    "#TODO: using code from last night's homework and the find_shared_pattern function above, \n",
    "#find the 10 character substring that is common to all sick patients' genomes. \n",
    "cancer_gene = ....... \n",
    "\n",
    "print('The gene sequence responsible for cancer is:', cancer_gene)"
   ]
  },
  {
   "cell_type": "markdown",
   "metadata": {},
   "source": [
    "__Feedback__: How long did this assignment take you? On a scale of 1 (simple) to 5 (difficult), how did it go? "
   ]
  },
  {
   "cell_type": "code",
   "execution_count": null,
   "metadata": {},
   "outputs": [],
   "source": [
    "# TODO: how long did this assignment take you?"
   ]
  },
  {
   "cell_type": "code",
   "execution_count": null,
   "metadata": {},
   "outputs": [],
   "source": [
    "# TODO: rate this HW's difficulty on a scale of 1-5. "
   ]
  },
  {
   "cell_type": "markdown",
   "metadata": {},
   "source": [
    "__Feedback__: How comfortable do you feel with the topics covered in this assignment? Are there any topics you would like to review together as a class? "
   ]
  },
  {
   "cell_type": "code",
   "execution_count": null,
   "metadata": {},
   "outputs": [],
   "source": [
    "# TODO: Convert to a markdown cell and \n",
    "# answer feedback questions above."
   ]
  }
 ],
 "metadata": {
  "kernelspec": {
   "display_name": "Python 3",
   "language": "python",
   "name": "python3"
  },
  "language_info": {
   "codemirror_mode": {
    "name": "ipython",
    "version": 3
   },
   "file_extension": ".py",
   "mimetype": "text/x-python",
   "name": "python",
   "nbconvert_exporter": "python",
   "pygments_lexer": "ipython3",
   "version": "3.9.6"
  }
 },
 "nbformat": 4,
 "nbformat_minor": 2
}
