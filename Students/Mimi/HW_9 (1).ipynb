{
 "cells": [
  {
   "cell_type": "markdown",
   "source": [
    "# Thursday, Week 2: HW 9\n",
    "# What matters to you?\n",
    "\n",
    "\n",
    "__Task:__ Think of a quantitative question you'd like to know the answer to, a problem you'd like to solve, a task you'd like to perform, or a puzzle you'd like to crack. It can be anything (it doesn't have to be related to science)... so long as it *matters* to *you*. Then, take a crack at solving it using Python! \n",
    "\n",
    "You might discover that it will take you far longer than a single day to answer your question, or you'll find that you can tackle it in a single evening. Both are worth celebrating. If your question is very big, start by breaking it up into bite-sized goals and tackling them one at a time. If your question is quick to answer, brainstorm a follow-up you'd like to solve next. Follow your curiosity where it takes you and be bold, be brave, don't fake. Do something that *you* care about. Do it as authentically and earnestly as you possibly can. You'll be amazed at where that path will take you. \n",
    "\n",
    "The task you choose is entirely up to you. In order to meet the requirements of the Pre-College Program and pass the course, (as with all assignments) you must submit your own, individual, complete work for this homework and demonstrate a strong effort to make progress. Your work should show basic mastery of many of the concepts covered in the course (though it is alright if you don't touch on all of them; for instance, it's okay if your project doesn't require you to make any plots). In other words, the task you choose to tackle should be complex enough that it invokes many of the topics we covered in class. \n",
    "\n",
    "If you would like some help brainstorming questions/approaches, be sure to attend section and/or office hours, or send Charles/Nina an email. "
   ],
   "metadata": {}
  },
  {
   "cell_type": "markdown",
   "source": [
    "__Tell us about your question/problem/task/puzzle and why it's important or interesting to you:__ "
   ],
   "metadata": {}
  },
  {
   "cell_type": "code",
   "execution_count": 3,
   "source": [
    "# TODO convert to a markdown cell and answer the question above here."
   ],
   "outputs": [],
   "metadata": {}
  },
  {
   "cell_type": "markdown",
   "source": [
    "__How will you approach your question/problem/task/puzzle? What would you like to accomplish?__"
   ],
   "metadata": {}
  },
  {
   "cell_type": "code",
   "execution_count": 4,
   "source": [
    "# TODO convert to a markdown cell and answer the question above here."
   ],
   "outputs": [],
   "metadata": {}
  },
  {
   "cell_type": "markdown",
   "source": [
    "__Take a crack at it with Python!__ "
   ],
   "metadata": {}
  },
  {
   "cell_type": "code",
   "execution_count": 5,
   "source": [
    "# imports\r\n",
    "from bs4 import BeautifulSoup\r\n",
    "import matplotlib.pyplot as plt; plt.rcdefaults()\r\n",
    "import numpy as np\r\n",
    "import matplotlib.pyplot as plt\r\n",
    "import requests\r\n",
    "import collections\r\n",
    "# This gives us our \"soup\" which contains all the html in a way that we can find things\r\n",
    "main_link = \"https://www.foodnetwork.com/recipes/photos/30-minute-dinner-recipes\"\r\n",
    "response = requests.get(main_link)\r\n",
    "response = response.content\r\n",
    "soup = BeautifulSoup(response,'html.parser')\r\n",
    "\r\n",
    "# Extract all of the links for the recipes on this url (website)\r\n",
    "links_located = soup.find_all(class_=\"o-PhotoGalleryPromo__a-Cta\")\r\n",
    "recipes_links = list(map(lambda x: \"https:\" + x.find(\"a\").get('href'),links_located))\r\n",
    "\r\n",
    "# Go through each of the links (recipes) in our links (recipes) list\r\n",
    "recipes_dictionary = {}\r\n",
    "for link in recipes_links:\r\n",
    "    response = requests.get(link)\r\n",
    "    response = response.content\r\n",
    "    soup = BeautifulSoup(response,'html.parser')\r\n",
    "    name = soup.find(class_=\"o-AssetTitle__a-HeadlineText\").text\r\n",
    "    level_time = soup.find_all(lambda tag: tag.name == 'span' and \r\n",
    "                               tag.get('class') == ['o-RecipeInfo__a-Description'])[:2]\r\n",
    "    level, time = list(map(lambda x: x.text,level_time))\r\n",
    "    try:\r\n",
    "        time = int(time.split(\" \")[1])\r\n",
    "    except:\r\n",
    "        continue\r\n",
    "    if level == \"Easy\":\r\n",
    "        if time not in recipes_dictionary:\r\n",
    "            recipes_dictionary[time] = 1\r\n",
    "        else:\r\n",
    "            recipes_dictionary[time] += 1"
   ],
   "outputs": [],
   "metadata": {}
  },
  {
   "cell_type": "code",
   "execution_count": 8,
   "source": [
    "# Create bar graph of amount of recipes that have a given time\r\n",
    "recipes_dictionary = collections.OrderedDict(sorted(recipes_dictionary.items()))\r\n",
    "# d = {'57481': 50, '57480': 89, '57483': 110, '57482': 18, '57485': 82, '57484': 40}\r\n",
    "# d_sorted = {key:value for key, value in sorted(d.items(), key=lambda item: int(item[0]))}\r\n",
    "# d_sorted\r\n",
    "# {'57480': 89, '57481': 50, '57482': 18, '57483': 110, '57484': 40, '57485': 82}\r\n",
    "objects = recipes_dictionary.keys()\r\n",
    "y_pos = np.arange(len(objects))\r\n",
    "frequencies = recipes_dictionary.values()\r\n",
    "\r\n",
    "plt.bar(y_pos, frequencies, align='center', alpha=0.5)\r\n",
    "plt.xticks(y_pos, objects)\r\n",
    "plt.ylabel('Number of Recipes')\r\n",
    "plt.xlabel('Time in Minutes')\r\n",
    "plt.title('Time Distribution for Number of Easy Recipes')\r\n",
    "plt.show()"
   ],
   "outputs": [
    {
     "output_type": "display_data",
     "data": {
      "text/plain": [
       "<Figure size 640x480 with 1 Axes>"
      ],
      "image/png": "[encoded data removed]"
     },
     "metadata": {}
    }
   ],
   "metadata": {}
  },
  {
   "cell_type": "markdown",
   "source": [
    "__Where will your question/problem/task/puzzle take you next?__ "
   ],
   "metadata": {}
  },
  {
   "cell_type": "code",
   "execution_count": null,
   "source": [
    "# TODO convert to a markdown cell and answer the question above here."
   ],
   "outputs": [],
   "metadata": {}
  },
  {
   "cell_type": "markdown",
   "source": [
    "__What topics from the course (if any) would you like to review tomorrow?__"
   ],
   "metadata": {}
  },
  {
   "cell_type": "code",
   "execution_count": null,
   "source": [
    "# TODO convert to a markdown cell and answer the question above here."
   ],
   "outputs": [],
   "metadata": {}
  },
  {
   "cell_type": "markdown",
   "source": [
    "__Feedback__: Please write a few words/lines for today's guest speaker -- EUGENE -- that I can include in a thank you card for him from our class. "
   ],
   "metadata": {}
  },
  {
   "cell_type": "code",
   "execution_count": null,
   "source": [],
   "outputs": [],
   "metadata": {}
  },
  {
   "cell_type": "markdown",
   "source": [
    "__Feedback__: Please write a few words/lines for NINA that I can include in a thank you card for her from our class. "
   ],
   "metadata": {}
  },
  {
   "cell_type": "code",
   "execution_count": null,
   "source": [],
   "outputs": [],
   "metadata": {}
  }
 ],
 "metadata": {
  "interpreter": {
   "hash": "aa7626f1fe2affabef01da0765d13fbea03493880f4f8f3d042b5dfcf7ebd2f5"
  },
  "kernelspec": {
   "name": "python3",
   "display_name": "Python 3.9.6 64-bit"
  },
  "language_info": {
   "codemirror_mode": {
    "name": "ipython",
    "version": 3
   },
   "file_extension": ".py",
   "mimetype": "text/x-python",
   "name": "python",
   "nbconvert_exporter": "python",
   "pygments_lexer": "ipython3",
   "version": "3.9.6"
  }
 },
 "nbformat": 4,
 "nbformat_minor": 2
}